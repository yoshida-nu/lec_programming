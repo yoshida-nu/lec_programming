{
 "cells": [
  {
   "cell_type": "markdown",
   "metadata": {
    "id": "J2HiClorIz2u"
   },
   "source": [
    "# 第13回課題\n",
    "以下の要件を満たすコードを作成しなさい．\n",
    "\n",
    "**＜要件＞**\n",
    "*  すでに入力されているコードは削除・変更しない\n",
    "*  「# ここにコードを記述」のある行にだけコードを追加で記述する\n",
    "*  コメントはすべて削除する\n",
    "*  以下の動作をするように`insert_sort2`関数を完成させる\n",
    ">*  引数として，リストを受け取り，仮引数`data`に代入する\n",
    ">*  挿入ソートアルゴリズムで`data`の要素を昇順にソートする\n",
    ">*  戻り値として，ソート済みのリストと合計比較回数を返す\n",
    "*  14行目のリスト`data`を任意に変更しても，`insert_sort2`関数は上記の動作をする\n",
    "*  13行目以外には空行を作らない\n",
    "*  指定した書式にノートブック名を変更する\n",
    "*  実行結果を表示した状態で提出する\n",
    "\n",
    "---\n",
    "**【参考】コードの実行結果:**   \n",
    "```Python\n",
    "ソート前のデータ: [6, 5, 9, 2, 4]\n",
    "ソート後のデータ: [2, 4, 5, 6, 9]\n",
    "比較回数: 9\n",
    "```\n",
    "---"
   ]
  },
  {
   "cell_type": "code",
   "execution_count": null,
   "metadata": {
    "colab": {
     "base_uri": "https://localhost:8080/"
    },
    "executionInfo": {
     "elapsed": 319,
     "status": "ok",
     "timestamp": 1700357166370,
     "user": {
      "displayName": "Takahiro YOSHIDA",
      "userId": "00096252480874798687"
     },
     "user_tz": -540
    },
    "id": "DbgCuqy6R8nW",
    "outputId": "7ee3e51e-2308-4bff-bd5b-7caafddfb203"
   },
   "outputs": [],
   "source": [
    "def insert_sort2(data):\n",
    "    n = len(data)\n",
    "    # ここにコードを記述\n",
    "    for i in range(1, n):\n",
    "        tmp = data[i]\n",
    "        for j in range(i, 0, -1):\n",
    "            # ここにコードを記述\n",
    "            if data[j-1] > tmp:\n",
    "                data[j-1], data[j] = tmp, data[j-1]\n",
    "            else:\n",
    "                break\n",
    "    # ここにコードを記述\n",
    "\n",
    "a = [6, 5, 9, 2, 4]\n",
    "print(f'ソート前のデータ: {a}')\n",
    "result, t = insert_sort2(a)\n",
    "print(f'ソート後のデータ: {result}')\n",
    "print(f'比較回数: {t}')"
   ]
  }
 ],
 "metadata": {
  "colab": {
   "authorship_tag": "ABX9TyNc6LVAj0VqxLJP5kcfjXO9",
   "provenance": []
  },
  "kernelspec": {
   "display_name": "Python 3",
   "name": "python3"
  },
  "language_info": {
   "codemirror_mode": {
    "name": "ipython",
    "version": 3
   },
   "file_extension": ".py",
   "mimetype": "text/x-python",
   "name": "python",
   "nbconvert_exporter": "python",
   "pygments_lexer": "ipython3",
   "version": "3.11.5"
  }
 },
 "nbformat": 4,
 "nbformat_minor": 0
}
