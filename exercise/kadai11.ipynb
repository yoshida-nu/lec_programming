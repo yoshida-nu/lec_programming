{
 "cells": [
  {
   "cell_type": "markdown",
   "metadata": {
    "id": "WB5GKtxmD5Xe"
   },
   "source": [
    "# 第11回課題\n",
    "以下の要件を満たすコードを作成しなさい．\n",
    "\n",
    "**＜要件＞**\n",
    "*  すでに入力されているコードは削除・変更しない\n",
    "*  「# ここにコードを記述」のある行にだけコードを追加で記述する\n",
    "*  コメントはすべて削除する\n",
    "*  以下の動作をするように`gcd_with_counter`関数を完成させる\n",
    ">*  引数として，0より大きい2つの整数を受け取り，仮引数`a`と`b`にそれぞれ代入する\n",
    ">*  ユークリッドの互除法のアルゴリズムで`a`と`b`の最大公約数を計算する\n",
    ">*  戻り値として，最大公約数とその最大公約数を求めるために行った余りの計算回数のタプルを返す\n",
    "*  9行目以外には空行を作らない\n",
    "*  指定した書式にノートブック名を変更する"
   ]
  },
  {
   "cell_type": "code",
   "execution_count": null,
   "metadata": {},
   "outputs": [],
   "source": [
    "def gcd_with_counter(a, b):\n",
    "    # ここにコードを記述\n",
    "    if a < b:\n",
    "        a, b = b, a\n",
    "    while b != 0:\n",
    "        # ここにコードを記述\n",
    "        a, b = b, a % b        \n",
    "    return (cnt, a)\n",
    "\n",
    "integer1 = 135\n",
    "integer2 = 95\n",
    "result = # ここにコードを記述\n",
    "print(f'ユークリッドの互除法における余りの計算回数: {result[0]}')\n",
    "print(f'{integer1}と{integer2}の最大公約数: {result[1]}')"
   ]
  }
 ],
 "metadata": {
  "colab": {
   "authorship_tag": "ABX9TyMSzoXsgNOppMgZhPbWbp07",
   "provenance": []
  },
  "kernelspec": {
   "display_name": "Python 3",
   "name": "python3"
  },
  "language_info": {
   "codemirror_mode": {
    "name": "ipython",
    "version": 3
   },
   "file_extension": ".py",
   "mimetype": "text/x-python",
   "name": "python",
   "nbconvert_exporter": "python",
   "pygments_lexer": "ipython3",
   "version": "3.11.5"
  }
 },
 "nbformat": 4,
 "nbformat_minor": 0
}
