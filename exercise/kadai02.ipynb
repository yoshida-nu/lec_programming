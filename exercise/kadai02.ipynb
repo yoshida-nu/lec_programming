{
 "cells": [
  {
   "cell_type": "markdown",
   "metadata": {
    "id": "WB5GKtxmD5Xe"
   },
   "source": [
    "# 演習課題：テンパズル\n",
    "4つの数字5,5,1,9を並び順を変えずに，すべて1回ずつ使って10になる計算式を3つ以上考え，実行画面に「10」または「10.0」とそれぞれ表示されるコードを作成せよ． \n",
    "\n",
    "コードに対する要件は以下の通り．\n",
    "*  すでに入力されているコード（1行目）は削除・変更しない\n",
    "*  2行目以降のコメントはすべて削除する\n",
    "*  2行目以降に考えた計算式を表示させるコードを記述する  \n",
    "*  実行画面の各行に1つの計算結果が表示されるようにする\n",
    "*  実行画面の各行には「10」または「10.0」のいずれかが表示されていればよい\n",
    "*  空行を作らない"
   ]
  },
  {
   "cell_type": "code",
   "execution_count": null,
   "metadata": {
    "id": "OtZgfmf6D1ey"
   },
   "outputs": [],
   "source": [
    "print(5 - 5 + 1 + 9)\n",
    "#1行目のコードにならって，ここに計算式の結果を表示するコードを記述\n",
    "#1行目のコードにならって，ここに計算式の結果を表示するコードを記述\n",
    "#1行目のコードにならって，ここに計算式の結果を表示するコードを記述\n",
    "#計算式を4つ以上考えた場合は，これ以降の行に記述"
   ]
  }
 ],
 "metadata": {
  "colab": {
   "authorship_tag": "ABX9TyPfaDL+qVIU68yFzl0Bf5hf",
   "provenance": []
  },
  "kernelspec": {
   "display_name": "Python 3 (ipykernel)",
   "language": "python",
   "name": "python3"
  },
  "language_info": {
   "codemirror_mode": {
    "name": "ipython",
    "version": 3
   },
   "file_extension": ".py",
   "mimetype": "text/x-python",
   "name": "python",
   "nbconvert_exporter": "python",
   "pygments_lexer": "ipython3",
   "version": "3.9.18"
  }
 },
 "nbformat": 4,
 "nbformat_minor": 1
}
