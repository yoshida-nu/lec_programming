{
 "cells": [
  {
   "cell_type": "markdown",
   "metadata": {
    "id": "WB5GKtxmD5Xe"
   },
   "source": [
    "# 第7回課題\n",
    "\n",
    "以下の要件を満たすコードを作成しなさい．\n",
    "\n",
    "**＜要件＞**\n",
    "*  すでに入力されているコードは削除・変更しない\n",
    "*  コメントはすべて削除する\n",
    "*  8行目でディクショナリ`user`を定義する\n",
    ">*  `input`関数で受け取った名前と年齢を値とする\n",
    ">*  名前に対するキーは`name`とし，年齢に対するキーは`age`とする\n",
    ">*  このディクショナリを変数`user`に代入する\n",
    "*  9行目で`welcome`関数を呼び出す（引数に注意する）\n",
    "*  5行目以外には空行を作らない\n",
    "*  指定した書式にノートブック名を変更する\n",
    "*  以下の実行例（名前を「山田花子」，年齢を「20」と入力した場合）と同じ動作となるようにする\n",
    "\n",
    "<img src=\"./fig/07_kadai_example.png\" width=\"350\">\n",
    "\n",
    "*  任意の名前と年齢でも同様の動作となるようにする"
   ]
  },
  {
   "cell_type": "code",
   "execution_count": null,
   "metadata": {},
   "outputs": [],
   "source": [
    "def welcome(u):\n",
    "    print(f'ようこそ{u[\"name\"]}さん')\n",
    "    u['age'] = u['age'] + 1\n",
    "    print(f'あなたは来年{u[\"age\"]}歳だから大吉です!')\n",
    "\n",
    "username = input('名前を入力してください >>')\n",
    "userage = int(input('年齢を入力してください >>'))\n",
    "user = # ここにコードを記述\n",
    "# ここにコードを記述\n",
    "print(f'{user[\"age\"]}歳の{user[\"name\"]}さん、またプレイしてくださいね')"
   ]
  },
  {
   "cell_type": "markdown",
   "metadata": {},
   "source": [
    "**2行目，4行目，10行目の補足:**\n",
    "シングルクオートで囲う文字列の中に，さらにシングルクオートがあるとエラーになるので，ダブルクオートを使っている．"
   ]
  }
 ],
 "metadata": {
  "colab": {
   "authorship_tag": "ABX9TyMZjKub6HxHnsg2m/Tn6iEC",
   "provenance": []
  },
  "kernelspec": {
   "display_name": "Python 3",
   "name": "python3"
  },
  "language_info": {
   "codemirror_mode": {
    "name": "ipython",
    "version": 3
   },
   "file_extension": ".py",
   "mimetype": "text/x-python",
   "name": "python",
   "nbconvert_exporter": "python",
   "pygments_lexer": "ipython3",
   "version": "3.12.4"
  }
 },
 "nbformat": 4,
 "nbformat_minor": 0
}
