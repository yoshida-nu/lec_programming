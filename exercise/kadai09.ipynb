{
 "cells": [
  {
   "cell_type": "markdown",
   "metadata": {
    "id": "WB5GKtxmD5Xe"
   },
   "source": [
    "# 第9回課題\n",
    "以下の要件を満たすコードを作成しなさい．\n",
    "\n",
    "**＜要件＞**\n",
    "*  すでに入力されているコードは削除・変更しない\n",
    "*  コメントはすべて削除する\n",
    "*  以下の動作をするように`while`ブロックを完成させる\n",
    ">*  randomモジュールの関数を利用してリスト`omikuji`の要素からランダムに一つ要素を選ぶ\n",
    ">*  選んだ結果に応じて「あなたの運勢は○○です」と表示する\n",
    ">*  8行目の`input`関数で，1 または 2を入力し，1であれば再度おみくじを引き，2であれば終了する\n",
    "*  4行目以外には空行を作らない\n",
    "*  指定した書式にノートブック名を変更する\n"
   ]
  },
  {
   "cell_type": "code",
   "execution_count": null,
   "metadata": {
    "id": "jX462cI0mwg2"
   },
   "outputs": [],
   "source": [
    "import random\n",
    "omikuji = ['大吉', '中吉', '小吉', '凶']\n",
    "print('おみくじを引きます')\n",
    "\n",
    "while True:\n",
    "    # ここにコードを記述\n",
    "    print(f'あなたの運勢は{result}です')\n",
    "    answer = int(input('もう一度おみくじを引きますか？ 1:はい 2:いいえ >>'))\n",
    "    if # ここにコードを記述\n",
    "       # ここにコードを記述"
   ]
  }
 ],
 "metadata": {
  "colab": {
   "authorship_tag": "ABX9TyMSzoXsgNOppMgZhPbWbp07",
   "provenance": []
  },
  "kernelspec": {
   "display_name": "Python 3",
   "name": "python3"
  },
  "language_info": {
   "codemirror_mode": {
    "name": "ipython",
    "version": 3
   },
   "file_extension": ".py",
   "mimetype": "text/x-python",
   "name": "python",
   "nbconvert_exporter": "python",
   "pygments_lexer": "ipython3",
   "version": "3.11.5"
  }
 },
 "nbformat": 4,
 "nbformat_minor": 0
}
