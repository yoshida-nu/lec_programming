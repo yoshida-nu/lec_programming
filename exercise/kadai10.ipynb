{
 "cells": [
  {
   "cell_type": "markdown",
   "metadata": {
    "id": "WB5GKtxmD5Xe"
   },
   "source": [
    "# 第10回課題\n",
    "以下の要件を満たすコードを作成しなさい．\n",
    "\n",
    "**＜要件＞**\n",
    "*  すでに入力されているコードは削除・変更しない\n",
    "*  「# ここにコードを記述」のある行にだけコードを追加で記述する\n",
    "*  コメントはすべて削除する\n",
    "*  以下の動作をするようにコードを完成させる\n",
    ">*  `input`関数でユーザがインデックス（整数値）を入力すると，そのインデックスとインデックスに対応するリストの要素を`print`関数で表示する\n",
    ">*  入力したインデックスがリストの範囲外であれば，`print`関数で「エラー: インデックスがリストの範囲外です。」と表示する\n",
    ">*  入力したインデックスが整数値でなければ，`print`関数で「エラー: 整数を入力してください。」と表示する\n",
    ">*  `except`ブロックのヘッダーには，具体的な例外クラスを指定する\n",
    "*  2行目以外には空行を作らない\n",
    "*  指定した書式にノートブック名を変更する\n",
    "  \n",
    "**【ヒント】**`except`ブロックを2つ記述する\n",
    "  \n",
    "---\n",
    "**実行結果例 その1**\n",
    "```\n",
    "インデックス番号を入力してください >>3\n",
    "インデックス 3 の要素は 4 です。\n",
    "```\n",
    "**実行結果例 その2**\n",
    "```\n",
    "インデックス番号を入力してください >>ａ\n",
    "エラー: 整数を入力してください。\n",
    "```\n",
    "**実行結果例 その3**\n",
    "```\n",
    "インデックス番号を入力してください >>5\n",
    "エラー: インデックスがリストの範囲外です。\n",
    "```\n",
    "---"
   ]
  },
  {
   "cell_type": "code",
   "execution_count": null,
   "metadata": {
    "id": "jX462cI0mwg2"
   },
   "outputs": [],
   "source": [
    "my_list = [1, 2, 3, 4, 5]\n",
    "\n",
    "# ここにコードを記述\n",
    "    index = int(input('インデックス番号を入力してください >>')) \n",
    "    print(f'インデックス{index}の要素は{my_list[index]}です。')\n",
    "# ここにコードを記述\n",
    "    print('エラー: インデックスがリストの範囲外です。')\n",
    "# ここにコードを記述\n",
    "    print('エラー: 整数を入力してください。')"
   ]
  }
 ],
 "metadata": {
  "colab": {
   "authorship_tag": "ABX9TyMSzoXsgNOppMgZhPbWbp07",
   "provenance": []
  },
  "kernelspec": {
   "display_name": "Python 3",
   "name": "python3"
  },
  "language_info": {
   "codemirror_mode": {
    "name": "ipython",
    "version": 3
   },
   "file_extension": ".py",
   "mimetype": "text/x-python",
   "name": "python",
   "nbconvert_exporter": "python",
   "pygments_lexer": "ipython3",
   "version": "3.11.5"
  }
 },
 "nbformat": 4,
 "nbformat_minor": 0
}
