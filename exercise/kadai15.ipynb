{
 "cells": [
  {
   "cell_type": "markdown",
   "metadata": {
    "id": "J2HiClorIz2u"
   },
   "source": [
    "# 第15回課題\n",
    "以下の要件を満たすコードを作成しなさい．\n",
    "\n",
    "**＜要件＞**\n",
    "*  すでに入力されているコードは削除・変更しない\n",
    "*  「# ここにコードを記述」のある行にだけコードを追加で記述する\n",
    "*  コメントはすべて削除する\n",
    "*  素数を判定する関数`is_prime2`を利用して，小さい順に並べて1番目から10000番目までの素数の合計を計算し，その結果を実行画面に表示するコードを作成せよ．\n",
    "*  2行目，8行目，及び15行目以外には空行を作らない\n",
    "*  指定した書式にノートブック名を変更する\n",
    "*  実行結果を表示した状態で提出する"
   ]
  },
  {
   "cell_type": "code",
   "execution_count": null,
   "metadata": {},
   "outputs": [],
   "source": [
    "import math\n",
    "from math import sqrt\n",
    "\n",
    "def is_prime2(n):\n",
    "    for i in range(2, int(sqrt(n)) + 1):\n",
    "        if n % i == 0:\n",
    "            return False\n",
    "    return True\n",
    "\n",
    "nums = []\n",
    "i = 2\n",
    "while len(nums) < 10000:\n",
    "    if # ここにコードを記述\n",
    "        # ここにコードを記述\n",
    "    # ここにコードを記述\n",
    "\n",
    "total = # ここにコードを記述\n",
    "print(total)"
   ]
  }
 ],
 "metadata": {
  "colab": {
   "authorship_tag": "ABX9TyNc6LVAj0VqxLJP5kcfjXO9",
   "provenance": []
  },
  "kernelspec": {
   "display_name": "pythonev",
   "language": "python",
   "name": "python3"
  },
  "language_info": {
   "codemirror_mode": {
    "name": "ipython",
    "version": 3
   },
   "file_extension": ".py",
   "mimetype": "text/x-python",
   "name": "python",
   "nbconvert_exporter": "python",
   "pygments_lexer": "ipython3",
   "version": "3.10.13"
  }
 },
 "nbformat": 4,
 "nbformat_minor": 0
}
