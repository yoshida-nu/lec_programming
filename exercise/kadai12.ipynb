{
 "cells": [
  {
   "cell_type": "markdown",
   "metadata": {
    "id": "J2HiClorIz2u"
   },
   "source": [
    "# 第12回課題\n",
    "以下の要件を満たすコードを作成しなさい．\n",
    "\n",
    "**＜要件＞**\n",
    "*  すでに入力されているコードは削除・変更しない\n",
    "*  「# ここにコードを記述」のある行にだけコードを追加で記述する\n",
    "*  コメントはすべて削除する\n",
    "*  以下の動作をするように`binary_search2`関数を完成させる\n",
    ">*  引数として，探索対象のリストと目的の要素を受け取り，仮引数`data`と`value`にそれぞれ代入する\n",
    ">*  二分探索アルゴリズムで`data`から`value`を探索する\n",
    ">*  `data`内に`value`があれば戻り値として，そのインデックスと探索回数を返す\n",
    ">*  `data`内に`value`がなければ戻り値として，「-1」と探索回数を返す\n",
    "*  18行目・19行目の探索対象のリスト`data`と目的の要素`value`を任意に変更しても，`binary_search2`関数は上記の動作をする\n",
    "*  17行目以外には空行を作らない\n",
    "*  指定した書式にノートブック名を変更する\n",
    "*  実行結果を表示した状態で提出する\n",
    "\n",
    "---\n",
    "**【参考】コードの実行結果:**   \n",
    "```Python\n",
    "照合データ: 8\n",
    "照合データ: 15\n",
    "照合データ: 10\n",
    "照合データ: 13\n",
    "HIT!\n",
    "\n",
    "探索データ13はdata[10]にあります．\n",
    "探索回数は4回です．\n",
    "```\n",
    "---\n"
   ]
  },
  {
   "cell_type": "code",
   "execution_count": null,
   "metadata": {},
   "outputs": [],
   "source": [
    "def binary_search2(data, value):\n",
    "    # ここにコードを記述\n",
    "    h = 0\n",
    "    t = len(data) - 1\n",
    "    while h <= t:\n",
    "        # ここにコードを記述\n",
    "        m = (h + t) // 2\n",
    "        print(f'照合データ: {data[m]}')\n",
    "        if data[m] == value:\n",
    "            print('HIT!\\n')\n",
    "            # ここにコードを記述\n",
    "        elif data[m] < value:\n",
    "            h = m + 1\n",
    "        else:\n",
    "            t = m - 1\n",
    "    return -1, cnt\n",
    "\n",
    "data = [1, 2, 3, 4, 5, 6, 7, 8, 9, 10, 13, 15, 16, 17, 20]\n",
    "value = 13\n",
    "result, times = binary_search2(data, value)\n",
    "if result != -1:\n",
    "    print(f'探索データ{value}はdata[{result}]にあります．')\n",
    "    print(f'探索回数は{times}回です．')\n",
    "else:\n",
    "    print(f'\\n探索データ{value}は存在しません．')\n",
    "    print(f'探索回数は{times}回です．')"
   ]
  }
 ],
 "metadata": {
  "colab": {
   "authorship_tag": "ABX9TyNd1TDpJFWg5zWn+v9WmlpO",
   "provenance": []
  },
  "kernelspec": {
   "display_name": "Python 3",
   "name": "python3"
  },
  "language_info": {
   "codemirror_mode": {
    "name": "ipython",
    "version": 3
   },
   "file_extension": ".py",
   "mimetype": "text/x-python",
   "name": "python",
   "nbconvert_exporter": "python",
   "pygments_lexer": "ipython3",
   "version": "3.11.5"
  }
 },
 "nbformat": 4,
 "nbformat_minor": 0
}
