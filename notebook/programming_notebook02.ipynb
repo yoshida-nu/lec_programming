{
 "cells": [
  {
   "cell_type": "markdown",
   "metadata": {
    "id": "RHub2_AN-nuY"
   },
   "source": [
    "# 前回の復習"
   ]
  },
  {
   "cell_type": "markdown",
   "metadata": {
    "id": "JduaYv1W-pxa"
   },
   "source": [
    "## セルの基本操作\n",
    "*    ノートブックは複数の「セル」と呼ばれるブロックで構成される\n",
    "*    セルには「コードセル」と「テキストセル」の2種類がある \n",
    "*    セルの上のどこかをクリックすると，そのセルを選択することができる\n",
    "*    コードセルには，Pythonでコードを記述する\n",
    "*    テキストセルには，Markdown（文章を記述するためのマークアップ言語）を使った普通の文書（テキスト，見出し，箇条書き等）が記述できる\n",
    "*    テキストセルの上をダブルクリックすると，そのテキストセルの内容が編集可能となる\n",
    "*    本講義では，Markdown については特に扱わないが，例えば，以下のURLなどに簡単な説明がある  \n",
    ">https://colab.research.google.com/notebooks/markdown_guide.ipynb\n",
    "*    セルの追加はノートブック上部の[＋コード]と[＋テキスト]をクリック（他のやり方もあるので自分で調べてみる or 試してみる）\n",
    "*    セルの削除は，削除するセルを選択してから，ごみ箱アイコンをクリック（他のやり方もあるので自分で調べてみる or 試してみる）\n",
    "*    セルの編集において，よく使うショートカットキーには，以下のようなものがある\n",
    ">*  `[Ctrl] + [C]`: コピー\n",
    ">*  `[Ctrl] + [X]`: 切り取り\n",
    ">*  `[Ctrl] + [V]`: 貼り付け\n",
    ">*  `[Ctrl] + [Z]`: 元に戻す"
   ]
  },
  {
   "cell_type": "markdown",
   "metadata": {
    "id": "MUxZSZb1-s9T"
   },
   "source": [
    "## コードの実行\n",
    "*   コードセルに記述したPythonのコードは， `[Ctrl] + [Enter]` で実行できる（他のやり方もあるので自分で調べてみる or 試してみる）\n",
    "*   試しに以下のコードを実行してみる\n",
    "*   コードの意味については後述"
   ]
  },
  {
   "cell_type": "code",
   "execution_count": 2,
   "metadata": {
    "id": "Vxya914GRpE0"
   },
   "outputs": [
    {
     "name": "stdout",
     "output_type": "stream",
     "text": [
      "Hello World!\n"
     ]
    }
   ],
   "source": [
    "print('Hello World!')"
   ]
  },
  {
   "cell_type": "markdown",
   "metadata": {
    "id": "owvCejc_T-CA"
   },
   "source": [
    "## コメント\n",
    "*  コードセルにおいて，半角「`#`」から始まる行はコメント（メモ）になる\n",
    "*  「`#`」以降，その行の終わりまでがコメントになる\n",
    "*  コメントは行頭からでも，行の途中からでも始めることができる\n",
    "*  後でコードを読み返す時や，他の人がコードをみた時などにおいて，そのコードがどのような処理をしているかといった補足説明のために使う\n",
    "*  また，コードの特定箇所の先頭に「`#`」を付けて（コメント化して）一時的に除外することを「コメントアウト」と呼ぶ\n",
    "*  コメントアウトは，すでに記述されたコードを完全に削除するのではなく一時的に無効化し，動作などを確認する場合に行われる\n",
    "*  `[Ctrl] + [/]`でコメントアウトの設定・解除ができる"
   ]
  },
  {
   "cell_type": "code",
   "execution_count": 3,
   "metadata": {
    "id": "VmwDvAPJFPaB"
   },
   "outputs": [
    {
     "name": "stdout",
     "output_type": "stream",
     "text": [
      "Hello World!\n"
     ]
    }
   ],
   "source": [
    "#printは括弧内で指定したデータを表示する関数\n",
    "print('Hello World!')"
   ]
  },
  {
   "cell_type": "markdown",
   "metadata": {},
   "source": [
    "# ノートブックの設定\n",
    "<img src=\"./fig/01_notebook_setting1.png\" alt=\"ノートブックの設定2\" width=\"700\">\n",
    "\n",
    "*  ノートブック右上の歯車アイコン（上図赤枠部）をクリックすると，ノートブックの設定画面が表示される\n",
    "*  「エディタ」の設定を以下のようにしておく（下図参照）\n",
    ">*  **「インデント幅（スペース）」を「4」にする**\n",
    ">*  **「縦の罫線列」を「120」にする**\n",
    ">*  **「行番号を表示」にチェックを入れる**\n",
    ">*  **「インデントガイドの表示」にチェックを入れる**\n",
    "*  他の設定は任意（特に変更しなくてよい）\n",
    "*  設定が完了したら「保存」をクリックする  \n",
    "  \n",
    "<img src=\"./fig/01_notebook_setting2.png\" alt=\"ノートブックの設定2\" width=\"450\">\n"
   ]
  },
  {
   "cell_type": "markdown",
   "metadata": {},
   "source": [
    "# 文字列と`print`関数"
   ]
  },
  {
   "cell_type": "markdown",
   "metadata": {
    "id": "MtT5OI3Iwhd0"
   },
   "source": [
    "##  （復習）文字列の取り扱い\n",
    "*  文字列はシングルクオート `'` またはダブルクオート `\"` で囲う\n",
    "*  逆にいうと，シングルクオート `'` またはダブルクオート `\"` で囲われたものは，すべて文字列とみなされる\n",
    "*  本講義ではシングルクオート `'` を基本的に利用する \n",
    "*  文字列は「文字列リテラル」とも呼ばれる\n",
    "\n",
    "**書式**： `'文字列'` または `\"文字列\"`  \n",
    "\n",
    "*  整数や小数などの数値（数値リテラルとも呼ばれる）は，シングルクオート `'` やダブルクオート `\"` で囲わずに記述できる"
   ]
  },
  {
   "cell_type": "markdown",
   "metadata": {},
   "source": [
    "## `print` 関数\n",
    "*  上のコードで使用した `print` はPythonであらかじめ用意してくれている「関数」の1つ\n",
    "*  関数はあらかじめ決めておいた一連の処理のこと（詳細は次回以降説明）\n",
    ">*  関数に引き渡すデータのことを引数と呼ぶ\n",
    ">*  関数を使うことを呼び出すという\n",
    ">*  関数が返す値（出力）を戻り値と呼ぶ\n",
    "*  あらかじめ用意されている関数を「組み込み関数」と呼ぶ\n",
    "*  Pythonには多くの組み込み関数が用意されている\n",
    "*  利用者は自由にそれらを使う（呼び出す）ことができる  \n",
    "\n",
    "**例**： `print('Hello World!')` ⇒『文字列「Hello World!」を実行画面に表示しなさい』という意味を持つ命令\n",
    "*  実行画面のことを一般に「標準出力」と呼ぶ"
   ]
  },
  {
   "cell_type": "code",
   "execution_count": 4,
   "metadata": {
    "colab": {
     "base_uri": "https://localhost:8080/"
    },
    "executionInfo": {
     "elapsed": 238,
     "status": "ok",
     "timestamp": 1694309250792,
     "user": {
      "displayName": "Takahiro YOSHIDA",
      "userId": "00096252480874798687"
     },
     "user_tz": -540
    },
    "id": "Me52tEW-v6Jq",
    "outputId": "a0f8fe74-5205-4bef-d875-f4198ad9efcd"
   },
   "outputs": [
    {
     "name": "stdout",
     "output_type": "stream",
     "text": [
      "Hello World!\n",
      "Pythonをはじめよう！\n"
     ]
    }
   ],
   "source": [
    "print('Hello World!')\n",
    "print('Pythonをはじめよう！')"
   ]
  },
  {
   "cell_type": "markdown",
   "metadata": {},
   "source": [
    "*  `print`関数に限らず，関数を呼び出した後は，上のコードのように必ず改行して，次の行に新たな命令を記述する．"
   ]
  },
  {
   "cell_type": "markdown",
   "metadata": {},
   "source": [
    "*  以下のコードは，文字列の「123」と数値の「123」を表示している\n",
    "*  表示は同じように見えるが，Python内部では全く違うデータとして扱われる"
   ]
  },
  {
   "cell_type": "code",
   "execution_count": 5,
   "metadata": {},
   "outputs": [
    {
     "name": "stdout",
     "output_type": "stream",
     "text": [
      "123\n",
      "123\n"
     ]
    }
   ],
   "source": [
    "print('123') # 文字列「123」\n",
    "print(123) # 数値「123」"
   ]
  },
  {
   "cell_type": "markdown",
   "metadata": {},
   "source": [
    "*  `print` 関数は複数の値をカンマ `,` で区切って指定することもできる\n",
    "*  その場合は，指定した各値の間に半角スペースが入った表示になる"
   ]
  },
  {
   "cell_type": "code",
   "execution_count": 6,
   "metadata": {},
   "outputs": [
    {
     "name": "stdout",
     "output_type": "stream",
     "text": [
      "Pythonを はじめよう ！\n"
     ]
    }
   ],
   "source": [
    "print('Pythonを', 'はじめよう', '！')"
   ]
  },
  {
   "cell_type": "markdown",
   "metadata": {
    "id": "aahg1Fdy66NJ"
   },
   "source": [
    "*  文字列の途中に `\\n` を入れることで改行できる"
   ]
  },
  {
   "cell_type": "code",
   "execution_count": 7,
   "metadata": {
    "colab": {
     "base_uri": "https://localhost:8080/"
    },
    "executionInfo": {
     "elapsed": 435,
     "status": "ok",
     "timestamp": 1662792457347,
     "user": {
      "displayName": "Takahiro YOSHIDA",
      "userId": "00096252480874798687"
     },
     "user_tz": -540
    },
    "id": "D7LI5qM3J1Nc",
    "outputId": "6a470371-6dc5-496d-dd9a-5ec46d93d80d"
   },
   "outputs": [
    {
     "name": "stdout",
     "output_type": "stream",
     "text": [
      "Hello World!\n",
      "Pythonをはじめよう！\n"
     ]
    }
   ],
   "source": [
    "print('Hello World!\\nPythonをはじめよう！')"
   ]
  },
  {
   "cell_type": "markdown",
   "metadata": {
    "id": "GcJ-ejPH1-nw"
   },
   "source": [
    "*  シングルクオートまたはダブルクオートを3つ連ねたもの（`'''` または `\"\"\"`）を使えば，改行を含む文字列を定義することもできる\n",
    "*  この記述方法のことを「ヒアドキュメント」と呼ぶ\n",
    "*  ヒアドキュメントはコメントとしても使用可能"
   ]
  },
  {
   "cell_type": "code",
   "execution_count": 54,
   "metadata": {
    "colab": {
     "base_uri": "https://localhost:8080/"
    },
    "executionInfo": {
     "elapsed": 334,
     "status": "ok",
     "timestamp": 1662792532441,
     "user": {
      "displayName": "Takahiro YOSHIDA",
      "userId": "00096252480874798687"
     },
     "user_tz": -540
    },
    "id": "ETLIP1Ac2Hn4",
    "outputId": "00c2ca98-c955-4345-f688-78a5f5245f4d"
   },
   "outputs": [
    {
     "name": "stdout",
     "output_type": "stream",
     "text": [
      "こんにちは！\n",
      "Hello World!\n",
      "Pythonをはじめよう！\n"
     ]
    }
   ],
   "source": [
    "'''\n",
    "ヒアドキュメントを使えば，\n",
    "改行を含む文字列をprint関数\n",
    "で表示することもできる\n",
    "'''\n",
    "print('''こんにちは！\n",
    "Hello World!\n",
    "Pythonをはじめよう！''')"
   ]
  },
  {
   "cell_type": "markdown",
   "metadata": {
    "id": "ePIuMGgLF9Az"
   },
   "source": [
    "*  シングルクオートを文字列として扱う場合は，ダブルクオートで囲って文字列を定義する\n",
    "*  また，シングルクオートで囲って定義する場合は，文字列として扱いたいシングルクオートの前にバックスラッシュ `\\`を入れる\n"
   ]
  },
  {
   "cell_type": "code",
   "execution_count": 9,
   "metadata": {
    "colab": {
     "base_uri": "https://localhost:8080/"
    },
    "executionInfo": {
     "elapsed": 274,
     "status": "ok",
     "timestamp": 1662792610953,
     "user": {
      "displayName": "Takahiro YOSHIDA",
      "userId": "00096252480874798687"
     },
     "user_tz": -540
    },
    "id": "N-iVBLDtKakR",
    "outputId": "b8a74e0b-32a9-408e-d07f-a3e75a6163f2"
   },
   "outputs": [
    {
     "name": "stdout",
     "output_type": "stream",
     "text": [
      "doesn't\n",
      "doesn't\n"
     ]
    }
   ],
   "source": [
    "print(\"doesn't\")\n",
    "print('doesn\\'t')"
   ]
  },
  {
   "cell_type": "markdown",
   "metadata": {
    "id": "wM7DA2tq43dc"
   },
   "source": [
    "*  ダブルクオートを文字列として扱う場合もシングルクオートの考え方と同様"
   ]
  },
  {
   "cell_type": "code",
   "execution_count": 10,
   "metadata": {
    "colab": {
     "base_uri": "https://localhost:8080/"
    },
    "executionInfo": {
     "elapsed": 3,
     "status": "ok",
     "timestamp": 1694308850490,
     "user": {
      "displayName": "Takahiro YOSHIDA",
      "userId": "00096252480874798687"
     },
     "user_tz": -540
    },
    "id": "TrrBHE0uK6lu",
    "outputId": "9f36a4b5-09b9-40b2-e309-75be921a749f"
   },
   "outputs": [
    {
     "name": "stdout",
     "output_type": "stream",
     "text": [
      "\"Isn't\" she said.\n",
      "\"Isn't\" she said.\n"
     ]
    }
   ],
   "source": [
    "print('\"Isn\\'t\" she said.')\n",
    "print(\"\\\"Isn't\\\" she said.\")"
   ]
  },
  {
   "cell_type": "markdown",
   "metadata": {
    "id": "S_1Swikxp_wp"
   },
   "source": [
    "## エスケープシーケンス\n",
    "* 上記のコードで使った「`\\n`」や「`\\'`」のように「`\\`」 とそれに続く記号からなる文字列をエスケープシーケンスと呼ぶ\n",
    "\n",
    "|代表的なエスケープシーケンス|説明|\n",
    "|:-:|:--|\n",
    "| `\\n` | 改行 |\n",
    "|`\\\\` |「`\\`」(バックスラッシュ) |\n",
    "| `\\'` |「`'`」(シングルクオート) |\n",
    "| `\\\"` |「`\"`」(ダブルクオート) |\n",
    "|`\\t` |タブ|\n",
    "\n",
    "* Pythonの実行環境によって「`\\`」は「￥」と表示されることもある．"
   ]
  },
  {
   "cell_type": "markdown",
   "metadata": {
    "id": "J_F45gUBs5cY"
   },
   "source": [
    "## 文字列のインデックス指定\n",
    "*  文字列の後ろに「`[0]`」や「`[1]`」といったインデックスを指定することで，指定したインデックスの場所のみの文字を取り出すことができる  \n",
    "*  インデックスに「`[-1]`」を指定すると，末尾の文字が取り出される\n",
    "*  文字列の長さ以上のインデックスを指定するとエラーになる（エラーの詳細については次回以降説明）"
   ]
  },
  {
   "cell_type": "code",
   "execution_count": 11,
   "metadata": {
    "colab": {
     "base_uri": "https://localhost:8080/"
    },
    "executionInfo": {
     "elapsed": 2,
     "status": "ok",
     "timestamp": 1694309436175,
     "user": {
      "displayName": "Takahiro YOSHIDA",
      "userId": "00096252480874798687"
     },
     "user_tz": -540
    },
    "id": "nKNVQfoztLcu",
    "outputId": "d3b4193f-f610-47bc-8e94-3ed0dee3e1ea"
   },
   "outputs": [
    {
     "name": "stdout",
     "output_type": "stream",
     "text": [
      "Hello World!\n",
      "H\n",
      "e\n",
      "l\n",
      "l\n",
      "o\n",
      "!\n"
     ]
    }
   ],
   "source": [
    "print('Hello World!')\n",
    "print('Hello World!'[0])\n",
    "print('Hello World!'[1])\n",
    "print('Hello World!'[2])\n",
    "print('Hello World!'[3])\n",
    "print('Hello World!'[4])\n",
    "print('Hello World!'[-1])"
   ]
  },
  {
   "cell_type": "markdown",
   "metadata": {
    "id": "VekeJYDMvR1H"
   },
   "source": [
    "## 文字列のスライス指定\n",
    "*  文字列のインデックス指定を拡張したスライス指定を使うと，文字列の一部の文字列を取り出すことができる\n",
    "  \n",
    ">  **書式**： `文字列[開始インデックス:終了インデックス+1:ステップ数]`\n",
    "  \n",
    "*  ステップ数は省略することもできる（この場合のステップ数は1）\n",
    "*  また，開始インデックスが文字列の先頭の場合と終了インデックスが末尾の場合は数値を省略できる"
   ]
  },
  {
   "cell_type": "code",
   "execution_count": null,
   "metadata": {
    "colab": {
     "base_uri": "https://localhost:8080/"
    },
    "executionInfo": {
     "elapsed": 7,
     "status": "ok",
     "timestamp": 1694310283724,
     "user": {
      "displayName": "Takahiro YOSHIDA",
      "userId": "00096252480874798687"
     },
     "user_tz": -540
    },
    "id": "7wwMz4ylvnUj",
    "outputId": "3c237ae3-54eb-4be0-b476-012fd31f5fd1",
    "scrolled": false
   },
   "outputs": [
    {
     "name": "stdout",
     "output_type": "stream",
     "text": [
      "Hello World!\n",
      "ell\n",
      "el o\n",
      "Hell\n",
      "orld!\n"
     ]
    }
   ],
   "source": [
    "print('Hello World!')\n",
    "\n",
    "# インデックスが1～3までの3文字（ステップ数省略）\n",
    "print('Hello World!'[1:4])\n",
    "\n",
    "# インデックス1,3,5,7\n",
    "print('Hello World!'[1:8:2])\n",
    "\n",
    "# 開始インデックスが先頭\n",
    "print('Hello World!'[:4])\n",
    "\n",
    "# 終了インデックスが末尾\n",
    "print('Hello World!'[7:])"
   ]
  },
  {
   "cell_type": "markdown",
   "metadata": {},
   "source": [
    "*  文字列「python」 の正負のインデックスは下表のとおり\n",
    "\n",
    "||p|y|t|h|o|n|\n",
    "|-|--|--|--|--|--|--|\n",
    "|非負（0か正）のインデックス|0|1|2|3|4|5|\n",
    "|負のインデックス|-6|-5|-4|-3|-2|-1|"
   ]
  },
  {
   "cell_type": "markdown",
   "metadata": {
    "id": "pd9qpwWhPPxg"
   },
   "source": [
    "## 文字列の長さ\n",
    "*  組み込み関数の `len` 関数を使うと文字列（引数）の長さを取得できる"
   ]
  },
  {
   "cell_type": "code",
   "execution_count": 13,
   "metadata": {
    "colab": {
     "base_uri": "https://localhost:8080/"
    },
    "executionInfo": {
     "elapsed": 3,
     "status": "ok",
     "timestamp": 1694318339929,
     "user": {
      "displayName": "Takahiro YOSHIDA",
      "userId": "00096252480874798687"
     },
     "user_tz": -540
    },
    "id": "iyAX9pXuPcxL",
    "outputId": "2151c13d-0177-4fb6-e9be-0cba9e577a93"
   },
   "outputs": [
    {
     "data": {
      "text/plain": [
       "12"
      ]
     },
     "execution_count": 13,
     "metadata": {},
     "output_type": "execute_result"
    }
   ],
   "source": [
    "len('Hello World!')"
   ]
  },
  {
   "cell_type": "markdown",
   "metadata": {
    "id": "HIEQZncB_qjQ"
   },
   "source": [
    "# 算術演算子\n",
    "*  計算（算術演算）するときに使う「`+`」「`-`」「`*`」「`/`」を算術演算子と呼ぶ\n",
    "\n",
    "|算術演算子| 意味 |\n",
    "|:-:|:--|\n",
    "| `+` | 加算 |\n",
    "| `-` | 減算 |\n",
    "| `*` | 乗算 |\n",
    "| `/` | 除算（小数） |\n",
    "| `//` | 除算の商（整数） |\n",
    "| `%` | 除算の余り（整数） |\n",
    "| `**` | べき乗 |\n",
    "\n"
   ]
  },
  {
   "cell_type": "code",
   "execution_count": 14,
   "metadata": {
    "colab": {
     "base_uri": "https://localhost:8080/"
    },
    "executionInfo": {
     "elapsed": 8,
     "status": "ok",
     "timestamp": 1662370766372,
     "user": {
      "displayName": "Takahiro YOSHIDA",
      "userId": "00096252480874798687"
     },
     "user_tz": -540
    },
    "id": "EFu_iVciBKdv",
    "outputId": "787633f6-a561-4909-de51-9a4fd1ecd622"
   },
   "outputs": [
    {
     "data": {
      "text/plain": [
       "2"
      ]
     },
     "execution_count": 14,
     "metadata": {},
     "output_type": "execute_result"
    }
   ],
   "source": [
    "1 + 1"
   ]
  },
  {
   "cell_type": "code",
   "execution_count": 15,
   "metadata": {
    "colab": {
     "base_uri": "https://localhost:8080/"
    },
    "executionInfo": {
     "elapsed": 282,
     "status": "ok",
     "timestamp": 1662371216795,
     "user": {
      "displayName": "Takahiro YOSHIDA",
      "userId": "00096252480874798687"
     },
     "user_tz": -540
    },
    "id": "yqiyeao0CnSe",
    "outputId": "ed8e7f4c-d7ff-48a3-cf65-2dbad3e38204"
   },
   "outputs": [
    {
     "data": {
      "text/plain": [
       "13.7"
      ]
     },
     "execution_count": 15,
     "metadata": {},
     "output_type": "execute_result"
    }
   ],
   "source": [
    "10.5 + 3.2"
   ]
  },
  {
   "cell_type": "code",
   "execution_count": 16,
   "metadata": {
    "colab": {
     "base_uri": "https://localhost:8080/"
    },
    "executionInfo": {
     "elapsed": 7,
     "status": "ok",
     "timestamp": 1662371151641,
     "user": {
      "displayName": "Takahiro YOSHIDA",
      "userId": "00096252480874798687"
     },
     "user_tz": -540
    },
    "id": "97CKGGkSCqye",
    "outputId": "d1b4a83b-49b5-40ee-a9d0-97c7d7a7d5c7"
   },
   "outputs": [
    {
     "data": {
      "text/plain": [
       "4"
      ]
     },
     "execution_count": 16,
     "metadata": {},
     "output_type": "execute_result"
    }
   ],
   "source": [
    "10 - 6"
   ]
  },
  {
   "cell_type": "code",
   "execution_count": 17,
   "metadata": {
    "colab": {
     "base_uri": "https://localhost:8080/"
    },
    "executionInfo": {
     "elapsed": 265,
     "status": "ok",
     "timestamp": 1662371234937,
     "user": {
      "displayName": "Takahiro YOSHIDA",
      "userId": "00096252480874798687"
     },
     "user_tz": -540
    },
    "id": "aV4cieI8C9km",
    "outputId": "bb5f90bf-060a-499e-8139-d55bfdf9ce93"
   },
   "outputs": [
    {
     "data": {
      "text/plain": [
       "3.2"
      ]
     },
     "execution_count": 17,
     "metadata": {},
     "output_type": "execute_result"
    }
   ],
   "source": [
    "5.2 - 2"
   ]
  },
  {
   "cell_type": "code",
   "execution_count": 18,
   "metadata": {
    "colab": {
     "base_uri": "https://localhost:8080/"
    },
    "executionInfo": {
     "elapsed": 6,
     "status": "ok",
     "timestamp": 1662371164288,
     "user": {
      "displayName": "Takahiro YOSHIDA",
      "userId": "00096252480874798687"
     },
     "user_tz": -540
    },
    "id": "6_sAuD91CtNG",
    "outputId": "8f39022d-6883-4c67-ae6e-bff98da21436"
   },
   "outputs": [
    {
     "data": {
      "text/plain": [
       "-3"
      ]
     },
     "execution_count": 18,
     "metadata": {},
     "output_type": "execute_result"
    }
   ],
   "source": [
    "5 - 8"
   ]
  },
  {
   "cell_type": "code",
   "execution_count": 19,
   "metadata": {
    "colab": {
     "base_uri": "https://localhost:8080/"
    },
    "executionInfo": {
     "elapsed": 271,
     "status": "ok",
     "timestamp": 1662371189478,
     "user": {
      "displayName": "Takahiro YOSHIDA",
      "userId": "00096252480874798687"
     },
     "user_tz": -540
    },
    "id": "-NjZzm9wCxkO",
    "outputId": "bd2fd278-8dfd-4d99-8e41-b83e86c4d4de"
   },
   "outputs": [
    {
     "data": {
      "text/plain": [
       "2"
      ]
     },
     "execution_count": 19,
     "metadata": {},
     "output_type": "execute_result"
    }
   ],
   "source": [
    "-3 + 5"
   ]
  },
  {
   "cell_type": "code",
   "execution_count": 20,
   "metadata": {
    "colab": {
     "base_uri": "https://localhost:8080/"
    },
    "executionInfo": {
     "elapsed": 297,
     "status": "ok",
     "timestamp": 1662371200804,
     "user": {
      "displayName": "Takahiro YOSHIDA",
      "userId": "00096252480874798687"
     },
     "user_tz": -540
    },
    "id": "tn1TruSgC2De",
    "outputId": "9231e3e0-a1c1-48fb-f676-bf4874b14ada"
   },
   "outputs": [
    {
     "data": {
      "text/plain": [
       "16"
      ]
     },
     "execution_count": 20,
     "metadata": {},
     "output_type": "execute_result"
    }
   ],
   "source": [
    "2 * 8"
   ]
  },
  {
   "cell_type": "code",
   "execution_count": 21,
   "metadata": {
    "colab": {
     "base_uri": "https://localhost:8080/"
    },
    "executionInfo": {
     "elapsed": 2,
     "status": "ok",
     "timestamp": 1662371316762,
     "user": {
      "displayName": "Takahiro YOSHIDA",
      "userId": "00096252480874798687"
     },
     "user_tz": -540
    },
    "id": "PPIxSD7TC5d-",
    "outputId": "4da99b83-5621-44bf-e50e-8729e9493138"
   },
   "outputs": [
    {
     "data": {
      "text/plain": [
       "12.8"
      ]
     },
     "execution_count": 21,
     "metadata": {},
     "output_type": "execute_result"
    }
   ],
   "source": [
    "4 * 3.2"
   ]
  },
  {
   "cell_type": "code",
   "execution_count": 22,
   "metadata": {
    "colab": {
     "base_uri": "https://localhost:8080/"
    },
    "executionInfo": {
     "elapsed": 283,
     "status": "ok",
     "timestamp": 1662371454582,
     "user": {
      "displayName": "Takahiro YOSHIDA",
      "userId": "00096252480874798687"
     },
     "user_tz": -540
    },
    "id": "jozrKmXiD0xO",
    "outputId": "4b3696af-7b01-4163-9fef-7a201d430940"
   },
   "outputs": [
    {
     "data": {
      "text/plain": [
       "8"
      ]
     },
     "execution_count": 22,
     "metadata": {},
     "output_type": "execute_result"
    }
   ],
   "source": [
    "2 ** 3"
   ]
  },
  {
   "cell_type": "code",
   "execution_count": 23,
   "metadata": {
    "colab": {
     "base_uri": "https://localhost:8080/"
    },
    "executionInfo": {
     "elapsed": 309,
     "status": "ok",
     "timestamp": 1662371376413,
     "user": {
      "displayName": "Takahiro YOSHIDA",
      "userId": "00096252480874798687"
     },
     "user_tz": -540
    },
    "id": "yEkRR49hDhPm",
    "outputId": "ffe0c540-a810-470b-cb8d-ca73620c73db"
   },
   "outputs": [
    {
     "data": {
      "text/plain": [
       "5.0"
      ]
     },
     "execution_count": 23,
     "metadata": {},
     "output_type": "execute_result"
    }
   ],
   "source": [
    "100 / 20"
   ]
  },
  {
   "cell_type": "code",
   "execution_count": 24,
   "metadata": {
    "colab": {
     "base_uri": "https://localhost:8080/"
    },
    "executionInfo": {
     "elapsed": 260,
     "status": "ok",
     "timestamp": 1662371515283,
     "user": {
      "displayName": "Takahiro YOSHIDA",
      "userId": "00096252480874798687"
     },
     "user_tz": -540
    },
    "id": "zoWf9xUZD372",
    "outputId": "3fe860f9-f35d-4e9b-fbb4-0eaa9279e5cf"
   },
   "outputs": [
    {
     "data": {
      "text/plain": [
       "2.5"
      ]
     },
     "execution_count": 24,
     "metadata": {},
     "output_type": "execute_result"
    }
   ],
   "source": [
    "10 / 4"
   ]
  },
  {
   "cell_type": "code",
   "execution_count": 25,
   "metadata": {
    "colab": {
     "base_uri": "https://localhost:8080/"
    },
    "executionInfo": {
     "elapsed": 306,
     "status": "ok",
     "timestamp": 1662371503997,
     "user": {
      "displayName": "Takahiro YOSHIDA",
      "userId": "00096252480874798687"
     },
     "user_tz": -540
    },
    "id": "TUbIHJFUD8Km",
    "outputId": "a4473043-a18c-49a0-858f-8a1f94c06ca7"
   },
   "outputs": [
    {
     "data": {
      "text/plain": [
       "3"
      ]
     },
     "execution_count": 25,
     "metadata": {},
     "output_type": "execute_result"
    }
   ],
   "source": [
    "10 // 3"
   ]
  },
  {
   "cell_type": "code",
   "execution_count": 26,
   "metadata": {
    "colab": {
     "base_uri": "https://localhost:8080/"
    },
    "executionInfo": {
     "elapsed": 2,
     "status": "ok",
     "timestamp": 1662371506508,
     "user": {
      "displayName": "Takahiro YOSHIDA",
      "userId": "00096252480874798687"
     },
     "user_tz": -540
    },
    "id": "dpIYIDZKD-pl",
    "outputId": "e0e0ef6a-1756-4fe9-f21e-32f211583910"
   },
   "outputs": [
    {
     "data": {
      "text/plain": [
       "1"
      ]
     },
     "execution_count": 26,
     "metadata": {},
     "output_type": "execute_result"
    }
   ],
   "source": [
    "10 % 3"
   ]
  },
  {
   "cell_type": "markdown",
   "metadata": {},
   "source": [
    "## 算術演算子の優先順位\n",
    "*  式の中に複数の算術演算子が含まれる場合には，優先順位が高いものから順に処理される\n",
    "*  同じ優先順位の算術演算子が複数ある場合は，左にある演算子から処理される\n",
    "\n",
    "| 優先順位 | 算術演算子 |\n",
    "|:-:|:--|\n",
    "| 高 | `**` |\n",
    "| 中 | `*`, `/`, `%` |\n",
    "| 低 | `+`, `-` |\n",
    "\n",
    "*  式中の一部を丸括弧 `()` で囲むと，括弧内の演算から処理される"
   ]
  },
  {
   "cell_type": "code",
   "execution_count": 27,
   "metadata": {
    "colab": {
     "base_uri": "https://localhost:8080/"
    },
    "executionInfo": {
     "elapsed": 293,
     "status": "ok",
     "timestamp": 1662371353366,
     "user": {
      "displayName": "Takahiro YOSHIDA",
      "userId": "00096252480874798687"
     },
     "user_tz": -540
    },
    "id": "ErvzTbPcDbfO",
    "outputId": "206d9fba-1097-42b5-f3f1-dadbc660f74a"
   },
   "outputs": [
    {
     "data": {
      "text/plain": [
       "14"
      ]
     },
     "execution_count": 27,
     "metadata": {},
     "output_type": "execute_result"
    }
   ],
   "source": [
    "10 - 5 + 9"
   ]
  },
  {
   "cell_type": "code",
   "execution_count": 28,
   "metadata": {
    "colab": {
     "base_uri": "https://localhost:8080/"
    },
    "executionInfo": {
     "elapsed": 7,
     "status": "ok",
     "timestamp": 1662371364960,
     "user": {
      "displayName": "Takahiro YOSHIDA",
      "userId": "00096252480874798687"
     },
     "user_tz": -540
    },
    "id": "tCtmh3_WDejO",
    "outputId": "739b60fc-7e6b-47eb-a56b-265b353d79e2"
   },
   "outputs": [
    {
     "data": {
      "text/plain": [
       "16"
      ]
     },
     "execution_count": 28,
     "metadata": {},
     "output_type": "execute_result"
    }
   ],
   "source": [
    "2 * 2 ** 3"
   ]
  },
  {
   "cell_type": "code",
   "execution_count": 29,
   "metadata": {
    "colab": {
     "base_uri": "https://localhost:8080/"
    },
    "executionInfo": {
     "elapsed": 2,
     "status": "ok",
     "timestamp": 1662371423646,
     "user": {
      "displayName": "Takahiro YOSHIDA",
      "userId": "00096252480874798687"
     },
     "user_tz": -540
    },
    "id": "TvfKEsH_DmJ-",
    "outputId": "2d9cc776-101c-4d87-bc31-ec7fc2c443e0"
   },
   "outputs": [
    {
     "data": {
      "text/plain": [
       "10.0"
      ]
     },
     "execution_count": 29,
     "metadata": {},
     "output_type": "execute_result"
    }
   ],
   "source": [
    "(5 + 2 - 3) / 2 * 5"
   ]
  },
  {
   "cell_type": "markdown",
   "metadata": {
    "id": "L6C-8oe12ytQ"
   },
   "source": [
    "*  複数の計算結果を同時に表示したい場合は `print` 関数を使う"
   ]
  },
  {
   "cell_type": "code",
   "execution_count": 30,
   "metadata": {
    "colab": {
     "base_uri": "https://localhost:8080/"
    },
    "executionInfo": {
     "elapsed": 8,
     "status": "ok",
     "timestamp": 1662371764790,
     "user": {
      "displayName": "Takahiro YOSHIDA",
      "userId": "00096252480874798687"
     },
     "user_tz": -540
    },
    "id": "AdCnC3lOE8LX",
    "outputId": "211ac24f-67c6-450b-bfcc-7316dd419cc6"
   },
   "outputs": [
    {
     "name": "stdout",
     "output_type": "stream",
     "text": [
      "3\n",
      "1\n",
      "10.0\n"
     ]
    }
   ],
   "source": [
    "print(10 // 3)\n",
    "print(10 % 3)\n",
    "print((5 + 2 - 3) / 2 * 5)"
   ]
  },
  {
   "cell_type": "markdown",
   "metadata": {
    "id": "H6uoNunR6B2A"
   },
   "source": [
    "*  文字列に対して `+` を使うと，文字列が連結できる（※ 数値の場合と処理が異なる）\n",
    "*  また，`*` を使うと，文字列の反復が表現できる"
   ]
  },
  {
   "cell_type": "code",
   "execution_count": 55,
   "metadata": {
    "colab": {
     "base_uri": "https://localhost:8080/",
     "height": 36
    },
    "executionInfo": {
     "elapsed": 266,
     "status": "ok",
     "timestamp": 1662788432551,
     "user": {
      "displayName": "Takahiro YOSHIDA",
      "userId": "00096252480874798687"
     },
     "user_tz": -540
    },
    "id": "4Omyz0dU6Xu7",
    "outputId": "d76178fa-50f6-48ad-865d-c6db6f88c12a"
   },
   "outputs": [
    {
     "name": "stdout",
     "output_type": "stream",
     "text": [
      "Hello World!\n",
      "Pythonの世界へようこそ\n",
      "Pythonはとってもとってもとっても楽しいですよ\n"
     ]
    }
   ],
   "source": [
    "print('Hello' + ' ' + 'World!')\n",
    "print('Python' + 'の世界へようこそ')\n",
    "print('Pythonは' + 'とっても' * 3 + '楽しいですよ')\n"
   ]
  },
  {
   "cell_type": "markdown",
   "metadata": {},
   "source": [
    "# 式と評価\n",
    "*  上記のような，`print`関数内に記述した部分のことを「**式**」と呼ぶ\n",
    "*  式とは，演算子（演算を指示するための記号）と，その演算子によって演算されるもの（これを「**オペランド**」と呼ぶ）が並んでいるものを指す\n",
    "*  オペランドは，数値や文字列などのリテラル（後述）となる\n",
    "*  多くの場合は，演算子の左右にオペランドを記述する"
   ]
  },
  {
   "cell_type": "markdown",
   "metadata": {
    "id": "_Txf6qipBpMO"
   },
   "source": [
    "# 比較演算子\n",
    "* 2つの値の大小を比較するための演算子\n",
    "* 演算結果は「True」と「False」のいずれかの値をとる\n",
    "* このような値を論理型（bool）の値と呼ぶ（詳細は後述）\n",
    "* 比較演算子を使った式が正しければ「True（真）」で，間違っていれば「False（偽）」となる\n",
    "\n",
    "|比較演算子|意味|\n",
    "|:-:|:-:|\n",
    "| < | 小さい |\n",
    "| > | 大きい |\n",
    "| <= | 以上 |\n",
    "| >= | 以下 |\n",
    "| == | 等しい |\n",
    "| != | 等しくない |"
   ]
  },
  {
   "cell_type": "code",
   "execution_count": 32,
   "metadata": {
    "colab": {
     "base_uri": "https://localhost:8080/"
    },
    "executionInfo": {
     "elapsed": 22,
     "status": "ok",
     "timestamp": 1662788011296,
     "user": {
      "displayName": "Takahiro YOSHIDA",
      "userId": "00096252480874798687"
     },
     "user_tz": -540
    },
    "id": "fUc6YRdo40KN",
    "outputId": "ceaf7b76-6592-428f-fd55-fc8129b07d55"
   },
   "outputs": [
    {
     "data": {
      "text/plain": [
       "True"
      ]
     },
     "execution_count": 32,
     "metadata": {},
     "output_type": "execute_result"
    }
   ],
   "source": [
    "1 < 2"
   ]
  },
  {
   "cell_type": "code",
   "execution_count": 33,
   "metadata": {
    "colab": {
     "base_uri": "https://localhost:8080/"
    },
    "executionInfo": {
     "elapsed": 397,
     "status": "ok",
     "timestamp": 1662788034812,
     "user": {
      "displayName": "Takahiro YOSHIDA",
      "userId": "00096252480874798687"
     },
     "user_tz": -540
    },
    "id": "bEw3pnAi46Dz",
    "outputId": "8b1fb16f-cf6b-4b6c-8f1f-b4e416f039b4"
   },
   "outputs": [
    {
     "data": {
      "text/plain": [
       "False"
      ]
     },
     "execution_count": 33,
     "metadata": {},
     "output_type": "execute_result"
    }
   ],
   "source": [
    "10 > 10"
   ]
  },
  {
   "cell_type": "code",
   "execution_count": 34,
   "metadata": {
    "colab": {
     "base_uri": "https://localhost:8080/"
    },
    "executionInfo": {
     "elapsed": 333,
     "status": "ok",
     "timestamp": 1662788046698,
     "user": {
      "displayName": "Takahiro YOSHIDA",
      "userId": "00096252480874798687"
     },
     "user_tz": -540
    },
    "id": "j_clYVol4_E8",
    "outputId": "7c7a1c62-29d2-4f8c-865d-d730169ff762"
   },
   "outputs": [
    {
     "data": {
      "text/plain": [
       "True"
      ]
     },
     "execution_count": 34,
     "metadata": {},
     "output_type": "execute_result"
    }
   ],
   "source": [
    "10 >= 10"
   ]
  },
  {
   "cell_type": "code",
   "execution_count": 35,
   "metadata": {
    "colab": {
     "base_uri": "https://localhost:8080/"
    },
    "executionInfo": {
     "elapsed": 353,
     "status": "ok",
     "timestamp": 1662788118704,
     "user": {
      "displayName": "Takahiro YOSHIDA",
      "userId": "00096252480874798687"
     },
     "user_tz": -540
    },
    "id": "Aj9h7aDB5C1C",
    "outputId": "8848a78a-0b99-41ee-9fb5-cc89ccd3122f"
   },
   "outputs": [
    {
     "data": {
      "text/plain": [
       "False"
      ]
     },
     "execution_count": 35,
     "metadata": {},
     "output_type": "execute_result"
    }
   ],
   "source": [
    "5 == 2"
   ]
  },
  {
   "cell_type": "code",
   "execution_count": 36,
   "metadata": {
    "colab": {
     "base_uri": "https://localhost:8080/"
    },
    "executionInfo": {
     "elapsed": 308,
     "status": "ok",
     "timestamp": 1662788108520,
     "user": {
      "displayName": "Takahiro YOSHIDA",
      "userId": "00096252480874798687"
     },
     "user_tz": -540
    },
    "id": "6tM-VeGH5HFr",
    "outputId": "157d90bb-f9f5-4b3b-f7b8-b9f4b6c44f20"
   },
   "outputs": [
    {
     "data": {
      "text/plain": [
       "True"
      ]
     },
     "execution_count": 36,
     "metadata": {},
     "output_type": "execute_result"
    }
   ],
   "source": [
    "5 != 2"
   ]
  },
  {
   "cell_type": "code",
   "execution_count": 37,
   "metadata": {
    "colab": {
     "base_uri": "https://localhost:8080/"
    },
    "executionInfo": {
     "elapsed": 471,
     "status": "ok",
     "timestamp": 1662788133533,
     "user": {
      "displayName": "Takahiro YOSHIDA",
      "userId": "00096252480874798687"
     },
     "user_tz": -540
    },
    "id": "Zx0YVO4J5UV_",
    "outputId": "d18b0318-2d9d-4847-ddaf-44e85e026677"
   },
   "outputs": [
    {
     "data": {
      "text/plain": [
       "False"
      ]
     },
     "execution_count": 37,
     "metadata": {},
     "output_type": "execute_result"
    }
   ],
   "source": [
    "1 + 1 == 3"
   ]
  },
  {
   "cell_type": "markdown",
   "metadata": {
    "id": "YC8mghEp5fdG"
   },
   "source": [
    "* 文字列に対して比較演算子を用いることもできる．  \n",
    "* 数値の場合は数の大きさで大小比較しているが，文字列の場合はアルファベット順による大小比較を行っている．"
   ]
  },
  {
   "cell_type": "code",
   "execution_count": 38,
   "metadata": {
    "colab": {
     "base_uri": "https://localhost:8080/"
    },
    "executionInfo": {
     "elapsed": 291,
     "status": "ok",
     "timestamp": 1662788167602,
     "user": {
      "displayName": "Takahiro YOSHIDA",
      "userId": "00096252480874798687"
     },
     "user_tz": -540
    },
    "id": "czoggHO55Z9A",
    "outputId": "76838360-f8a8-4242-fedc-9a9c31bec3df"
   },
   "outputs": [
    {
     "data": {
      "text/plain": [
       "False"
      ]
     },
     "execution_count": 38,
     "metadata": {},
     "output_type": "execute_result"
    }
   ],
   "source": [
    "'taro' < 'hanako'"
   ]
  },
  {
   "cell_type": "code",
   "execution_count": 39,
   "metadata": {
    "colab": {
     "base_uri": "https://localhost:8080/"
    },
    "executionInfo": {
     "elapsed": 287,
     "status": "ok",
     "timestamp": 1662788291816,
     "user": {
      "displayName": "Takahiro YOSHIDA",
      "userId": "00096252480874798687"
     },
     "user_tz": -540
    },
    "id": "hE0jEMQu53u0",
    "outputId": "fd57e08c-2548-45c3-eabd-890e55de0c66"
   },
   "outputs": [
    {
     "data": {
      "text/plain": [
       "True"
      ]
     },
     "execution_count": 39,
     "metadata": {},
     "output_type": "execute_result"
    }
   ],
   "source": [
    "'taro' != 'hanako'"
   ]
  },
  {
   "cell_type": "markdown",
   "metadata": {},
   "source": [
    "# リテラル\n",
    "*  コード内に記述された具体的な数値や文字列を一般に「リテラル」または「値」と呼ぶ\n",
    "*  本講義では「値」あるいは「データ」と呼ぶことが多いが，前後の文脈によっては別の表現（例えば「オブジェクト（次回以降説明）」）にすることもある\n",
    "*  ある特定の値をコードの中で何度も利用（処理）する場合，その都度，値を記述する必要がある（下図） ⇒ 大変・無駄\n",
    "*  このような場合には**変数**を使う\n",
    "\n",
    "<img src=\"./fig/literal.jpg\" alt=\"リテラル\" width=\"450\">"
   ]
  },
  {
   "cell_type": "markdown",
   "metadata": {
    "id": "li2IWMNqErZX"
   },
   "source": [
    "# 変数と代入\n",
    "*  変数とは，値を格納するための名前がついた箱のようなもの\n",
    "*  変数に値を格納することを**代入**と呼ぶ\n",
    "*  別の言い方をすると…\n",
    ">*  変数は特定の値を識別するために名前をつける仕組み\n",
    ">*  代入は値に名前をつけること ⇒ **変数の定義** \n",
    "\n",
    "<img src=\"./fig/variable.jpg\" alt=\"変数\" width=\"600\">"
   ]
  },
  {
   "cell_type": "markdown",
   "metadata": {},
   "source": [
    "## 代入の書式\n",
    "* `=` を用いる  \n",
    "\n",
    "**書式**： `変数名 = 値`\n",
    "\n",
    "*  数学的に `左辺 = 右辺` は，左辺と右辺が等しいという意味を持つが，Python では**左辺の変数に右辺の値を代入する**という意味になる\n",
    "  \n",
    "**例**： `text = 'Hello World!'`  \n",
    "\n",
    "*  『`text`という名前の変数に文字列「Hello World!」を格納しろ』という意味"
   ]
  },
  {
   "cell_type": "code",
   "execution_count": 40,
   "metadata": {
    "colab": {
     "base_uri": "https://localhost:8080/"
    },
    "executionInfo": {
     "elapsed": 293,
     "status": "ok",
     "timestamp": 1662371841934,
     "user": {
      "displayName": "Takahiro YOSHIDA",
      "userId": "00096252480874798687"
     },
     "user_tz": -540
    },
    "id": "Sy0XKRdqEtK2",
    "outputId": "2a37ae75-9fcf-4d36-a591-133aa2fe29fc"
   },
   "outputs": [
    {
     "name": "stdout",
     "output_type": "stream",
     "text": [
      "10\n"
     ]
    }
   ],
   "source": [
    "a = 10\n",
    "print(a)"
   ]
  },
  {
   "cell_type": "code",
   "execution_count": 41,
   "metadata": {
    "colab": {
     "base_uri": "https://localhost:8080/"
    },
    "executionInfo": {
     "elapsed": 313,
     "status": "ok",
     "timestamp": 1662372014981,
     "user": {
      "displayName": "Takahiro YOSHIDA",
      "userId": "00096252480874798687"
     },
     "user_tz": -540
    },
    "id": "wcBdmSKwFVnm",
    "outputId": "045b4576-c2f7-4d6a-e5cb-c76e01e536e6"
   },
   "outputs": [
    {
     "name": "stdout",
     "output_type": "stream",
     "text": [
      "8.5\n"
     ]
    }
   ],
   "source": [
    "x = 5.2\n",
    "print(x + 3.3)"
   ]
  },
  {
   "cell_type": "code",
   "execution_count": 42,
   "metadata": {
    "colab": {
     "base_uri": "https://localhost:8080/"
    },
    "executionInfo": {
     "elapsed": 7,
     "status": "ok",
     "timestamp": 1662371882934,
     "user": {
      "displayName": "Takahiro YOSHIDA",
      "userId": "00096252480874798687"
     },
     "user_tz": -540
    },
    "id": "LrymxCvDFa8e",
    "outputId": "10e344bb-987c-44ee-8289-1ef4c941455d"
   },
   "outputs": [
    {
     "name": "stdout",
     "output_type": "stream",
     "text": [
      "2.5\n"
     ]
    }
   ],
   "source": [
    "x = 5\n",
    "y = 2\n",
    "print(x / y)"
   ]
  },
  {
   "cell_type": "code",
   "execution_count": 43,
   "metadata": {
    "colab": {
     "base_uri": "https://localhost:8080/"
    },
    "executionInfo": {
     "elapsed": 3,
     "status": "ok",
     "timestamp": 1694311540983,
     "user": {
      "displayName": "Takahiro YOSHIDA",
      "userId": "00096252480874798687"
     },
     "user_tz": -540
    },
    "id": "hzewknDpFye1",
    "outputId": "d7df9228-1ed2-4f09-e62b-f09be222bdc4"
   },
   "outputs": [
    {
     "name": "stdout",
     "output_type": "stream",
     "text": [
      "Hello World!\n"
     ]
    }
   ],
   "source": [
    "text = 'Hello World!'\n",
    "print(text)"
   ]
  },
  {
   "cell_type": "code",
   "execution_count": 44,
   "metadata": {
    "colab": {
     "base_uri": "https://localhost:8080/"
    },
    "executionInfo": {
     "elapsed": 1,
     "status": "ok",
     "timestamp": 1694311547153,
     "user": {
      "displayName": "Takahiro YOSHIDA",
      "userId": "00096252480874798687"
     },
     "user_tz": -540
    },
    "id": "qfC3FEKKx2bc",
    "outputId": "2f5ebdf1-6467-4b0e-9489-a9b3f72770a0"
   },
   "outputs": [
    {
     "name": "stdout",
     "output_type": "stream",
     "text": [
      "e\n",
      "ello Wor\n"
     ]
    }
   ],
   "source": [
    "text = 'Hello World!'\n",
    "#インデックス指定\n",
    "print(text[1])\n",
    "#スライス指定\n",
    "print(text[1:9])"
   ]
  },
  {
   "cell_type": "markdown",
   "metadata": {},
   "source": [
    "*  上述したように，ある特定の値をコードの中で何度も利用（処理）する場合，その都度，値を記述する必要があった\n",
    "*  変数を使うことで，コードが読みやすくなり，値の変更などの修正も効率的となる  \n",
    "\n",
    "<img src=\"./fig/effect_variables.jpg\" alt=\"変数の効果\" width=\"320\">"
   ]
  },
  {
   "cell_type": "markdown",
   "metadata": {},
   "source": [
    "## 変数には何度も代入できる\n",
    "*  変数への代入は何度もできるが，上書きされることに注意する  \n",
    " \n",
    "<img src=\"./fig/assignment_variable.jpg\" alt=\"変数への代入\" width=\"400\">"
   ]
  },
  {
   "cell_type": "code",
   "execution_count": 56,
   "metadata": {},
   "outputs": [
    {
     "name": "stdout",
     "output_type": "stream",
     "text": [
      "321\n",
      "100\n"
     ]
    }
   ],
   "source": [
    "data = 321\n",
    "print(data)\n",
    "data = 100\n",
    "print(data)"
   ]
  },
  {
   "cell_type": "markdown",
   "metadata": {
    "id": "ltK44y1Vdf6F"
   },
   "source": [
    "## 複合代入演算子\n",
    "*  自分自身の変数を使った演算結果を自分自身に代入することもできる\n",
    "\n",
    "> 例1: `x = x + 1`  \n",
    "> 例2: `x = x - 1`  \n",
    "> 例3: `x = x * 0.1`  \n",
    "  \n",
    "*  上記の例は以下のように書くこともできる．  \n",
    "> 例1: `x += 1`  \n",
    "> 例2: `x -= 1`  \n",
    "> 例3: `x *= 0.1`  \n",
    "\n",
    "* このように，算術演算子と代入の`=`を組合わせたものを複合代入演算子と呼ぶ"
   ]
  },
  {
   "cell_type": "code",
   "execution_count": 45,
   "metadata": {
    "colab": {
     "base_uri": "https://localhost:8080/"
    },
    "executionInfo": {
     "elapsed": 13,
     "status": "ok",
     "timestamp": 1694657905258,
     "user": {
      "displayName": "Takahiro YOSHIDA",
      "userId": "00096252480874798687"
     },
     "user_tz": -540
    },
    "id": "k9lYHP9LFm31",
    "outputId": "85471a79-3671-474e-b2ec-30275d49cd55"
   },
   "outputs": [
    {
     "name": "stdout",
     "output_type": "stream",
     "text": [
      "10\n",
      "3\n",
      "8\n"
     ]
    }
   ],
   "source": [
    "a = 10\n",
    "print(a)\n",
    "a = a - 7\n",
    "print(a)\n",
    "a += 5\n",
    "print(a)"
   ]
  },
  {
   "cell_type": "markdown",
   "metadata": {},
   "source": [
    "## アンパック代入\n",
    "*  多くの変数を使ったコードを作成する場合，多くの行が変数への代入になることがある\n",
    "*  このような場合には，複数の変数への代入を1行でまとめて記述する「アンパック代入」を使うと，コードがシンプルになる \n",
    "*  **例1**: `x, y = 1, 3` ⇒ `x`に`1`，`y`に`3`が代入される \n",
    "*  **例2**: `x, y = y, x + y` ⇒ `x`に`y`の値，`y`に`x + y`の演算結果が代入される\n"
   ]
  },
  {
   "cell_type": "code",
   "execution_count": 57,
   "metadata": {},
   "outputs": [
    {
     "name": "stdout",
     "output_type": "stream",
     "text": [
      "a= 5\n",
      "b= 10\n",
      "a= 10\n",
      "b= 15\n"
     ]
    }
   ],
   "source": [
    "a, b = 5, 10\n",
    "print('a=', a)\n",
    "print('b=', b)\n",
    "a, b = b, a + b\n",
    "print('a=', a)\n",
    "print('b=', b)"
   ]
  },
  {
   "cell_type": "markdown",
   "metadata": {},
   "source": [
    "## 変数の削除\n",
    "`del` 文を使うと定義した変数を削除できる ⇒ 書式: `del 変数名`"
   ]
  },
  {
   "cell_type": "markdown",
   "metadata": {},
   "source": [
    "## 変数名\n",
    "*  変数名は決められた命名ルールの範囲で自由に決めることができる\n",
    "*  変数名の命名ルール\n",
    ">*  半角のアルファベット `a`～`z`, `A`～`Z`, `_`(アンダースコア), 数字の`0`～`9`が使える\n",
    ">*  数字のみの変数名，先頭が数字の変数名は使えない\n",
    ">*  「予約語」と呼ばれる単語は使えない\n",
    ">>*  予約語はPythonの中であらかじめ別の目的で使用することが決まっているもの\n",
    ">>*  予約語（一部）: False, True, def, if, elif, else, import, whileなど\n",
    "*  よい変数名を付けるように心がける⇒ [参考サイト](https://web-camp.io/magazine/archives/117332)\n",
    ">*  変数名をみれば，それがどんな情報かわかるような名前を付けるのが望ましい\n",
    ">*  標準的な命名規則（アッパーキャメルケース，ロワーキャメルケース，スネークケースなど）にしたがって名前をつける\n",
    "*  標準的な命名規則（教科書 p.55）\n",
    ">*  アッパーキャメルケースの例: MyAge, UploadData\n",
    ">*  ロワーキャメルケースの例: myAge, uploadData\n",
    ">*  スネークケース: my_age, upload_data\n",
    "*  コーディング規約のPEP8（後述）では，スネークケースを推奨している"
   ]
  },
  {
   "cell_type": "markdown",
   "metadata": {},
   "source": [
    "## コーディング規約\n",
    "*  コーディング規約とは，プログラマたちが守る書き方や形式に関するルール\n",
    "*  チームやプロジェクト，会社などで決められている\n",
    "*  コーディング規約を作成することのメリット\n",
    ">*  「可読性」「保守性」「品質」を高める\n",
    ">*  誰でも理解できる\n",
    ">*  誰でも修正・追加ができる\n",
    ">*  バグが少ないプログラムを誰でも作れる\n",
    "*  Pythonのコーディング規約： [PEP8（ペップエイト）](https://pep8-ja.readthedocs.io/ja/latest/)"
   ]
  },
  {
   "cell_type": "markdown",
   "metadata": {},
   "source": [
    "# データ型\n",
    "*  文字列や数値など，値には様々な種類がある\n",
    "*  代表的な値の種類： 整数 (integer)，実数 (real number)，文字列 (string)など\n",
    "*  これらの種類によって，Python内部での取り扱い方が異なる ⇒ 型を意識することが重要\n",
    "*  値の種類のことを，一般に**データ型 (type)** と呼ぶ\n",
    "*  本講義では，文脈によってデータ型を「クラス (class)」と呼ぶこともある\n"
   ]
  },
  {
   "cell_type": "markdown",
   "metadata": {
    "id": "U_Ne5Y6qGQk2"
   },
   "source": [
    "## データ型の種類（一部）\n",
    "|データ型| 値の内容 |\n",
    "|:--|:--|\n",
    "|int（整数型）| 整数（小数を含まない数） |\n",
    "|float（浮動小数点型）| 実数（小数を含む数） |\n",
    "|str（文字列型）| 文字列 |\n",
    "|bool（論理型）| TrueとFalseのいずれか |\n",
    "|list（リスト）| 複数の値をまとめて格納 |\n",
    "|tuple（タプル）| 複数の値をまとめて格納 |\n",
    "|set（セット）| 複数の値をまとめて格納（要素の重複を許さない） |\n",
    "|dict（ディクショナリ）| キー（key）と値（value）の組合せで複数の値を格納 |"
   ]
  },
  {
   "cell_type": "markdown",
   "metadata": {},
   "source": [
    "## `type` 関数\n",
    "*  値のデータ型を調べるには `type` 関数を使う\n",
    "*  `type` 関数は組み込み関数の一つ\n",
    "*  `type` 関数の引数として括弧内に値そのものを指定することもできるし，変数を指定することもできる\n",
    "*  変数を指定した場合は，変数に代入されている値のデータ型を調べることになる"
   ]
  },
  {
   "cell_type": "code",
   "execution_count": 46,
   "metadata": {
    "colab": {
     "base_uri": "https://localhost:8080/"
    },
    "executionInfo": {
     "elapsed": 313,
     "status": "ok",
     "timestamp": 1662790334274,
     "user": {
      "displayName": "Takahiro YOSHIDA",
      "userId": "00096252480874798687"
     },
     "user_tz": -540
    },
    "id": "WZSBx1oJBtm1",
    "outputId": "ba6a3af6-7378-49a6-80b2-ccf4cbae0461"
   },
   "outputs": [
    {
     "data": {
      "text/plain": [
       "int"
      ]
     },
     "execution_count": 46,
     "metadata": {},
     "output_type": "execute_result"
    }
   ],
   "source": [
    "type(10)"
   ]
  },
  {
   "cell_type": "code",
   "execution_count": 47,
   "metadata": {
    "colab": {
     "base_uri": "https://localhost:8080/"
    },
    "executionInfo": {
     "elapsed": 409,
     "status": "ok",
     "timestamp": 1662789718977,
     "user": {
      "displayName": "Takahiro YOSHIDA",
      "userId": "00096252480874798687"
     },
     "user_tz": -540
    },
    "id": "J6MVCSzf_NeR",
    "outputId": "a5d6c688-ab1c-4811-c4d6-feba5bac53f3"
   },
   "outputs": [
    {
     "data": {
      "text/plain": [
       "int"
      ]
     },
     "execution_count": 47,
     "metadata": {},
     "output_type": "execute_result"
    }
   ],
   "source": [
    "x = 10\n",
    "type(x)"
   ]
  },
  {
   "cell_type": "code",
   "execution_count": 48,
   "metadata": {
    "colab": {
     "base_uri": "https://localhost:8080/"
    },
    "executionInfo": {
     "elapsed": 285,
     "status": "ok",
     "timestamp": 1662789739967,
     "user": {
      "displayName": "Takahiro YOSHIDA",
      "userId": "00096252480874798687"
     },
     "user_tz": -540
    },
    "id": "8Z5DEpbc_Z9U",
    "outputId": "1fbb501c-436f-483e-830b-c81c1d631de6"
   },
   "outputs": [
    {
     "data": {
      "text/plain": [
       "float"
      ]
     },
     "execution_count": 48,
     "metadata": {},
     "output_type": "execute_result"
    }
   ],
   "source": [
    "y = 3.2\n",
    "type(y)"
   ]
  },
  {
   "cell_type": "markdown",
   "metadata": {
    "id": "8fo1GIKaDG0Z"
   },
   "source": [
    "シングルクオート（あるいはダブルクオート）で囲われたものはすべて str（文字列型）になる．"
   ]
  },
  {
   "cell_type": "code",
   "execution_count": 49,
   "metadata": {
    "colab": {
     "base_uri": "https://localhost:8080/"
    },
    "executionInfo": {
     "elapsed": 348,
     "status": "ok",
     "timestamp": 1662790667809,
     "user": {
      "displayName": "Takahiro YOSHIDA",
      "userId": "00096252480874798687"
     },
     "user_tz": -540
    },
    "id": "Hfyv2FqDC-tC",
    "outputId": "edd67dd3-da6b-4a5b-d7ef-8f010cc09a9d"
   },
   "outputs": [
    {
     "data": {
      "text/plain": [
       "str"
      ]
     },
     "execution_count": 49,
     "metadata": {},
     "output_type": "execute_result"
    }
   ],
   "source": [
    "x = '10'\n",
    "type(x)"
   ]
  },
  {
   "cell_type": "code",
   "execution_count": 50,
   "metadata": {
    "colab": {
     "base_uri": "https://localhost:8080/"
    },
    "executionInfo": {
     "elapsed": 286,
     "status": "ok",
     "timestamp": 1662789755563,
     "user": {
      "displayName": "Takahiro YOSHIDA",
      "userId": "00096252480874798687"
     },
     "user_tz": -540
    },
    "id": "CL8vbR2i_e3W",
    "outputId": "458eb030-489a-4efe-e107-1e94de3b059b"
   },
   "outputs": [
    {
     "data": {
      "text/plain": [
       "str"
      ]
     },
     "execution_count": 50,
     "metadata": {},
     "output_type": "execute_result"
    }
   ],
   "source": [
    "z = 'Hello'\n",
    "type(z)"
   ]
  },
  {
   "cell_type": "code",
   "execution_count": 51,
   "metadata": {
    "colab": {
     "base_uri": "https://localhost:8080/"
    },
    "executionInfo": {
     "elapsed": 328,
     "status": "ok",
     "timestamp": 1662790369039,
     "user": {
      "displayName": "Takahiro YOSHIDA",
      "userId": "00096252480874798687"
     },
     "user_tz": -540
    },
    "id": "ksm2ma8N_kKg",
    "outputId": "46484fee-cc2f-45be-8c1c-db19ebc383da"
   },
   "outputs": [
    {
     "data": {
      "text/plain": [
       "bool"
      ]
     },
     "execution_count": 51,
     "metadata": {},
     "output_type": "execute_result"
    }
   ],
   "source": [
    "a = True\n",
    "type(a)"
   ]
  },
  {
   "cell_type": "markdown",
   "metadata": {
    "id": "Tf6bfWaJCI79"
   },
   "source": [
    "*  複数の値や変数のデータ型を同時に表示したい場合は `print`関数を使う． \n",
    "*  `<class 'データ型'>` と表示されるが，`class` は現時点では気にしなくてよい（詳細は次回以降説明）"
   ]
  },
  {
   "cell_type": "code",
   "execution_count": 52,
   "metadata": {
    "colab": {
     "base_uri": "https://localhost:8080/"
    },
    "executionInfo": {
     "elapsed": 323,
     "status": "ok",
     "timestamp": 1662790478780,
     "user": {
      "displayName": "Takahiro YOSHIDA",
      "userId": "00096252480874798687"
     },
     "user_tz": -540
    },
    "id": "DtDPmuo0CSJ2",
    "outputId": "436e083e-cac1-4cf5-da70-fbb2da886591"
   },
   "outputs": [
    {
     "name": "stdout",
     "output_type": "stream",
     "text": [
      "<class 'int'>\n",
      "<class 'float'>\n",
      "<class 'str'>\n"
     ]
    }
   ],
   "source": [
    "x = 10\n",
    "y = 3.2\n",
    "z = 'Hello'\n",
    "print(type(x))\n",
    "print(type(y))\n",
    "print(type(z))"
   ]
  },
  {
   "cell_type": "markdown",
   "metadata": {
    "id": "6shS2VLICm0X"
   },
   "source": [
    "算術演算子で演算した結果のデータ型は，演算前のデータ型と異なることがある．"
   ]
  },
  {
   "cell_type": "code",
   "execution_count": 53,
   "metadata": {
    "colab": {
     "base_uri": "https://localhost:8080/"
    },
    "executionInfo": {
     "elapsed": 314,
     "status": "ok",
     "timestamp": 1662790409155,
     "user": {
      "displayName": "Takahiro YOSHIDA",
      "userId": "00096252480874798687"
     },
     "user_tz": -540
    },
    "id": "_cbJXTLNB4kO",
    "outputId": "0fb3764f-abdc-425c-ee51-b8757202ae6f"
   },
   "outputs": [
    {
     "name": "stdout",
     "output_type": "stream",
     "text": [
      "<class 'int'>\n",
      "<class 'float'>\n",
      "<class 'float'>\n"
     ]
    }
   ],
   "source": [
    "x = 10\n",
    "y = 3.2\n",
    "a = x * 2\n",
    "b = x / 2\n",
    "c = x + y\n",
    "print(type(a))\n",
    "print(type(b))\n",
    "print(type(c))"
   ]
  },
  {
   "cell_type": "markdown",
   "metadata": {},
   "source": [
    "# 参考資料\n",
    "*  [Chainer Tutorials : 02_Basics_of_Python.ipynb](https://colab.research.google.com/github/chainer/tutorials/blob/master/ja/02_Basics_of_Python.ipynb)\n",
    "*  東京大学, [2-1. 文字列 (string)](https://colab.research.google.com/github/utokyo-ipp/utokyo-ipp.github.io/blob/master/colab/2/2-1.ipynb), 「プログラミング入門」講義資料"
   ]
  }
 ],
 "metadata": {
  "colab": {
   "provenance": []
  },
  "kernelspec": {
   "display_name": "pythonev",
   "language": "python",
   "name": "python3"
  },
  "language_info": {
   "codemirror_mode": {
    "name": "ipython",
    "version": 3
   },
   "file_extension": ".py",
   "mimetype": "text/x-python",
   "name": "python",
   "nbconvert_exporter": "python",
   "pygments_lexer": "ipython3",
   "version": "3.10.13"
  }
 },
 "nbformat": 4,
 "nbformat_minor": 1
}
