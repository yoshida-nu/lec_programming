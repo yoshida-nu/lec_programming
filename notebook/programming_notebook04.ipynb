{
 "cells": [
  {
   "cell_type": "markdown",
   "metadata": {},
   "source": [
    "# 復習"
   ]
  },
  {
   "cell_type": "markdown",
   "metadata": {},
   "source": [
    "## データ型の種類（一部）\n",
    "|データ型| 値の内容 |\n",
    "|:--|:--|\n",
    "|int（整数型）| 整数（小数を含まない数） |\n",
    "|float（浮動小数点型）| 実数（小数を含む数） |\n",
    "|str（文字列型）| 文字列 |\n",
    "|bool（論理型）| TrueとFalseのいずれか |\n",
    "|list（リスト）| 複数の値をまとめて格納 |\n",
    "|tuple（タプル）| 複数の値をまとめて格納 |\n",
    "|set（セット）| 複数の値をまとめて格納（要素の重複を許さない） |\n",
    "|dict（ディクショナリ）| キー（key）と値（value）の組合せで複数の値を格納 |"
   ]
  },
  {
   "cell_type": "markdown",
   "metadata": {},
   "source": [
    "## 比較演算子\n",
    "* 2つの値の大小を比較するための演算子\n",
    "* 演算結果は「`True`」と「`False`」のいずれかの値をとる論理型（bool）の値\n",
    "* 比較演算子を使った式が正しければ「True（真）」で，間違っていれば「False（偽）」となる\n",
    "\n",
    "|比較演算子|意味|\n",
    "|:-:|:-:|\n",
    "| < | 小さい |\n",
    "| > | 大きい |\n",
    "| <= | 以上 |\n",
    "| >= | 以下 |\n",
    "| == | 等しい |\n",
    "| != | 等しくない |"
   ]
  },
  {
   "cell_type": "markdown",
   "metadata": {},
   "source": [
    "## in演算子／not in演算子\n",
    "in演算子（またはnot in演算子）は，文字列型（str）やコンテナのデータに指定の文字列や要素が含まれている（または含まれていない）かどうかを判定する演算子で，演算結果は論理型（bool）となる．  \n",
    "\n",
    "**書式:**\n",
    "*  `要素（or 文字列） in コンテナ（or 文字列）`\n",
    "*  `要素（or 文字列） not in コンテナ（or 文字列）`"
   ]
  },
  {
   "cell_type": "code",
   "execution_count": null,
   "metadata": {},
   "outputs": [],
   "source": [
    "prime_number = [2, 3, 5, 7, 11, 13]\n",
    "print(5 in prime_number)\n",
    "print(9 in prime_number)\n",
    "print(5 not in prime_number)\n",
    "print(9 not in prime_number)\n",
    "print(not 9 in prime_number)"
   ]
  },
  {
   "cell_type": "code",
   "execution_count": null,
   "metadata": {},
   "outputs": [],
   "source": [
    "menu = ['おにぎり', 'パスタ', 'ハンバーガー', 'カレー', 'ラーメン']\n",
    "print('ハンバーガー' in menu)\n",
    "print('うどん' in menu)\n",
    "print('ハンバーガー' not in menu)\n",
    "print('うどん' not in menu)"
   ]
  },
  {
   "cell_type": "markdown",
   "metadata": {
    "id": "rVa7uRxe4de8"
   },
   "source": [
    "# 型変換\n",
    "*  データ型を変換することを型変換と呼ぶ\n",
    "*  型変換は組み込み関数で行う\n",
    "*  主な型変換を行う組み込み関数:\n",
    ">*  str（文字列型）に変換する組み込み関数⇒ `str`\n",
    ">*  int（整数型）に変換する組み込み関数⇒ `int`\n",
    ">*  float（浮動小数点型）に変換する組み込み関数⇒ `float`\n",
    ">*  list（リスト）に変換する組み込み関数⇒ `list`\n",
    ">*  set（セット）に変換する組み込み関数⇒ `set`\n",
    "*  値（引数）によって，型変換できるものとできないものがある"
   ]
  },
  {
   "cell_type": "code",
   "execution_count": null,
   "metadata": {
    "colab": {
     "base_uri": "https://localhost:8080/"
    },
    "executionInfo": {
     "elapsed": 433,
     "status": "ok",
     "timestamp": 1694327703492,
     "user": {
      "displayName": "Takahiro YOSHIDA",
      "userId": "00096252480874798687"
     },
     "user_tz": -540
    },
    "id": "CCcTjgYz5Vu_",
    "outputId": "69e2cecc-b674-401a-a376-8a87eb29d8f9"
   },
   "outputs": [],
   "source": [
    "x = '10'\n",
    "print(type(x))\n",
    "print(x)\n",
    "y = int(x)\n",
    "print(type(y))\n",
    "print(y)"
   ]
  },
  {
   "cell_type": "code",
   "execution_count": null,
   "metadata": {
    "colab": {
     "base_uri": "https://localhost:8080/"
    },
    "executionInfo": {
     "elapsed": 422,
     "status": "ok",
     "timestamp": 1694327705970,
     "user": {
      "displayName": "Takahiro YOSHIDA",
      "userId": "00096252480874798687"
     },
     "user_tz": -540
    },
    "id": "gOs-K4l4Rt9f",
    "outputId": "357f4a29-345e-43c3-f049-e19af9d99d00"
   },
   "outputs": [],
   "source": [
    "x = '3.14'\n",
    "print(type(x))\n",
    "print(x)\n",
    "y = float(x)\n",
    "print(type(y))\n",
    "print(y)"
   ]
  },
  {
   "cell_type": "code",
   "execution_count": null,
   "metadata": {
    "colab": {
     "base_uri": "https://localhost:8080/"
    },
    "executionInfo": {
     "elapsed": 411,
     "status": "ok",
     "timestamp": 1694327708132,
     "user": {
      "displayName": "Takahiro YOSHIDA",
      "userId": "00096252480874798687"
     },
     "user_tz": -540
    },
    "id": "e91nX7xb4lYW",
    "outputId": "31a80697-4878-44f8-a2ac-bd1eac1869eb"
   },
   "outputs": [],
   "source": [
    "a = [1, 1, 2, 3, 5]\n",
    "print(a)\n",
    "b = set(a)\n",
    "print(b)\n",
    "c = list(b)\n",
    "print(c)"
   ]
  },
  {
   "cell_type": "markdown",
   "metadata": {
    "id": "9KTTzZwfLf9N"
   },
   "source": [
    "# 論理演算子\n",
    "*  論理演算を行うための演算子\n",
    "*  論理演算はbool（論理型）の値に対する演算\n",
    "*  演算結果はbool（論理型） ⇒ `True`と`False`のいずれか\n",
    "\n",
    "\n",
    "|論理演算子|意味|\n",
    "|:-:|:--|\n",
    "| `and` | 両者を満たす（両者ともTrueの）ときTrue |\n",
    "| `or` | どちらか片方を満たす（少なくともどちらか一方がTrueの）ときTrue |\n",
    "| `not` | 満たさない（Falseの）ときTrue |\n"
   ]
  },
  {
   "cell_type": "markdown",
   "metadata": {
    "id": "HuPfSUOEMfzq"
   },
   "source": [
    "## `and`演算子\n",
    "\n",
    "|`A`|`B`|`A and B`|\n",
    "|:-:|:-:|:-:|\n",
    "| `True` | `True` | `True` | \n",
    "| `True` | `False` | `False` |\n",
    "| `False` | `True` | `False` |\n",
    "| `False` | `False` | `False` |"
   ]
  },
  {
   "cell_type": "code",
   "execution_count": null,
   "metadata": {
    "colab": {
     "base_uri": "https://localhost:8080/"
    },
    "executionInfo": {
     "elapsed": 414,
     "status": "ok",
     "timestamp": 1694327711118,
     "user": {
      "displayName": "Takahiro YOSHIDA",
      "userId": "00096252480874798687"
     },
     "user_tz": -540
    },
    "id": "_hLZfZdyLiFU",
    "outputId": "ce39c9f9-74ad-4f6e-fc17-61873f5b3115"
   },
   "outputs": [],
   "source": [
    "t = True\n",
    "f = False\n",
    "print(t and t)\n",
    "print(t and f)\n",
    "print(f and t)\n",
    "print(f and f)"
   ]
  },
  {
   "cell_type": "markdown",
   "metadata": {
    "id": "XIgycWQyMis7"
   },
   "source": [
    "## `or`演算子\n",
    "\n",
    "|`A`|`B`|`A or B`|\n",
    "|:-:|:-:|:-:|\n",
    "| `True` | `True` | `True` | \n",
    "| `True` | `False` | `True` |\n",
    "| `False` | `True` | `True` |\n",
    "| `False` | `False` | `False` |"
   ]
  },
  {
   "cell_type": "code",
   "execution_count": null,
   "metadata": {
    "colab": {
     "base_uri": "https://localhost:8080/"
    },
    "executionInfo": {
     "elapsed": 402,
     "status": "ok",
     "timestamp": 1694327714025,
     "user": {
      "displayName": "Takahiro YOSHIDA",
      "userId": "00096252480874798687"
     },
     "user_tz": -540
    },
    "id": "zBkMjETZMW8i",
    "outputId": "bd683049-688a-4c1b-cf69-e0cd676ee453"
   },
   "outputs": [],
   "source": [
    "t = True\n",
    "f = False\n",
    "print(t or t)\n",
    "print(t or f)\n",
    "print(f or t)\n",
    "print(f or f)"
   ]
  },
  {
   "cell_type": "markdown",
   "metadata": {
    "id": "_9L39k-8Mley"
   },
   "source": [
    "## `not`演算子\n",
    "\n",
    "|`A`|`not A`|\n",
    "|:-:|:-:|\n",
    "| `True` | `False` | \n",
    "| `False` | `True` |"
   ]
  },
  {
   "cell_type": "code",
   "execution_count": null,
   "metadata": {
    "colab": {
     "base_uri": "https://localhost:8080/"
    },
    "executionInfo": {
     "elapsed": 3,
     "status": "ok",
     "timestamp": 1694327716345,
     "user": {
      "displayName": "Takahiro YOSHIDA",
      "userId": "00096252480874798687"
     },
     "user_tz": -540
    },
    "id": "u9ZglmnBMoZC",
    "outputId": "038ed30a-c54f-42a3-9b88-a960b2419e86"
   },
   "outputs": [],
   "source": [
    "t = True\n",
    "f = False\n",
    "print(not t)\n",
    "print(not f)"
   ]
  },
  {
   "cell_type": "markdown",
   "metadata": {
    "id": "leefGamBNFUU"
   },
   "source": [
    "## 論理演算子の組み合わせ"
   ]
  },
  {
   "cell_type": "code",
   "execution_count": null,
   "metadata": {
    "colab": {
     "base_uri": "https://localhost:8080/"
    },
    "executionInfo": {
     "elapsed": 6,
     "status": "ok",
     "timestamp": 1694327718772,
     "user": {
      "displayName": "Takahiro YOSHIDA",
      "userId": "00096252480874798687"
     },
     "user_tz": -540
    },
    "id": "tXSjRTgCNINc",
    "outputId": "b287751c-22e6-4f8c-ba0e-5244bd043ac8"
   },
   "outputs": [],
   "source": [
    "a = True\n",
    "b = False\n",
    "c = True\n",
    "print(not a or (b and c))"
   ]
  },
  {
   "cell_type": "markdown",
   "metadata": {
    "id": "GKIIx8tEMrai"
   },
   "source": [
    "## 比較演算子と論理演算子の組み合わせ"
   ]
  },
  {
   "cell_type": "code",
   "execution_count": null,
   "metadata": {
    "colab": {
     "base_uri": "https://localhost:8080/"
    },
    "executionInfo": {
     "elapsed": 6,
     "status": "ok",
     "timestamp": 1694327721152,
     "user": {
      "displayName": "Takahiro YOSHIDA",
      "userId": "00096252480874798687"
     },
     "user_tz": -540
    },
    "id": "O2LWL-FiMugi",
    "outputId": "3a53dc33-fb6a-49fa-d20a-f7f3de6c8dff"
   },
   "outputs": [],
   "source": [
    "a = 1\n",
    "b = 2\n",
    "c = 3\n",
    "print(a < b)\n",
    "print(b > c)\n",
    "print(a < b and b > c)\n",
    "print(a < b or b > c)\n",
    "print(not a < b)"
   ]
  },
  {
   "cell_type": "markdown",
   "metadata": {
    "id": "_vM8_0y99qAM"
   },
   "source": [
    "# `input`関数によるキーボードからの入力\n",
    "\n",
    "*  組み込み関数の`input`関数を使うとキーボードから値を入力することができる ⇒ 入力した値によって結果が変わるコードが作成できる\n",
    "*  `input`関数が呼び出されると，キーボードからの入力待ち状態になる\n",
    "*  キーボードから入力した値が`input`関数に渡される引数となる\n",
    "*  `input`関数の引数は，データ型がすべて str（文字列型）となることに注意する"
   ]
  },
  {
   "cell_type": "code",
   "execution_count": null,
   "metadata": {
    "colab": {
     "base_uri": "https://localhost:8080/"
    },
    "executionInfo": {
     "elapsed": 4612,
     "status": "ok",
     "timestamp": 1694327733731,
     "user": {
      "displayName": "Takahiro YOSHIDA",
      "userId": "00096252480874798687"
     },
     "user_tz": -540
    },
    "id": "EisDz5TM9s9R",
    "outputId": "a6150daf-366d-4906-e1f3-789d1f51991c"
   },
   "outputs": [],
   "source": [
    "name = input('名前を入力してください。>> ')\n",
    "print(f'あなたの名前は{name}です')"
   ]
  },
  {
   "cell_type": "markdown",
   "metadata": {
    "id": "FHSUBuqUsdri"
   },
   "source": [
    "`input`関数で入力した値を数値として扱う場合は，`int`関数や`float`関数で型変換する．"
   ]
  },
  {
   "cell_type": "code",
   "execution_count": null,
   "metadata": {
    "colab": {
     "base_uri": "https://localhost:8080/"
    },
    "executionInfo": {
     "elapsed": 3086,
     "status": "ok",
     "timestamp": 1694327753366,
     "user": {
      "displayName": "Takahiro YOSHIDA",
      "userId": "00096252480874798687"
     },
     "user_tz": -540
    },
    "id": "yI0hEB8DSEQ-",
    "outputId": "e06e0daa-2438-46e4-ffd2-30ecb35c7721"
   },
   "outputs": [],
   "source": [
    "a = input('数字を入力してください。>> ')\n",
    "print(f'入力した数字は{a}です')\n",
    "print(f'入力した数字に10を足すと{int(a) + 10}です')\n",
    "# print(f'入力した数字に10を足すと{a + 10}です') # エラー"
   ]
  },
  {
   "cell_type": "markdown",
   "metadata": {},
   "source": [
    "# プログラムの基本構造"
   ]
  },
  {
   "cell_type": "markdown",
   "metadata": {},
   "source": [
    "## フローチャート\n",
    "*  基本的な動作を表す長方形やひし形などの図形を，矢印や直線で結んで表現する流れ図\n",
    "*  処理の論理が図形として明確に記述でき，柔軟性に優れている\n",
    "\n",
    "<img src=\"./fig/flowchart_example.jpg\" width=\"190\">"
   ]
  },
  {
   "cell_type": "markdown",
   "metadata": {},
   "source": [
    "### フローチャートで使う記号\n",
    "<img src=\"./fig/04_flowchart.png\" width=\"550\">"
   ]
  },
  {
   "cell_type": "markdown",
   "metadata": {},
   "source": [
    "## 文と制御構造\n",
    "*  Pythonでは，一般に1行に1つの処理を記述する\n",
    "*  このような1行の実行単位を「文（statement）」と呼ぶ\n",
    "*  これまでみてきた文は，すべて上の行から順に1行ずつ実行されていた\n",
    "*  このような処理構造を「順次」と呼ぶ\n",
    "*  処理構造は順次以外にも「分岐」と「繰り返し」と呼ばれる構造がある\n",
    "*  どんな複雑なプログラムも，「順次」「分岐」「繰り返し」の3つの単純な構造の組み合わせで表現できることがわかっている\n",
    "*  これを構造化定理と呼ぶ"
   ]
  },
  {
   "cell_type": "markdown",
   "metadata": {},
   "source": [
    "### 順次\n",
    "*  いくつかの文（処理）を記述した順番（上から順番）に実行する\n",
    "*  この構造によって「処理の順番」を意識することができる\n",
    "\n",
    "<img src=\"./fig/04_sequence.png\" width=\"100\">"
   ]
  },
  {
   "cell_type": "markdown",
   "metadata": {},
   "source": [
    "### 分岐\n",
    "*  複数の文（処理）のうち，指定された条件に合致するものを選択して実行する\n",
    "*  ある処理を実行するかしないかの選択もできる\n",
    "*  Pythonでは`if`文を使う\n",
    "\n",
    "<img src=\"./fig/04_selection.jpg\" width=\"350\">  \n",
    "<img src=\"./fig/selection_example.jpg\" width=\"500\">"
   ]
  },
  {
   "cell_type": "markdown",
   "metadata": {},
   "source": [
    "### 繰り返し\n",
    "*  ある条件に該当している間，あるいは決められた回数，記述された処理を実行する\n",
    "*  Pythonではリストの要素を順番に使った処理が実行できる\n",
    "*  Pythonでは`for`文や`while`文を使う\n",
    "\n",
    "<img src=\"./fig/iteration.jpg\" width=\"180\">"
   ]
  },
  {
   "cell_type": "markdown",
   "metadata": {
    "id": "MtT5OI3Iwhd0"
   },
   "source": [
    "# 基本的な条件分岐\n",
    "*  条件分岐とはプログラムの基本構造の「分岐」に対応する処理\n",
    "*  ある条件を「満たす」or「満たさない」のいずれかで異なる動作をするように制御すること\n",
    "*  条件分岐は`if`文を使って実現する"
   ]
  },
  {
   "cell_type": "markdown",
   "metadata": {},
   "source": [
    "## インデント\n",
    "*  インデントとは，行頭の空白，字下げのことで，文をグループにまとめる機能を持つ\n",
    "*  文はインデントレベル（深さ）の違いによって異なるグループとして扱われる\n",
    "*  インデントレベルが進む（深くなる）と文はもとのグループの下に位置する別のグループに属するものとして扱われる\n",
    "*  インデントレベルが戻る（浅くなる）まで文は同じグループに属することになる\n",
    "*  インデントはTabキーで設定できる\n",
    "*  Pythonではインデントとして半角スペース4つが広く利用されている\n",
    "*  本講義で利用するノートブックの中でも，インデントとして半角スペース4つを利用する"
   ]
  },
  {
   "cell_type": "markdown",
   "metadata": {},
   "source": [
    "## 条件式\n",
    "*  条件分岐では，結果がbool（論理型）のデータとなる条件式を使う\n",
    "*  条件式が成り立つとき ⇒ `true` （真）\n",
    "*  条件式が成り立たないとき ⇒ `false` （偽）\n",
    "*  条件式には比較演算子，論理演算子，`in`／`not in`演算子などが使われる\n",
    "\n",
    "<img src=\"./fig/if_condition.jpg\" width=\"280\">"
   ]
  },
  {
   "cell_type": "markdown",
   "metadata": {},
   "source": [
    "## 条件式に`in`演算子を使った`if`文の例\n",
    "*  条件式は`if`の後に半角スペースを入れて記述する\n",
    "*  条件式の後にコロン `:` を入れる\n",
    "*  コロンを入れ忘れるとエラーになるので注意する\n",
    "*  条件式が`true`のときに実行する処理（文）を次の行以降にインデントを入れてから記述する\n",
    "*  インデントがなかったり，文の先頭が揃ってなかったりするとエラーになるので注意する"
   ]
  },
  {
   "cell_type": "code",
   "execution_count": null,
   "metadata": {},
   "outputs": [],
   "source": [
    "family = ['Shinnosuke', 'Misae', 'Hiroshi', 'Himawari']\n",
    "your_name = 'Himawari'\n",
    "if your_name in family:\n",
    "    print(f'Your name is {your_name}')\n",
    "    print('You are my family.')"
   ]
  },
  {
   "cell_type": "markdown",
   "metadata": {},
   "source": [
    "## `if`ブロック\n",
    "*  上のコードの4～5行目のように，条件式が`True`のときに実行する文のまとまりを`if`ブロックと呼ぶ\n",
    "*  `if`ブロックの範囲は，インデントによって定義される\n",
    "\n",
    "<img src=\"./fig/if-block.jpg\" width=\"500\">"
   ]
  },
  {
   "cell_type": "markdown",
   "metadata": {},
   "source": [
    "## `else`ブロック\n",
    "* 次に以下のコードを考える\n",
    "* このコードは，状況（入力した食べ物）に応じて異なる返答ができるようしている\n",
    "* 具体的には，`food`の値が「カレー」（条件式が`True`）であれば，5行目を実行し，「カレー」以外（条件式が`False`）であれば，7行目を実行する\n",
    "* このコードのように条件式が`False`のときに実行する処理を記述する場合は，ifブロックの後に（インデントを解除して）`else:`を記述し（コロンを忘れないように注意すること），その下の行にインデントを設定して処理を記述する"
   ]
  },
  {
   "cell_type": "code",
   "execution_count": null,
   "metadata": {},
   "outputs": [],
   "source": [
    "name = input('あなたの名前を教えてください >>')\n",
    "print(f'{name}さん、こんにちは')\n",
    "food = input(f'{name}さんの好きな食べ物を教えてください >>')\n",
    "if food == 'カレー':\n",
    "    print('素敵です。カレーは最高ですよね!!')\n",
    "else:\n",
    "    print(f'私も{food}が好きですよ')"
   ]
  },
  {
   "cell_type": "markdown",
   "metadata": {},
   "source": [
    "* 上のコードの7行目のように，条件式が`False`のときに実行する文のまとまりを`else`ブロックと呼ぶ\n",
    "* 例えば，以下のコードにおいて，3～4行目が`if`ブロック，6～7行目が`else`ブロックとなる．\n",
    "\n",
    "<img src=\"./fig/else-block.jpg\" width=\"500\">"
   ]
  },
  {
   "cell_type": "code",
   "execution_count": null,
   "metadata": {
    "colab": {
     "base_uri": "https://localhost:8080/"
    },
    "executionInfo": {
     "elapsed": 5033,
     "status": "ok",
     "timestamp": 1694327775349,
     "user": {
      "displayName": "Takahiro YOSHIDA",
      "userId": "00096252480874798687"
     },
     "user_tz": -540
    },
    "id": "t-_VRQ8YKzuh",
    "outputId": "b19d22c7-5dae-47f8-cdb5-622c935d166c"
   },
   "outputs": [],
   "source": [
    "score = int(input('得点を入力してください。>> '))\n",
    "if score >= 80:\n",
    "    print('おめでとう！')\n",
    "    print('次もこの調子だ！')\n",
    "else:\n",
    "    print('残念でした。')\n",
    "    print('次回は頑張ろう！')"
   ]
  },
  {
   "cell_type": "markdown",
   "metadata": {
    "id": "bCRPTffnuBEZ"
   },
   "source": [
    "## ディクショナリのキーの存在を調べる\n",
    "* `in`演算子を使ってディクショナリのキーの存在を調べることができる  \n",
    "* **書式**：`キー in ディクショナリ`"
   ]
  },
  {
   "cell_type": "code",
   "execution_count": null,
   "metadata": {
    "colab": {
     "base_uri": "https://localhost:8080/"
    },
    "executionInfo": {
     "elapsed": 9656,
     "status": "ok",
     "timestamp": 1694327788382,
     "user": {
      "displayName": "Takahiro YOSHIDA",
      "userId": "00096252480874798687"
     },
     "user_tz": -540
    },
    "id": "YGBYJWh-t_UB",
    "outputId": "5301e620-70cd-4bc0-dd5e-1340ce757675"
   },
   "outputs": [],
   "source": [
    "scores = {'network': 60, 'database': 80, 'security': 50}\n",
    "key = input('追加する科目名を入力してください >> ')\n",
    "if key in scores:\n",
    "    print('すでに登録済みです')\n",
    "else:\n",
    "    data = int(input('得点を入力してください >> '))\n",
    "    scores[key] = data\n",
    "print(scores)"
   ]
  },
  {
   "cell_type": "markdown",
   "metadata": {
    "id": "su1ZSIWQK69q"
   },
   "source": [
    "## `elif`ブロック\n",
    "*  条件式が成立しなかったとき，さらに別の条件式で判定したい場合は，`elif`プロックを追加する\n",
    "*  elifは「else if」を省略した形になっている\n",
    "*  `elif`プロックは，`if`ブロックのあとに，条件式を設定してから記述する\n",
    "*  この条件式は，`elif`の後に半角スペースを入れて記述する\n",
    "*  条件式の後にはコロン `:` を入れる\n",
    "*  この条件式が`True`のときに実行する処理（`elif`プロック）を次の行以降にインデントを入れてから記述する\n",
    "*  さらに別の条件式で判定したい場合は，`elif`ブロックのあとに，さらに`elif`ブロックを追加すればよい\n",
    "*  `elif`ブロックの数に制限はなく，必要なだけ記述できる\n",
    "*  複数記述した条件式は，先頭から順に判定していき，最初に`True`となった条件式の下のプロックのみが実行される\n",
    "\n",
    "<img src=\"./fig/elif-block.jpg\" width=\"700\">"
   ]
  },
  {
   "cell_type": "code",
   "execution_count": null,
   "metadata": {
    "colab": {
     "base_uri": "https://localhost:8080/"
    },
    "executionInfo": {
     "elapsed": 5482,
     "status": "ok",
     "timestamp": 1694327796564,
     "user": {
      "displayName": "Takahiro YOSHIDA",
      "userId": "00096252480874798687"
     },
     "user_tz": -540
    },
    "id": "Qifp-RfJK85C",
    "outputId": "2cb7e53a-94b8-49b1-eae2-7fa392157972"
   },
   "outputs": [],
   "source": [
    "score = int(input('得点を入力してください。>> '))\n",
    "if score >= 80:\n",
    "    print('評価A')\n",
    "elif score >= 60:\n",
    "    print('評価B')\n",
    "else:\n",
    "    print('評価C')"
   ]
  },
  {
   "cell_type": "code",
   "execution_count": null,
   "metadata": {
    "colab": {
     "base_uri": "https://localhost:8080/"
    },
    "executionInfo": {
     "elapsed": 4342,
     "status": "ok",
     "timestamp": 1694327803371,
     "user": {
      "displayName": "Takahiro YOSHIDA",
      "userId": "00096252480874798687"
     },
     "user_tz": -540
    },
    "id": "Woj8ycXjLGKK",
    "outputId": "270afcfa-153b-41bc-ccab-d4e360a3dc79"
   },
   "outputs": [],
   "source": [
    "time = int(input('今何時ですか？(0～24の整数) >> '))\n",
    "if time < 12:\n",
    "    print('おはようございます')\n",
    "elif time < 17:\n",
    "    print('こんちには')\n",
    "elif time < 21:\n",
    "    print('こんばんは')\n",
    "else:\n",
    "    print('おやすみなさい')"
   ]
  },
  {
   "cell_type": "code",
   "execution_count": null,
   "metadata": {
    "colab": {
     "base_uri": "https://localhost:8080/"
    },
    "executionInfo": {
     "elapsed": 7266,
     "status": "ok",
     "timestamp": 1694327812971,
     "user": {
      "displayName": "Takahiro YOSHIDA",
      "userId": "00096252480874798687"
     },
     "user_tz": -540
    },
    "id": "tEAOumrl571-",
    "outputId": "f0a6aa13-3fda-4ea3-a064-d5e2e515b285"
   },
   "outputs": [],
   "source": [
    "x = int(input('正の整数を入力してください。>> '))\n",
    "if x % 2 == 0:\n",
    "    print('偶数')\n",
    "else:\n",
    "    print('奇数')"
   ]
  },
  {
   "cell_type": "markdown",
   "metadata": {
    "id": "hLkRnDJedUed"
   },
   "source": [
    "# 階層構造を持つif文\n",
    "if文は階層的な構造を持たせることができる．\n",
    "\n",
    "<img src=\"./fig/if-nest.jpg\" width=\"700\">"
   ]
  },
  {
   "cell_type": "code",
   "execution_count": null,
   "metadata": {
    "colab": {
     "base_uri": "https://localhost:8080/"
    },
    "executionInfo": {
     "elapsed": 4262,
     "status": "ok",
     "timestamp": 1694327819335,
     "user": {
      "displayName": "Takahiro YOSHIDA",
      "userId": "00096252480874798687"
     },
     "user_tz": -540
    },
    "id": "TaWX2g6o7JXq",
    "outputId": "78b63240-c8d1-4d9f-88eb-0d5f157f71de"
   },
   "outputs": [],
   "source": [
    "x = int(input('正の整数を入力してください。>> '))\n",
    "if x < 100:\n",
    "    if x % 2 == 0:\n",
    "        print('100未満の偶数')\n",
    "    else:\n",
    "        print('100未満の奇数')\n",
    "else:\n",
    "    if x % 2 == 0:\n",
    "        print('100以上の偶数')\n",
    "    else:\n",
    "        print('100以上の奇数')"
   ]
  },
  {
   "cell_type": "markdown",
   "metadata": {
    "id": "eW3svamndXzW"
   },
   "source": [
    "* 上のコードは階層構造を持たせなくても同じ結果となるコードが作成できる\n",
    "* つまり，これら2つのコードは，同じ機能を持つがアルゴリズムが異なるコードになっている"
   ]
  },
  {
   "cell_type": "code",
   "execution_count": null,
   "metadata": {
    "colab": {
     "base_uri": "https://localhost:8080/"
    },
    "executionInfo": {
     "elapsed": 1903,
     "status": "ok",
     "timestamp": 1694327831597,
     "user": {
      "displayName": "Takahiro YOSHIDA",
      "userId": "00096252480874798687"
     },
     "user_tz": -540
    },
    "id": "FBxu7-IX8Pdz",
    "outputId": "7695157b-8ff0-4a75-b2cf-af3cb3428a35"
   },
   "outputs": [],
   "source": [
    "x = int(input('正の整数を入力してください。>> '))\n",
    "if x < 100 and x % 2 == 0:\n",
    "    print('100未満の偶数')\n",
    "elif x < 100 and x % 2 == 1:\n",
    "    print('100未満の奇数')\n",
    "elif x % 2 == 0:\n",
    "    print('100以上の偶数')\n",
    "else:\n",
    "    print('100以上の奇数')"
   ]
  },
  {
   "cell_type": "markdown",
   "metadata": {},
   "source": [
    "* 次の例は，`if`ブロックに`elif`ブロックが2つの`if`文がある構造になっている"
   ]
  },
  {
   "cell_type": "code",
   "execution_count": null,
   "metadata": {
    "colab": {
     "base_uri": "https://localhost:8080/"
    },
    "executionInfo": {
     "elapsed": 7827,
     "status": "ok",
     "timestamp": 1694327441744,
     "user": {
      "displayName": "Takahiro YOSHIDA",
      "userId": "00096252480874798687"
     },
     "user_tz": -540
    },
    "id": "ZwvkfGbswufG",
    "outputId": "8fd1b86f-8cea-4487-8d78-df33b7c6bfd8"
   },
   "outputs": [],
   "source": [
    "print('すべての質問に y または n で答えてください')\n",
    "have_money = input('お金に余裕はありますか？  >> ')\n",
    "if have_money == 'y':\n",
    "    hungry = input('お腹がすごく空いてますか？ >> ')\n",
    "    want_drink = input('ビールを飲みたいですか？ >> ')\n",
    "    if hungry == 'y' and want_drink == 'y':\n",
    "        print('焼き肉はいかがですか')\n",
    "    elif hungry == 'y':\n",
    "        print('カレーはいかがですか')\n",
    "    elif want_drink == 'y':\n",
    "        print('焼き鳥はいかがですか')\n",
    "    else:\n",
    "        print('蕎麦はいかがですか')\n",
    "else:\n",
    "    print('家で食べましょう')"
   ]
  },
  {
   "cell_type": "markdown",
   "metadata": {},
   "source": [
    "# 実習\n",
    "以下の要件を満たすコードを作成しなさい．\n",
    "\n",
    "**＜要件＞**\n",
    "*  すでに入力されているコードは削除・変更しない\n",
    "*  「# ここにコードを記述」のある行にだけコードを追加で記述する\n",
    "*  コメントはすべて削除する\n",
    "*  コード実行後に入力した値に応じて，以下のように表示する\n",
    ">* 1000以上であれば「1000円以上」と表示\n",
    ">* 500以上，1000未満であれば「500円以上1000円未満」と表示\n",
    ">* 0以上，500未満であれば「500円未満」と表示"
   ]
  },
  {
   "cell_type": "code",
   "execution_count": null,
   "metadata": {},
   "outputs": [],
   "source": [
    "price = input('金額を入力してください  >> ')\n",
    "price = # ここにコードを記述\n",
    "if price >= 1000:\n",
    "    print('1000円以上')\n",
    "# ここにコードを記述\n",
    "    print('500円以上1000円未満')\n",
    "# ここにコードを記述\n",
    "    print('500円未満')"
   ]
  },
  {
   "cell_type": "markdown",
   "metadata": {},
   "source": [
    "# 参考資料\n",
    "*  [Chainer Tutorials : 02_Basics_of_Python.ipynb](https://colab.research.google.com/github/chainer/tutorials/blob/master/ja/02_Basics_of_Python.ipynb)\n",
    "*  東京大学, [2-3. 条件分岐](https://colab.research.google.com/github/utokyo-ipp/utokyo-ipp.github.io/blob/master/colab/2/2-3.ipynb), 「プログラミング入門」講義資料\n",
    "*  谷口功, 図解入門よくわかる 最新ソフトウェア開発の基本, 秀和システム, 2011 \n",
    "*  柴田淳, みんなのPython 第4版, SBクリエイティブ, 2016\n",
    "*  株式会社ビープラウド(監修), リブロワークス(著), スラスラ読める Pythonふりがなプログラミング Kindle版, インプレス, 2018\n",
    "*  森巧尚, Python 1年生 体験してわかる！会話でまなべる！プログラミングのしくみ Kindle版, 翔泳社, 2017\n"
   ]
  }
 ],
 "metadata": {
  "colab": {
   "provenance": [],
   "toc_visible": true
  },
  "kernelspec": {
   "display_name": "pythonev",
   "language": "python",
   "name": "python3"
  },
  "language_info": {
   "codemirror_mode": {
    "name": "ipython",
    "version": 3
   },
   "file_extension": ".py",
   "mimetype": "text/x-python",
   "name": "python",
   "nbconvert_exporter": "python",
   "pygments_lexer": "ipython3",
   "version": "3.10.13"
  }
 },
 "nbformat": 4,
 "nbformat_minor": 0
}
