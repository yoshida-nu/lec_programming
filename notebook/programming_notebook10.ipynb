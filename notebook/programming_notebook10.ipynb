{
 "cells": [
  {
   "cell_type": "markdown",
   "metadata": {},
   "source": [
    "# Pythonにおけるエラー\n",
    "*  エラーは大きく分けて以下の2つに分類される．\n",
    ">*  構文エラー（Syntax Errors）\n",
    ">*  例外（Exceptions） \n",
    "*  教科書では「例外」ことを「実行時エラー」と呼んでいる．\n",
    "*  エラーが発生すると，そのエラーに関する情報が表示される\n",
    "*  2つのエラーで表示される内容は異なるが，主に表示されるものは以下の3つ\n",
    ">*  エラーが発生した場所\n",
    ">*  発生したエラーの名前\n",
    ">*  エラーメッセージ\n"
   ]
  },
  {
   "cell_type": "markdown",
   "metadata": {},
   "source": [
    "## エラーを解決できるようになるために"
   ]
  },
  {
   "cell_type": "markdown",
   "metadata": {},
   "source": [
    "### エラーの原因を理解しないまま修正しない\n",
    "* そのとき表面的に解決できたとしても，再度同様のエラーが起きた時に解決できないかもしれないし，同じエラーを何度も起こしてしまうかもしれない"
   ]
  },
  {
   "cell_type": "markdown",
   "metadata": {},
   "source": [
    "### エラーメッセージをちゃんと読む\n",
    "*  エラーメッセージの中に，何が悪いのか，どこが悪いのかといった情報が書かれている\n",
    "*  その情報をみることで，エラーの原因を突き止めることができる\n",
    "*  英語の意味を調べる手間を惜しまないこと\n"
   ]
  },
  {
   "cell_type": "markdown",
   "metadata": {},
   "source": [
    "### エラー解決の経験を積む\n",
    "*  多くのエラーを，試行錯誤により解決していくことで，エラー解決能力が養われる"
   ]
  },
  {
   "cell_type": "markdown",
   "metadata": {},
   "source": [
    "## 構文エラー（Syntax Error）\n",
    "*  よく目にするエラーの一つで「文法エラー」とも呼ばれているエラー\n",
    "*  Pythonの文法に違反するコードを実行しようとしたときに発生する\n",
    "*  Pythonインタプリタがコードを理解できず，プログラムが実行される前に検出されるエラー"
   ]
  },
  {
   "cell_type": "markdown",
   "metadata": {},
   "source": [
    "### SyntaxError: unterminated string literal\n",
    "*  文字列リテラル（strオブジェクト）が正しく終了していない（unterminated）場合に発生する構文エラー\n",
    "*  つまり，文字列がクオート（シングルクオート `'` やダブルクォート `\"`）で開かれた後，それに対応する閉じるクオートが不足しているときに発生\n",
    "*  エラーを修正するためには，開くクオートと閉じるクオートを正しく対応させる必要がある\n"
   ]
  },
  {
   "cell_type": "code",
   "execution_count": null,
   "metadata": {},
   "outputs": [],
   "source": [
    "print('Hello, World)  # 閉じるシングルクオートが不足している"
   ]
  },
  {
   "cell_type": "code",
   "execution_count": null,
   "metadata": {},
   "outputs": [],
   "source": [
    "print('Hello, World\")  # シングルクオートで始まり，ダブルクオートで終わっている"
   ]
  },
  {
   "cell_type": "markdown",
   "metadata": {},
   "source": [
    "### SyntaxError: incomplete input\n",
    "*  コードの構文が不完全 （incomplete） である場合に発生するエラー\n",
    "*  Pythonがコードの一部を正しく理解できない場合に表示される\n",
    "*  下のコードのように，括弧が閉じられていない場合には，Pythonがコードの終了を検出できなくなるので，このエラーが発生する  \n",
    "*  このエラーメッセージが表示された場合，コードのどの部分が不完全であるかを調べ，適切に修正する\n",
    "*  通常，エラーメッセージの行番号や周辺のコードが不完全な入力を示す手がかりとなる"
   ]
  },
  {
   "cell_type": "code",
   "execution_count": null,
   "metadata": {},
   "outputs": [],
   "source": [
    "my_list = [1, 2, 3"
   ]
  },
  {
   "cell_type": "code",
   "execution_count": null,
   "metadata": {},
   "outputs": [],
   "source": [
    "x = 10\n",
    "if x < 10:"
   ]
  },
  {
   "cell_type": "markdown",
   "metadata": {},
   "source": [
    "### SyntaxError: expected ':'\n",
    "*  コードの特定の場所でコロン「`:`」が期待されている（expected）が，それが存在しない場合に発生\n",
    "*  同様のエラーメッセージに，カンマ「`,`」が抜けているときに発生する\"SyntaxError: invalid syntax. Perhaps you forgot a comma?\"がある"
   ]
  },
  {
   "cell_type": "code",
   "execution_count": null,
   "metadata": {},
   "outputs": [],
   "source": [
    "x = 10\n",
    "if x < 10\n",
    "    print('1 digit')"
   ]
  },
  {
   "cell_type": "code",
   "execution_count": null,
   "metadata": {},
   "outputs": [],
   "source": [
    "my_dict = {'key1' 10, 'key2' : 20}"
   ]
  },
  {
   "cell_type": "markdown",
   "metadata": {},
   "source": [
    "### SyntaxError: invalid character\n",
    "*  Pythonが特定の文字（character）を認識できない場合に発生する\n",
    "*  下のコードの場合は，全角の「＝」が認識できない無効な文字となる\n",
    "*  また，全角スペースがコード内にあると\"SyntaxError: invalid non-printable character U+3000\"というエラーメッセージが表示される"
   ]
  },
  {
   "cell_type": "code",
   "execution_count": null,
   "metadata": {},
   "outputs": [],
   "source": [
    "x ＝ 10"
   ]
  },
  {
   "cell_type": "code",
   "execution_count": null,
   "metadata": {},
   "outputs": [],
   "source": [
    "x =　10"
   ]
  },
  {
   "cell_type": "markdown",
   "metadata": {},
   "source": [
    "## 例外（Exceptions）\n",
    "*  プログラム実行中に発生するエラー\n",
    "*  コードが正しい構文で書かれていても，実行時にエラーが発生することがる\n",
    "*  例えば，ファイルの存在確認をせずに読み込もうとしたり，0で割り算を行おうとするなどが例外の典型\n",
    "*  Pythonでは，例外は特定のタイプのエラーとして扱われ，発生するときにどの種類の例外が起こったかを特定することができる\n",
    "*  例外はプログラム実行中に検知して処理することもできる\n",
    "*  Pythonにおける例外は，すべて「クラス」として定義されている\n",
    "*  例外クラスには，NameError, TypeError, ValueErrorなど様々なクラスが定義されている\n",
    "*  具体的に生じた例外は，ある例外クラスのオブジェクトとなる"
   ]
  },
  {
   "cell_type": "markdown",
   "metadata": {},
   "source": [
    "### NameError\n",
    "\n",
    "\n",
    "*   組み込み関数の名前などの打ち間違いによって引き起こされるエラー\n",
    "*   大文字と小文字を間違えているときもこのエラーになる\n",
    "---\n",
    "コード:    \n",
    "```Python\n",
    "pint('Hello!')\n",
    "```\n",
    "  \n",
    "エラー表示:   \n",
    "```\n",
    "NameError                                 Traceback (most recent call last)\n",
    "<ipython-input-3-1aaec4ef864a> in <cell line: 1>()\n",
    "----> 1 pint('Hello!')\n",
    "\n",
    "NameError: name 'pint' is not defined\n",
    "```\n",
    "---\n",
    "\n",
    "\n",
    "*  エラー表示の3行目 `----> 1 pint('Hello!')` には，エラーが発生した場所が示されている\n",
    "*  1行目と2行目もエラーの場所に関する情報（特に気にしなくてよい）\n",
    "*  `name 'pint' is not defined` の部分は，「`'pint'`という名前は定義されていません．」という意味"
   ]
  },
  {
   "cell_type": "code",
   "execution_count": null,
   "metadata": {},
   "outputs": [],
   "source": [
    "pint('Hello!')"
   ]
  },
  {
   "cell_type": "markdown",
   "metadata": {},
   "source": [
    "### TypeError\n",
    "*  タイプエラーは，データ型に問題があるときに表示されるエラー\n",
    "*  関数，メソッド，演算が無効なデータ型（クラス）に対して使用された場合に発生\n",
    "\n",
    "---\n",
    "\n",
    "コード:  \n",
    "```Python\n",
    "print(10 + '円です。')\n",
    "```\n",
    "\n",
    "エラー表示:  \n",
    "```\n",
    "TypeError                                 Traceback (most recent call last)\n",
    "<ipython-input-4-6462738270db> in <cell line: 1>()\n",
    "----> 1 print(10 + '円です。')\n",
    "\n",
    "TypeError: unsupported operand type(s) for +: 'int' and 'str'\n",
    "```\n",
    "---\n",
    "  \n",
    "*    `unsupported operand type(s) for +: 'int' and 'str'`の部分は，「`+`演算子は整数型（int）と文字列型（str）の演算をサポートしていません．」といったような意味になる\n",
    "*    `print`関数のカッコ内で数値と文字列を「`+`」で連結しようとしているが，「`+`」は整数型（int）と文字列型（str）のデータを連結できないためエラーになっている  \n",
    "\n",
    "\n",
    "\n"
   ]
  },
  {
   "cell_type": "code",
   "execution_count": null,
   "metadata": {},
   "outputs": [],
   "source": [
    "print(10 + '円です。')"
   ]
  },
  {
   "cell_type": "markdown",
   "metadata": {},
   "source": [
    "---\n",
    "\n",
    "コード:  \n",
    "```Python\n",
    "def hello():\n",
    "    print('Hello')\n",
    "\n",
    "hello('World!')\n",
    "```\n",
    "\n",
    "エラー表示:  \n",
    "```\n",
    "TypeError                                 Traceback (most recent call last)\n",
    "<ipython-input-1-66f932c1d187> in <cell line: 4>()\n",
    "      2     print('Hello')\n",
    "      3 \n",
    "----> 4 hello('World!')\n",
    "\n",
    "TypeError: hello() takes 0 positional arguments but 1 was given\n",
    "```\n",
    "---\n",
    "  \n",
    "*    関数の仮引数より実引数のほうが多い\n",
    "*    関数`hello()`が0個の引数しか受け取らない（`takes 0 positional arguments`）ように定義されているのに，1つの引数（`'World!'`）が渡された（`but 1 was given`）ことを示している\n"
   ]
  },
  {
   "cell_type": "code",
   "execution_count": null,
   "metadata": {},
   "outputs": [],
   "source": [
    "def hello():\n",
    "    print('Hello')\n",
    "\n",
    "hello('World!') # "
   ]
  },
  {
   "cell_type": "markdown",
   "metadata": {},
   "source": [
    "### ValueError\n",
    "*  対応できないデータ型が関数やメソッドに渡されたときなどに発生する\n",
    "*  例えば，数字（0～9）以外を含む文字列を`int`関数の引数にすると，ValueErrorが発生する．\n",
    "  \n",
    "\n",
    "---\n",
    "コードの例:  \n",
    "```Python\n",
    "n = int(input('整数値を入力してください：'))\n",
    "print(n)\n",
    "```\n",
    "  \n",
    "エラー:  \n",
    "```\n",
    "整数値を入力してください：abc\n",
    "---------------------------------------------------------------------------\n",
    "ValueError                                Traceback (most recent call last)\n",
    "<ipython-input-8-c8e3506c5607> in <cell line: 1>()\n",
    "----> 1 n = int(input('整数値を入力してください：'))\n",
    "      2 print(n)\n",
    "\n",
    "ValueError: invalid literal for int() with base 10: 'abc'\n",
    "```\n",
    "---\n",
    "  \n",
    "  \n",
    "*  実行後に「abc」と入力すると例外が発生する\n",
    "*  `base 10`は10進法を意味している\n",
    "*  `int`関数は，10進法の整数（`base 10`）で記述された値を引数として受け取ることができる\n",
    "*  つまり，「`invalid literal for int() with base 10: 'abc'`」は「10進法の整数（`base 10`）で記述された値（リテラル）を引数とする`int`関数に対して，10進法の整数（`base 10`）として解釈できない不正な値（リテラル）である文字列 `'abc'`を整数に変換しようとしているよ」といった意味になる"
   ]
  },
  {
   "cell_type": "code",
   "execution_count": null,
   "metadata": {},
   "outputs": [],
   "source": [
    "n = int(input('整数値を入力してください：'))\n",
    "print(n)"
   ]
  },
  {
   "cell_type": "markdown",
   "metadata": {},
   "source": [
    "### IndexError\n",
    "*  リスト，タプル，文字列などに対して範囲外のインデックスを指定したときに発生する\n",
    "*  例えば，要素が3つのリストに対してインデックス「3」を指定すると，IndexErrorが発生する．  \n",
    "   \n",
    "--- \n",
    "コードの例:  \n",
    "```Python\n",
    "my_list = [2, 3, 5, 7] \n",
    "print(my_list[4])\n",
    "```\n",
    "\n",
    "エラー:  \n",
    "```\n",
    "IndexError                                Traceback (most recent call last)\n",
    "<ipython-input-8-207d238f976c> in <cell line: 2>()\n",
    "      1 my_list = [2, 3, 5, 7]\n",
    "----> 2 print(my_list[4])\n",
    "\n",
    "IndexError: list index out of range\n",
    "```\n",
    "\n",
    "---  \n",
    "\n",
    "* 「`list index out of range`」は「リストのインデックスが範囲外」といった意味になる "
   ]
  },
  {
   "cell_type": "code",
   "execution_count": null,
   "metadata": {},
   "outputs": [],
   "source": [
    "my_list = [2, 3, 5, 7] \n",
    "print(my_list[4])"
   ]
  },
  {
   "cell_type": "markdown",
   "metadata": {},
   "source": [
    "### IndentationError\n",
    "*  「`if 条件式:`」の次の行など，インデントが必要なところでインデントしていない場合，IndentationErrorとなる\n",
    "*  このエラーは「インデントがあるはずでは？」という意味になる  \n",
    "\n",
    "コードの例:  \n",
    "```Python\n",
    "if 10 > 5:\n",
    "print(True)\n",
    "```\n",
    "  \n",
    "エラー:  \n",
    "```\n",
    "  File \"<ipython-input-10-95427267147a>\", line 2\n",
    "    print(True)\n",
    "    ^\n",
    "IndentationError: expected an indented block after 'if' statement on line 1\n",
    "```\n",
    "  \n",
    "---\n",
    "  \n",
    "*  「expected an indented block」は「インデントされたブロックが予測された」といった意味となる\n"
   ]
  },
  {
   "cell_type": "code",
   "execution_count": null,
   "metadata": {},
   "outputs": [],
   "source": [
    "if 10 > 5:\n",
    "print(True)"
   ]
  },
  {
   "cell_type": "markdown",
   "metadata": {},
   "source": [
    "*  インデントする必要がないところでインデントしている場合もIndentationErrorになる\n",
    "  \n",
    "---\n",
    "コードの例:  \n",
    "```Python\n",
    "print('Hello!')\n",
    "    print('Python')\n",
    "```\n",
    "\n",
    "エラー:  \n",
    "```\n",
    "  File \"<ipython-input-11-0a0ea23f05b4>\", line 2\n",
    "    print('Python')\n",
    "    ^\n",
    "IndentationError: unexpected indent\n",
    "```\n",
    "---\n",
    "  \n",
    "*  「unexpected indent」は「予期しないインデント」といった意味になる\n"
   ]
  },
  {
   "cell_type": "code",
   "execution_count": null,
   "metadata": {},
   "outputs": [],
   "source": [
    "print('Hello!')\n",
    "    print('Python')"
   ]
  },
  {
   "cell_type": "markdown",
   "metadata": {},
   "source": [
    "### KeyError\n",
    "*  ディクショナリ（dict）を操作する際に，指定されたキーが辞書内に存在しない場合に発生するエラー\n",
    "---\n",
    "コードの例:  \n",
    "```Python\n",
    "my_dict = {'key1' : 10, 'key2' : 20}\n",
    "print(my_dict['key3'])\n",
    "```\n",
    "\n",
    "エラー:  \n",
    "```\n",
    "KeyError                                  Traceback (most recent call last)\n",
    "<ipython-input-13-b5e5fd63cdc7> in <cell line: 2>()\n",
    "      1 my_dict = {'key1' : 10, 'key2' : 20}\n",
    "----> 2 print(my_dict['key3'])\n",
    "\n",
    "KeyError: 'key3'\n",
    "```\n",
    "---\n",
    "*  このコードの場合、辞書 `my_dict` 内には '`key3`' というキーが存在しないため，'`key3`' に対する値を取得しようとしたときに KeyError が発生する  "
   ]
  },
  {
   "cell_type": "code",
   "execution_count": null,
   "metadata": {},
   "outputs": [],
   "source": [
    "my_dict = {'key1' : 10, 'key2' : 20}\n",
    "print(my_dict['key3'])"
   ]
  },
  {
   "cell_type": "markdown",
   "metadata": {},
   "source": [
    "### ZeroDivisionError\n",
    "* 数値を0で割ろうとしたときに発生する\n",
    "---\n",
    "コードの例:  \n",
    "```Python\n",
    "x = 0\n",
    "10 / x\n",
    "```\n",
    "\n",
    "エラー:  \n",
    "```\n",
    "ZeroDivisionError                         Traceback (most recent call last)\n",
    "<ipython-input-14-84bb7c42511b> in <cell line: 2>()\n",
    "      1 x = 0\n",
    "----> 2 10 / x\n",
    "\n",
    "ZeroDivisionError: division by zero\n",
    "```\n",
    "---"
   ]
  },
  {
   "cell_type": "code",
   "execution_count": null,
   "metadata": {},
   "outputs": [],
   "source": [
    "x = 0\n",
    "10 / x"
   ]
  },
  {
   "cell_type": "markdown",
   "metadata": {},
   "source": [
    "### FileNotFoundError\n",
    "*  存在しないファイルを開こうとしたときに発生\n",
    "\n",
    "---\n",
    "コードの例:  \n",
    "```Python\n",
    "with open('non_existent_file.txt', 'r', encoding='utf-8') as f:\n",
    "    content = f.read()\n",
    "```\n",
    "\n",
    "エラー:  \n",
    "```\n",
    "FileNotFoundError                         Traceback (most recent call last)\n",
    "<ipython-input-9-5db722fe0271> in <cell line: 1>()\n",
    "----> 1 with open('non_existent_file.txt', 'r', encoding='utf-8') as f:\n",
    "      2     content = f.read()\n",
    "\n",
    "FileNotFoundError: [Errno 2] No such file or directory: 'non_existent_file.txt'\n",
    "```\n",
    "---\n",
    "\n",
    "*  指定したファイル「non_existent_file.txt」が存在しないために発生\n",
    "*  `open`関数でファイルを開こうとした時点でエラーが発生する\n",
    "*  `[Errno 2]`はエラー番号\n",
    ">*  `[Errno 2]`は「ファイルが見つからない」という意味\n",
    "*  `No such file or directory`は，指定されたファイルやディレクトリ（フォルダ）が見つからないことを示すメッセージ\n",
    "*  `'non_existent_file.txt'`は，指定されたファイル名\n"
   ]
  },
  {
   "cell_type": "code",
   "execution_count": null,
   "metadata": {},
   "outputs": [],
   "source": [
    "with open('non_existent_file.txt', 'r', encoding='utf-8') as f:\n",
    "    content = f.read()"
   ]
  },
  {
   "cell_type": "markdown",
   "metadata": {},
   "source": [
    "### ModuleNotFoundError\n",
    "\n",
    "*  指定したモジュールが見つからないときに発生\n",
    "\n",
    "---\n",
    "コードの例:  \n",
    "```Python\n",
    "import masu\n",
    "```\n",
    "\n",
    "エラー:  \n",
    "```\n",
    "ModuleNotFoundError                       Traceback (most recent call last)\n",
    "<ipython-input-4-0d89f4e602f8> in <cell line: 1>()\n",
    "----> 1 import masu\n",
    "\n",
    "ModuleNotFoundError: No module named 'masu'\n",
    "```\n",
    "---\n",
    "*  `No module named 'masu'`は，Pythonが「masu」という名前のモジュールを見つけられなかったことを示してる\n",
    "*  「masu」 がインストールされていない，もしくは名前を間違えて指定した可能性が考えられる\n",
    "\n"
   ]
  },
  {
   "cell_type": "code",
   "execution_count": null,
   "metadata": {},
   "outputs": [],
   "source": [
    "import masu"
   ]
  },
  {
   "cell_type": "markdown",
   "metadata": {},
   "source": [
    "### AttributeError\n",
    "*  インポートしたモジュールに存在しない関数などを指定しようとしたときに発生\n",
    "*  エラーメッセージでは，関数，変数，クラス，属性，メソッドをまとめて「`attribute`」と呼んでいる\n",
    "\n",
    "---\n",
    "コードの例:  \n",
    "```Python\n",
    "import math\n",
    "math.power(10, 2)\n",
    "```\n",
    "\n",
    "エラー:  \n",
    "```\n",
    "AttributeError                            Traceback (most recent call last)\n",
    "<ipython-input-5-b6373654ee68> in <cell line: 2>()\n",
    "      1 import math\n",
    "----> 2 math.power(10, 2)\n",
    "\n",
    "AttributeError: module 'math' has no attribute 'power'\n",
    "```\n",
    "---\n",
    "\n",
    "*  mathモジュールに`power`という関数が存在しないために発生\n",
    "*  `module 'math' has no attribute 'power'`がこれを示している\n",
    "*  正しい関数である`pow`を指定することで解決できる\n"
   ]
  },
  {
   "cell_type": "code",
   "execution_count": null,
   "metadata": {},
   "outputs": [],
   "source": [
    "import math\n",
    "math.power(10, 2)"
   ]
  },
  {
   "cell_type": "markdown",
   "metadata": {},
   "source": [
    "### ImportError\n",
    "\n",
    "*  指定した変数や関数をモジュールから読み込めないときに発生\n",
    "\n",
    "---\n",
    "コードの例:  \n",
    "```Python\n",
    "from math import power\n",
    "```\n",
    "\n",
    "エラー:  \n",
    "```\n",
    "ImportError                               Traceback (most recent call last)\n",
    "<ipython-input-6-c78644c22643> in <cell line: 1>()\n",
    "----> 1 from math import power\n",
    "\n",
    "ImportError: cannot import name 'power' from 'math' (unknown location)\n",
    "```\n",
    "---\n",
    "\n",
    "*  `from math import power`は，Pythonの標準ライブラリである mathモジュールから`power`という名前の関数をインポートしようとしている\n",
    "*  しかし，mathモジュールには`power`という関数は存在しないので，エラーが発生する\n",
    "*  `cannot import name 'power' from 'math'`は，mathモジュールから`power`という名前の関数をインポートしようとしましたが，その名前の関数が存在しないため，インポートできないことを示している\n",
    "*  正しい関数である`pow`をインポートすることで解決できる"
   ]
  },
  {
   "cell_type": "code",
   "execution_count": null,
   "metadata": {},
   "outputs": [],
   "source": [
    "from math import power"
   ]
  },
  {
   "cell_type": "markdown",
   "metadata": {},
   "source": [
    "## スタックトレース\n",
    "*  実行時エラーが発生すると多くの場合に表示される\n",
    "*  エラーが発生するまでの過程（関数の呼び出し順序等）が示される\n",
    "*  エラー解決に役立つ情報\n",
    "*  一般にスタックトレースを遡って順に問題がないか確認する\n"
   ]
  },
  {
   "cell_type": "code",
   "execution_count": null,
   "metadata": {},
   "outputs": [],
   "source": [
    "def funcA(z):\n",
    "    ans = z * a\n",
    "    print(ans)\n",
    "\n",
    "def funcB(x, y):\n",
    "    z = x + y\n",
    "    funcA(z)\n",
    "\n",
    "x = 10\n",
    "y = 20\n",
    "funcB(x, y)"
   ]
  },
  {
   "cell_type": "markdown",
   "metadata": {},
   "source": [
    "<img src=\"./fig/08_stack_trace.png\" width=\"500\">"
   ]
  },
  {
   "cell_type": "markdown",
   "metadata": {},
   "source": [
    "# 例外処理"
   ]
  },
  {
   "cell_type": "markdown",
   "metadata": {},
   "source": [
    "## 例外処理とは\n",
    "*  Pythonは，コード実行中に次に何をすべきかの判断ができないと「例外オブジェクト」を生成する\n",
    "*  前述した例外（「NameError」「TypeError」「ValueError」など）が例外オブジェクトのクラス（以降は「例外クラス」と呼ぶ）に対応している\n",
    "*  例外オブジェクトが生成されることで，「例外」が発生する\n",
    "*  この例外オブジェクトを適切に処理することで，例外が発生してもプログラムが中断されないようにできる\n",
    "*  この処理のことを例外処理と呼ぶ\n",
    "*  例外処理は，例外が発生する可能性があるコードを予測して，その例外に対して適切な対応を取るために使われる"
   ]
  },
  {
   "cell_type": "markdown",
   "metadata": {},
   "source": [
    "## 例外処理の必要性\n",
    "*  例えば，アプリを実装するコードにおいて，例外の発生をそのままにしておくと，以下のようなリスクがある\n",
    ">*  アプリがクラッシュする\n",
    ">*  ユーザが操作不能になる\n",
    ">*  データに予期しない変更が加えられる\n",
    "*  こういったことが起きると，アプリ（を販売してる企業）の信頼が低下してしまうので，例外の発生は望ましくない\n",
    "*  そのため，予想される例外に対して，あらかじめ対処しておく必要がある ⇒ 例外処理"
   ]
  },
  {
   "cell_type": "markdown",
   "metadata": {},
   "source": [
    "## 例外処理の基本構文\n",
    "*  Pythonでは，`try`ブロック, `except`ブロック, `else`ブロック, `finally`ブロック を使って例外処理のコードを記述する\n",
    "*  各ブロックは，`if`文や`for`文などと同様に，インデントで設定する\n",
    "*  ブロックの直前には，ブロックの始まりを宣言するヘッダを記述する（これも`if`文や`for`文などと同様）\n",
    "*  まずは，`try`ブロックと`except`ブロックを使った，基本的な例外処理について説明する\n",
    "\n",
    "---\n",
    "```Python\n",
    "try:\n",
    "    # 例外が発生する可能性のある処理\n",
    "except 捕捉する例外の種類（例外クラス）:\n",
    "    # tryブロック内で例外が発生したときの処理\n",
    "```\n",
    "---"
   ]
  },
  {
   "cell_type": "markdown",
   "metadata": {},
   "source": [
    "### `try`ブロック\n",
    "*  ヘッダには，`try:`と記述（コロン`:`を忘れないように注意する）\n",
    "*  `try`ブロックには，例外が発生する可能性がある処理を記述する\n",
    "*  `try`ブロック内で例外が発生すると，その処理は中断され，対応する`except`ブロックが実行される"
   ]
  },
  {
   "cell_type": "markdown",
   "metadata": {},
   "source": [
    "### `except`ブロック\n",
    "*  ヘッダには，`except 例外の種類（例外オブジェクトのクラス）:`と記述\n",
    "*  タプル（tuple）を使って複数の例外を指定することもできる\n",
    "*  発生する例外クラスを指定することで，その特定の例外に対してのみ処理を行うことができる\n",
    "*  何も指定しない場合は，すべての例外に対して同じ処理を行うことになるが推奨しない\n",
    ">*  基本的には，具体的な例外クラスを指定する\n",
    ">*  何も指定しないと，自分が予期していない例外が発生しても，それに気づくことができない\n",
    ">*  これは望ましいことではない\n",
    "*  `except`ブロックには，`try`ブロックにおいて，ヘッダで指定した例外が発生した場合に実行される処理を記述する\n",
    "*  `except`ブロックは，複数記述することも可能\n",
    "*  ただし，一度の処理で実行されるのは，1つの`except`ブロックのみ\n",
    "*  `try`ブロックで例外が発生しなければ，`except`ブロックはスキップされる"
   ]
  },
  {
   "cell_type": "markdown",
   "metadata": {},
   "source": [
    "## 基本的な例外処理の具体例"
   ]
  },
  {
   "cell_type": "markdown",
   "metadata": {},
   "source": [
    "### ValueErrorの捕捉\n",
    "*  以下のコードは，ユーザからの入力を整数に変換・表示する処理を行っている\n",
    "*  例外処理を使って，入力が整数以外の無効な値だった場合にエラーメッセージ「整数値ではありません。終了します。」を表示して処理を終了する仕組みになっている"
   ]
  },
  {
   "cell_type": "code",
   "execution_count": null,
   "metadata": {},
   "outputs": [],
   "source": [
    "try:\n",
    "    n = int(input('整数値を入力してください：'))\n",
    "    print(n)\n",
    "except ValueError: # ValueErrorを捕捉\n",
    "    print('整数値ではありません。終了します。')"
   ]
  },
  {
   "cell_type": "markdown",
   "metadata": {},
   "source": [
    "*  さらに，以下のコードのように`as 変数`を使うことで，エラーメッセージを表示することもできる\n",
    "*  `as e` の部分で，発生した例外オブジェクトを変数`e`に代入している\n",
    "*  これにより，エラーメッセージが`e`を通じて表示できる"
   ]
  },
  {
   "cell_type": "code",
   "execution_count": null,
   "metadata": {},
   "outputs": [],
   "source": [
    "try:\n",
    "    n = int(input('整数値を入力してください：'))\n",
    "    print(n)\n",
    "except ValueError as e: # ValueErrorを捕捉\n",
    "    print(f'整数値ではありません。終了します。: {e}')"
   ]
  },
  {
   "cell_type": "markdown",
   "metadata": {},
   "source": [
    "また，以下のような無限ループの`while`文を組み合わせると，整数値が入力されるまで，何度も入力を受け付けることができる．"
   ]
  },
  {
   "cell_type": "code",
   "execution_count": null,
   "metadata": {},
   "outputs": [],
   "source": [
    "while True:\n",
    "    try:\n",
    "        n = int(input('整数値を入力してください：'))\n",
    "        print(n)\n",
    "        break\n",
    "    except ValueError:\n",
    "        print('整数値ではありません。入力し直してください。')"
   ]
  },
  {
   "cell_type": "markdown",
   "metadata": {},
   "source": [
    "### ZeroDivisionErrorの捕捉\n",
    "*  以下のコードは，0で割り算を行った際に発生する ZeroDivisionError を捕捉して，適切なエラーメッセージを表示する\n",
    "*  `try`ブロック内で ZeroDivisionError が発生した場合，この例外を捕捉するための`except`ブロックが実行される"
   ]
  },
  {
   "cell_type": "code",
   "execution_count": null,
   "metadata": {},
   "outputs": [],
   "source": [
    "try:\n",
    "    x = 0\n",
    "    result = 10 / x\n",
    "except ZeroDivisionError as e:\n",
    "    print(f'ゼロでの除算はできません: {e}')"
   ]
  },
  {
   "cell_type": "markdown",
   "metadata": {},
   "source": [
    "### FileNotFoundErrorの捕捉\n",
    "*  以下のコードは，存在しないファイルを読み込もうとした際に発生する FileNotFoundError を捕捉して，適切なエラーメッセージを表示する\n",
    "*  `try`ブロックの`with`ブロックで non_existent_file.txt というファイルを読み込もうとしているが，ファイルが存在しないため FileNotFoundError が発生する"
   ]
  },
  {
   "cell_type": "code",
   "execution_count": null,
   "metadata": {},
   "outputs": [],
   "source": [
    "try:\n",
    "    with open('non_existent_file.txt', 'r', encoding='utf-8') as f:\n",
    "        content = f.read()\n",
    "except FileNotFoundError as e:\n",
    "    print(f'ファイルが見つかりませんでした: {e}')"
   ]
  },
  {
   "cell_type": "markdown",
   "metadata": {},
   "source": [
    "## 高度な例外処理の構文\n",
    "*  `try`ブロックと`except`ブロックに加えて，`else`ブロックや`finally`ブロックを使うことで，より高度な例外処理を実現できる\n",
    "*  各ブロックとヘッダーの書式は以下のとおり\n",
    "---\n",
    "```Python\n",
    "try:\n",
    "    # 例外が発生する可能性のある処理\n",
    "except 捕捉する例外の種類（例外クラス）:\n",
    "    # tryブロック内で例外が発生したときの処理\n",
    "else:\n",
    "    # 例外が発生しなかったときの処理\n",
    "finally:\n",
    "    # 例外が発生したかどうかに関係なく実行される処理（必ず実行される）\n",
    "```\n",
    "---"
   ]
  },
  {
   "cell_type": "markdown",
   "metadata": {},
   "source": [
    "## 高度な例外処理の具体例"
   ]
  },
  {
   "cell_type": "markdown",
   "metadata": {},
   "source": [
    "### `else`ブロックの例\n",
    "*  `else`ブロックの位置は`except`ブロックより後ろでなければならない\n",
    "*  `else`ブロックの処理は，`try`ブロックで例外が発生しなかったときのみ実行される\n",
    "*  つまり，「例外が発生しなかったときにだけ実行したい処理」を，`else`ブロックによって明確に分けることができる\n",
    "*  例えば，次のコードを考える"
   ]
  },
  {
   "cell_type": "code",
   "execution_count": null,
   "metadata": {},
   "outputs": [],
   "source": [
    "while True:\n",
    "    try:\n",
    "        n = int(input('整数値を入力してください：'))\n",
    "        print(f'入力された整数値の2倍は{n * 2}です。') # 例外が発生しなかった時の処理\n",
    "        break\n",
    "    except ValueError:\n",
    "        print('整数値ではありません。入力し直してください。')"
   ]
  },
  {
   "cell_type": "markdown",
   "metadata": {},
   "source": [
    "*  このコードは，入力した整数値の2倍を表示するが，`int(input('整数値を入力してください：'))`で ValueErrorが生じたときに例外処理を行うことを想定している\n",
    "*  しかし，例外処理の対象ではないコード（`print`関数など）が`try`ブロックの中に含まれているので，想定していない例外が発生したときに，その原因が隠れてしまってミスを見落とす恐れがある\n",
    "*  このコードの例では，そのような恐れはないかもしれないが，一般的には「例外の発生を想定している処理」と「例外が発生しなかった時にだけ実行したい処理」は分離しておくほうが望ましい"
   ]
  },
  {
   "cell_type": "code",
   "execution_count": null,
   "metadata": {},
   "outputs": [],
   "source": [
    "while True:\n",
    "    try:\n",
    "        n = int(input('整数値を入力してください：'))\n",
    "    except ValueError:\n",
    "        print('整数値ではありません。入力し直してください。')\n",
    "    else:\n",
    "        print(f'入力された整数値の2倍は{n * 2}です。') # 例外が発生しなかった時の処理\n",
    "        break"
   ]
  },
  {
   "cell_type": "markdown",
   "metadata": {},
   "source": [
    "### `finally`ブロックの例\n",
    "*  `finally`ブロックは，例外が発生しても／しなくても，必ず最後に実行される処理を記述するブロック\n",
    "*  主に「後始末（リソースの解放，ファイルや接続のクローズなど）」に使われる"
   ]
  },
  {
   "cell_type": "code",
   "execution_count": null,
   "metadata": {},
   "outputs": [],
   "source": [
    "c = 0\n",
    "while True:\n",
    "    try:\n",
    "        n = int(input('整数値を入力してください：'))\n",
    "        break # finallyの処理をしてからbreakする\n",
    "    except ValueError:\n",
    "        print('整数値ではありません。入力し直してください。')\n",
    "    finally:\n",
    "        c += 1 # 必ず実行される\n",
    "\n",
    "print(f'入力された数値は{n}です。')\n",
    "print(f'{c}回目の入力で成功しました。')\n",
    "        "
   ]
  },
  {
   "cell_type": "markdown",
   "metadata": {},
   "source": [
    "### `else`ブロックと`finally`ブロックの例"
   ]
  },
  {
   "cell_type": "code",
   "execution_count": null,
   "metadata": {},
   "outputs": [],
   "source": [
    "c = 0\n",
    "while True:\n",
    "    try:\n",
    "        n = int(input('整数値を入力してください：'))\n",
    "    except ValueError:\n",
    "        print('整数値ではありません。入力し直してください。')\n",
    "    else:\n",
    "        print(f'入力された数値は{n}です。') # 例外が発生しなかった時の処理\n",
    "        break # finallyの処理をしてからbreakする\n",
    "    finally:\n",
    "        c += 1 # 必ず実行される\n",
    "\n",
    "print(f'{c}回目の入力で成功しました。')"
   ]
  },
  {
   "cell_type": "markdown",
   "metadata": {},
   "source": [
    "### 入れ子構造の例\n",
    "* 各ブロックの中に，`try`ブロックなどを入れることもできる"
   ]
  },
  {
   "cell_type": "code",
   "execution_count": null,
   "metadata": {},
   "outputs": [],
   "source": [
    "try:\n",
    "    f = open('data.txt', 'r')\n",
    "    data = f.read()\n",
    "    print(data)\n",
    "except FileNotFoundError:\n",
    "    print('ファイルが存在しません')\n",
    "finally:\n",
    "    try:\n",
    "        f.close() # ファイルが開かれていたら必ず閉じる\n",
    "        print('ファイルを閉じました')\n",
    "    except NameError:\n",
    "        pass  # f が未定義なら何もしない"
   ]
  },
  {
   "cell_type": "markdown",
   "metadata": {},
   "source": [
    "## `raise`文で例外を発生させる\n",
    "*  `raise`文を使うと，特定の例外を意図的に発生できる\n",
    "*  `raise`文を適切に利用することで，例外の管理と処理を効果的に行うことができる\n",
    "\n",
    "**書式:**\n",
    "```Python\n",
    "raise 例外のタイプ('メッセージ')\n",
    "```"
   ]
  },
  {
   "cell_type": "code",
   "execution_count": null,
   "metadata": {},
   "outputs": [],
   "source": [
    "raise NameError('HiThere')"
   ]
  },
  {
   "cell_type": "markdown",
   "metadata": {},
   "source": [
    "### 例1: 数値でなければ例外を発生\n",
    "*  ここで，数値を引数として，その値の2乗を計算する`square`関数を定義する\n",
    "*  この`square`関数への引数に応じて，`raise`文で例外を発生させる \n",
    "* 具体的には，引数が数値（`int`と`float`）以外のときに TypeErrorを発生させる\n",
    "*  コード内で使用している`isinstance`関数は，オブジェクト（値）が特定のクラス（データ型）に属しているかを判定する関数で，以下のような特徴を持つ\n",
    ">*  呼び出しの書式: `isinstance(object, classinfo)`\n",
    ">*  `object`: 判定対象のオブジェクト（変数など）\n",
    ">*  `classinfo`: クラス（例: `int`, `str`）またはクラスのタプル（例: `(int, float)`）\n",
    ">*  戻り値のデータ型: `bool`（`True` または `False`）\n",
    ">*  `object`のクラスが`classinfo`であれば`True`，そうでなければ`False`"
   ]
  },
  {
   "cell_type": "code",
   "execution_count": null,
   "metadata": {},
   "outputs": [],
   "source": [
    "def square(x):\n",
    "    if not isinstance(x, (int, float)):\n",
    "        raise TypeError('数値を渡してください')\n",
    "    return x * x\n",
    "\n",
    "print(square(5))      # OK\n",
    "print(square('abc'))  # TypeError 発生"
   ]
  },
  {
   "cell_type": "markdown",
   "metadata": {},
   "source": [
    "### 例2: 条件を設定して例外を発生\n",
    "*  ここで，残高（`balance`）と引き出し額（`amount`）を引数として，残額を計算する`withdraw`関数を定義する\n",
    "*  この`withdraw`関数への引数に応じて，`raise`文で例外を発生させる\n",
    "*  具体的には，条件式`amount > balance`が`True`のとき，すなわち，残高より引き出し額が大きいときに ValueErrorを発生させる"
   ]
  },
  {
   "cell_type": "code",
   "execution_count": null,
   "metadata": {},
   "outputs": [],
   "source": [
    "def withdraw(balance, amount):\n",
    "    if amount > balance:\n",
    "        raise ValueError('残高不足です')\n",
    "    return balance - amount\n",
    "\n",
    "print(withdraw(1000, 200))   # 800\n",
    "print(withdraw(1000, 2000))  # ValueError 発生\n"
   ]
  },
  {
   "cell_type": "markdown",
   "metadata": {},
   "source": [
    "### 例3: `try-except` と組み合わせ\n",
    "* `Try`ブロックの中に`raise`文を入れることで，特定の条件のときに例外を発生させるしくみを作ることができる"
   ]
  },
  {
   "cell_type": "code",
   "execution_count": null,
   "metadata": {},
   "outputs": [],
   "source": [
    "try:\n",
    "    if True: # 特定の条件\n",
    "        raise RuntimeError('処理中に問題が発生しました')\n",
    "except RuntimeError as e:\n",
    "    print('キャッチしました:', e)\n"
   ]
  },
  {
   "cell_type": "markdown",
   "metadata": {},
   "source": [
    "## 独自の例外クラス\n",
    "* Pythonでは，独自の例外クラスを作ることができる\n",
    "\n",
    "**書式:**\n",
    "```Python\n",
    "class 例外クラス名(Exception):\n",
    "    属性やメソッドの定義\n",
    "```\n",
    "\n",
    "* 次のコードでは，負の数が入力されたときの例外「`NegativeNumberError`」を定義している\n",
    "* この例外クラスは，名前だけ定義しているので，属性やメソッドの定義は行っていない\n",
    "* このような属性やメソッドが全くないクラスを定義する場合は，`pass`と記述する"
   ]
  },
  {
   "cell_type": "code",
   "execution_count": null,
   "metadata": {},
   "outputs": [],
   "source": [
    "class NegativeNumberError(Exception):\n",
    "    pass\n",
    "\n",
    "def square_root(x):\n",
    "    if x < 0:\n",
    "        raise NegativeNumberError('負の数の平方根は計算できません')\n",
    "    return x ** 0.5\n",
    "\n",
    "x = -9\n",
    "try:\n",
    "    print(square_root(x))\n",
    "except NegativeNumberError as e:\n",
    "    print('エラー:', e)"
   ]
  },
  {
   "cell_type": "markdown",
   "metadata": {},
   "source": [
    "# 実習\n",
    "以下の要件を満たすコードを作成しなさい．\n",
    "\n",
    "**＜要件＞**\n",
    "*  すでに入力されているコードは削除・変更しない\n",
    "*  「# ここにコードを記述」のある行にだけコードを追加で記述する\n",
    "*  コメントはすべて削除する\n",
    "*  以下の動作をするようにコードを完成させる\n",
    ">*  `input`関数でユーザがインデックス（整数値）を入力すると，そのインデックスとインデックスに対応するリストの要素を`print`関数で表示する\n",
    ">*  入力したインデックスがリストの範囲外であれば，`print`関数で「エラー: インデックスがリストの範囲外です。」と表示する\n",
    ">*  入力したインデックスが整数値でなければ，`print`関数で「エラー: 整数を入力してください。」と表示する\n",
    ">*  `except`ブロックのヘッダーには，具体的な例外クラスを指定する\n",
    "  \n",
    "**【ヒント】**`except`ブロックを2つ記述する\n",
    "  \n",
    "---\n",
    "**実行結果例 その1**\n",
    "```\n",
    "インデックス番号を入力してください >>3\n",
    "インデックス 3 の要素は 4 です。\n",
    "```\n",
    "\n",
    "**実行結果例 その2**\n",
    "```\n",
    "インデックス番号を入力してください >>ａ\n",
    "エラー: 整数を入力してください。\n",
    "```\n",
    "\n",
    "**実行結果例 その3**\n",
    "```\n",
    "インデックス番号を入力してください >>5\n",
    "エラー: インデックスがリストの範囲外です。\n",
    "```\n",
    "---"
   ]
  },
  {
   "cell_type": "code",
   "execution_count": null,
   "metadata": {},
   "outputs": [],
   "source": [
    "my_list = [1, 2, 3, 4, 5]\n",
    "\n",
    "# ここにコードを記述\n",
    "    index = int(input('インデックス番号を入力してください >>')) \n",
    "    print(f'インデックス{index}の要素は{my_list[index]}です。')\n",
    "# ここにコードを記述\n",
    "    print('エラー: インデックスがリストの範囲外です。')\n",
    "# ここにコードを記述\n",
    "    print('エラー: 整数を入力してください。')"
   ]
  },
  {
   "cell_type": "markdown",
   "metadata": {},
   "source": [
    "# 参考資料\n",
    "*  ひらまつしょうたろう, [Python で身につける オブジェクト指向【SOLID原則+デザインパターンで、オブジェクト指向設計 の基礎を習得！】](https://www.udemy.com/course/python-solid-design-pattern/), Udemy, 最終更新日 2024/6\n",
    "*  Guido van Rossum (著), 鴨澤 眞夫 (翻訳), Pythonチュートリアル 第4版, オライリージャパン, 2021\n",
    "*  柴田淳, みんなのPython 第4版, SBクリエイティブ, 2016\n",
    "*  株式会社ビープラウド(監修), リブロワークス(著), スラスラ読める Pythonふりがなプログラミング Kindle版, インプレス, 2018\n",
    "*  森巧尚, Python 1年生 体験してわかる！会話でまなべる！プログラミングのしくみ Kindle版, 翔泳社, 2017\n",
    "\n"
   ]
  }
 ],
 "metadata": {
  "colab": {
   "authorship_tag": "ABX9TyP4rf0RibbZKzyL5iY4lngz",
   "provenance": []
  },
  "kernelspec": {
   "display_name": "pythonev",
   "language": "python",
   "name": "python3"
  },
  "language_info": {
   "codemirror_mode": {
    "name": "ipython",
    "version": 3
   },
   "file_extension": ".py",
   "mimetype": "text/x-python",
   "name": "python",
   "nbconvert_exporter": "python",
   "pygments_lexer": "ipython3",
   "version": "3.10.13"
  }
 },
 "nbformat": 4,
 "nbformat_minor": 0
}
