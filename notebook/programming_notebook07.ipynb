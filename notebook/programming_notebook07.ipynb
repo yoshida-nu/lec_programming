{
 "cells": [
  {
   "cell_type": "markdown",
   "metadata": {},
   "source": [
    "# オブジェクトとクラス"
   ]
  },
  {
   "cell_type": "markdown",
   "metadata": {},
   "source": [
    "## オブジェクト\n",
    "*  Pythonではすべての値がオブジェクト\n",
    "*  オブジェクトはクラス（後述）から生成される\n",
    "*  変数はオブジェクトの入れ物，あるいは，オブジェクトに付けられた名札と解釈できる\n",
    "*  オブジェクトには，そのオブジェクト固有のデータとメソッドが定義される\n",
    "*  メソッドはデータの処理方法\n",
    ">*  例: オブジェクトである文字列を大文字／小文字にする\n",
    "*  データは「プロパティ」や「属性」などと呼ぶこともある\n",
    "*  データとメソッドをまとめて「属性」と呼ぶこともあるし，データのみを「属性」と呼ぶこともある\n",
    "*  以降，データのことを「属性」と呼ぶ"
   ]
  },
  {
   "cell_type": "markdown",
   "metadata": {},
   "source": [
    "## クラス\n",
    "*  クラスはオブジェクトの雛形（設計図）のようなもの\n",
    ">* 設計図は，そのクラスのオブジェクトがどのような属性やメソッドを持っているかなどが定義される\n",
    "*  直感的なクラスのイメージ\n",
    ">*  たい焼き機がクラス\n",
    ">*  たい焼き機から作られるたい焼きがオブジェクト\n",
    ">*  たい焼きの中身や形（属性）は色々\n",
    "\n",
    "<img src=\"./fig/class_and_object.jpg\" width=\"250\">\n",
    "\n",
    "*  クラスは設計図なので，クラスがあるだけでは実体（オブジェクト）は存在しない\n",
    "*  オブジェクトは，クラスから生成されることで，初めて存在できる\n",
    "*  クラスから生成されたオブジェクトを「インスタンス」と呼ぶこともある"
   ]
  },
  {
   "cell_type": "markdown",
   "metadata": {},
   "source": [
    "## データ型はクラス\n",
    "*  Pythonにおいて，データ型はクラスとなる\n",
    "*  つまり，データ型が`int`や`str`の値は，それぞれ`int`クラス，`str`クラスのオブジェクトとなる\n",
    "*  あるオブジェクトのクラス（データ型）を調べるには`type`関数を使う\n",
    ">*  書式: `type(object)`\n",
    ">*  引数の`object`には任意の値（変数でもよい）を指定する\n",
    ">*  `object`が属しているクラスを戻り値として返す ⇒ `<class クラス名>`\n",
    "*  クラスあるいはオブジェクトが持つ固有のデータとメソッドを調べるには `dir`関数を使う\n",
    "*  書式: `dir(class)`\n",
    ">*  引数の`class`には任意のクラス名を指定する\n",
    ">*  属性とメソッドのリストを戻り値として返す\n",
    "*  Pythonであらかじめ用意されているクラスを「組み込みクラス」と呼ぶ\n",
    "*  これまで扱ってきた以下のデータ型も組み込みクラスとなる\n",
    "*  リストや文字列などのデータ型によって使えるメソッドが異なるのは，クラスごとにメソッドが定義されているから\n",
    "*  関数もオブジェクト ⇒ `function`クラス\n",
    "*  `for`文で使っていた`range`は，実は関数でなくクラス\n",
    "\n",
    "|クラス名（データ型）| 値の内容 |\n",
    "|:--|:--|\n",
    "|int（整数型）| 整数（小数を含まない数） |\n",
    "|float（浮動小数点型）| 実数（小数を含む数） |\n",
    "|str（文字列型）| 文字列 |\n",
    "|bool（論理型）| `True`と`False`のいずれか |\n",
    "|list（リスト）| 複数の値をまとめて格納 |\n",
    "|tuple（タプル）| 複数の値をまとめて格納 |\n",
    "|set（セット）| 複数の値をまとめて格納（要素の重複を許さない） |\n",
    "|dict（ディクショナリ）| キー（key）と値（value）の組合せで複数の値を格納 |"
   ]
  },
  {
   "cell_type": "code",
   "execution_count": 1,
   "metadata": {},
   "outputs": [
    {
     "name": "stdout",
     "output_type": "stream",
     "text": [
      "<class 'int'>\n"
     ]
    }
   ],
   "source": [
    "x = 5\n",
    "print(type(x))"
   ]
  },
  {
   "cell_type": "code",
   "execution_count": 2,
   "metadata": {},
   "outputs": [
    {
     "name": "stdout",
     "output_type": "stream",
     "text": [
      "<class 'float'>\n"
     ]
    }
   ],
   "source": [
    "pi = 3.14\n",
    "print(type(pi))"
   ]
  },
  {
   "cell_type": "code",
   "execution_count": 3,
   "metadata": {},
   "outputs": [
    {
     "name": "stdout",
     "output_type": "stream",
     "text": [
      "<class 'str'>\n"
     ]
    }
   ],
   "source": [
    "s = 'hello'\n",
    "print(type(s))"
   ]
  },
  {
   "cell_type": "code",
   "execution_count": 4,
   "metadata": {},
   "outputs": [
    {
     "name": "stdout",
     "output_type": "stream",
     "text": [
      "<class 'bool'>\n"
     ]
    }
   ],
   "source": [
    "x = True\n",
    "print(type(x))"
   ]
  },
  {
   "cell_type": "code",
   "execution_count": 5,
   "metadata": {},
   "outputs": [
    {
     "name": "stdout",
     "output_type": "stream",
     "text": [
      "<class 'list'>\n"
     ]
    }
   ],
   "source": [
    "my_list = [1, 2, 3, 4]\n",
    "print(type(my_list))"
   ]
  },
  {
   "cell_type": "code",
   "execution_count": 6,
   "metadata": {},
   "outputs": [
    {
     "name": "stdout",
     "output_type": "stream",
     "text": [
      "<class 'tuple'>\n"
     ]
    }
   ],
   "source": [
    "my_tuple = (1, 2, 3, 4, 5)\n",
    "print(type(my_tuple))"
   ]
  },
  {
   "cell_type": "code",
   "execution_count": 7,
   "metadata": {},
   "outputs": [
    {
     "name": "stdout",
     "output_type": "stream",
     "text": [
      "<class 'dict'>\n"
     ]
    }
   ],
   "source": [
    "my_dict = {\"name\": \"Alice\", \"age\": 25, \"city\": \"Tokyo\"}\n",
    "print(type(my_dict))"
   ]
  },
  {
   "cell_type": "code",
   "execution_count": 8,
   "metadata": {},
   "outputs": [
    {
     "name": "stdout",
     "output_type": "stream",
     "text": [
      "<class 'set'>\n"
     ]
    }
   ],
   "source": [
    "my_set = {1, 2, 3, 4, 5}\n",
    "print(type(my_set))"
   ]
  },
  {
   "cell_type": "code",
   "execution_count": 9,
   "metadata": {},
   "outputs": [
    {
     "name": "stdout",
     "output_type": "stream",
     "text": [
      "<class 'function'>\n"
     ]
    }
   ],
   "source": [
    "def my_function():\n",
    "    print(\"This is a function.\")\n",
    "\n",
    "print(type(my_function))"
   ]
  },
  {
   "cell_type": "code",
   "execution_count": 10,
   "metadata": {},
   "outputs": [
    {
     "name": "stdout",
     "output_type": "stream",
     "text": [
      "<class 'range'>\n"
     ]
    }
   ],
   "source": [
    "r = range(1, 5)\n",
    "print(type(r))"
   ]
  },
  {
   "cell_type": "markdown",
   "metadata": {},
   "source": [
    "### strクラスとlistクラスに対するメソッド\n",
    "\n",
    "**strクラスのメソッド**:  \n",
    "\n",
    "|メソッド名|意味|引数|\n",
    "|:--|:--|:--|\n",
    "`lower` | 文字列の全ての文字を小文字にして返す． | なし |\n",
    "`upper` | 文字列の全ての文字を大文字にして返す． | なし |\n",
    "`count` | 引数で指定した文字（列）の登場回数を数える． | 1つ |\n",
    "`replace` | 文字列内の指定した文字列を検索し，別に指定した文字列にすべて置き換える． | 2つ |\n",
    "`find` | 指定した文字列（文字）が初めて登場するインデックスを返す． | 1つ |\n",
    "`rfind` | 文字列（文字）が最後に登場するインデックスを返す． | 1つ |\n",
    "`strip` | 空白文字（スペース，改行，タブなど）を取り除く | なし（特定文字を削除したい場合は引数を指定する） |\n",
    "  \n",
    "※「引数」列の数値は，一般的な使用において指定する引数の個数\n",
    "\n",
    "**listクラスのメソッド**:  \n",
    "  \n",
    "|メソッド名|意味|\n",
    "|:--|:--|\n",
    "`append` | リストの末尾に要素を追加する． |\n",
    "`extend` | リストの末尾にリストを連結する． |\n",
    "`insert` | リストの中の任意の場所に要素を挿入する． |\n",
    "`pop` | リストの末尾の要素を返し，リストから削除する． |\n",
    "`remove` | 要素を削除する． |\n",
    "`reverse` | リストの並び順を逆にする． |\n",
    "`sort` | リストを小さい順にして並べ替える． |\n",
    "`count` | 特定の値がリストの中に何個あるかを数える． |\n",
    "\n",
    "*  以下のコードは，`dir`関数でstrクラスとlistクラスの属性とメソッドを表示している\n",
    "*  上表のメソッドがそれぞれのクラスで定義されているか確認する"
   ]
  },
  {
   "cell_type": "code",
   "execution_count": 11,
   "metadata": {},
   "outputs": [
    {
     "name": "stdout",
     "output_type": "stream",
     "text": [
      "['__add__', '__class__', '__contains__', '__delattr__', '__dir__', '__doc__', '__eq__', '__format__', '__ge__', '__getattribute__', '__getitem__', '__getnewargs__', '__gt__', '__hash__', '__init__', '__init_subclass__', '__iter__', '__le__', '__len__', '__lt__', '__mod__', '__mul__', '__ne__', '__new__', '__reduce__', '__reduce_ex__', '__repr__', '__rmod__', '__rmul__', '__setattr__', '__sizeof__', '__str__', '__subclasshook__', 'capitalize', 'casefold', 'center', 'count', 'encode', 'endswith', 'expandtabs', 'find', 'format', 'format_map', 'index', 'isalnum', 'isalpha', 'isascii', 'isdecimal', 'isdigit', 'isidentifier', 'islower', 'isnumeric', 'isprintable', 'isspace', 'istitle', 'isupper', 'join', 'ljust', 'lower', 'lstrip', 'maketrans', 'partition', 'removeprefix', 'removesuffix', 'replace', 'rfind', 'rindex', 'rjust', 'rpartition', 'rsplit', 'rstrip', 'split', 'splitlines', 'startswith', 'strip', 'swapcase', 'title', 'translate', 'upper', 'zfill']\n",
      "['__add__', '__class__', '__class_getitem__', '__contains__', '__delattr__', '__delitem__', '__dir__', '__doc__', '__eq__', '__format__', '__ge__', '__getattribute__', '__getitem__', '__gt__', '__hash__', '__iadd__', '__imul__', '__init__', '__init_subclass__', '__iter__', '__le__', '__len__', '__lt__', '__mul__', '__ne__', '__new__', '__reduce__', '__reduce_ex__', '__repr__', '__reversed__', '__rmul__', '__setattr__', '__setitem__', '__sizeof__', '__str__', '__subclasshook__', 'append', 'clear', 'copy', 'count', 'extend', 'index', 'insert', 'pop', 'remove', 'reverse', 'sort']\n"
     ]
    }
   ],
   "source": [
    "print(dir(str))\n",
    "print(dir(list))"
   ]
  },
  {
   "cell_type": "markdown",
   "metadata": {},
   "source": [
    "# オブジェクトの生成方法"
   ]
  },
  {
   "cell_type": "markdown",
   "metadata": {},
   "source": [
    "## クラス名関数によるオブジェクト生成\n",
    "*  オブジェクトはクラス名を指定することで生成できる\n",
    "*  書式: `変数 = クラス名()`\n",
    "*  `クラス名()`をクラス名関数と呼ぶことがある\n",
    "*  クラスによっては`クラス名()`の引数として，様々なもの（オブジェクト）を渡すことができる"
   ]
  },
  {
   "cell_type": "code",
   "execution_count": 16,
   "metadata": {},
   "outputs": [
    {
     "name": "stdout",
     "output_type": "stream",
     "text": [
      "obj1: 0\n",
      "obj2: 9\n",
      "obj3: 9.0\n",
      "obj4: []\n",
      "obj5: ['松田', '浅木']\n"
     ]
    }
   ],
   "source": [
    "obj1 = int() # 0を生成\n",
    "obj2 = int('9')\n",
    "obj3 = float('9') \n",
    "obj4 = list() # 空のリストを生成\n",
    "obj5 = list(('松田', '浅木'))\n",
    "\n",
    "print(f'obj1: {obj1}')\n",
    "print(f'obj2: {obj2}')\n",
    "print(f'obj3: {obj3}')\n",
    "print(f'obj4: {obj4}')\n",
    "print(f'obj5: {obj5}')"
   ]
  },
  {
   "cell_type": "markdown",
   "metadata": {},
   "source": [
    "## 型変換とオブジェクト生成\n",
    "*  型変換とは，ある値を異なるデータ型に変換することであった\n",
    ">*  str（文字列型）に変換する組み込み関数⇒ `str`\n",
    ">*  int（整数型）に変換する組み込み関数⇒ `int`\n",
    ">*  float（浮動小数点型）に変換する組み込み関数⇒ `float`\n",
    ">*  list（リスト）に変換する組み込み関数⇒ `list`\n",
    ">*  set（セット）に変換する組み込み関数⇒ `set`\n",
    "*  上のコードの`float('9')`や`list(('松田', '浅木'))`は，`str`クラスから`float`クラス，`tuple`クラスから`list`クラスへの型変換になっている\n",
    "*  正確には，引数に基づいてオブジェクトを生成している\n",
    ">*  `float('9')`: `str`クラスのオブジェクト「9」から，`float`クラスのオブジェクト「9.0」を生成\n",
    ">*  `list(('松田', '浅木'))`:  tupleクラスのオブジェクト「`('松田', '浅木')`」から，listクラスのオブジェクト「`['松田', '浅木']`」を生成"
   ]
  },
  {
   "cell_type": "markdown",
   "metadata": {},
   "source": [
    "# 独自クラスの定義\n",
    "*  Pythonでは，組み込みクラスとして用意されていない独自のクラスを定義して利用することもできる\n",
    "*  `class`の直後に半角スペースを入れて，クラス名を記述し，最後にコロン`:`をつける\n",
    "*  クラス名の頭文字は慣例的に大文字で記述する（詳細はPythonのコーディング規約[PEP8](https://pep8-ja.readthedocs.io/ja/latest/)を参照）\n",
    "*  `class`を記述している行を「ヘッダ」と呼ぶ\n",
    "*  ヘッダの下の行に，属性とメソッドを記述する\n",
    "*  この部分をクラスブロックと呼び，インデントしてブロックの範囲を定める\n",
    "\n",
    "<img src=\"./fig/07_def_class.png\" width=\"550\">\n"
   ]
  },
  {
   "cell_type": "markdown",
   "metadata": {},
   "source": [
    "## 独自クラスのオブジェクト生成\n",
    "*  組み込みクラスと同様にして，独自クラスのオブジェクトも生成できる\n",
    "*  書式: `変数 = クラス名()`"
   ]
  },
  {
   "cell_type": "markdown",
   "metadata": {},
   "source": [
    "## 属性へのアクセスとメソッドの呼び出し\n",
    "*  属性へのアクセスの記法: `変数.属性名`\n",
    "*  メソッドの呼び出し方の記法: `変数.メソッド名(引数1, 引数2, ...)`"
   ]
  },
  {
   "cell_type": "markdown",
   "metadata": {},
   "source": [
    "## クラスの定義とオブジェクト生成の例\n",
    "以下のコードでは，クラス`Hero`を定義している．\n",
    "*  `name`と`hp`が属性で，「`'no name'`」と「`100`」は各属性に対する属性値（初期値）\n",
    "*  `sleep`はメソッド\n",
    ">*  定義は関数と同様\n",
    ">*  1つ目の引数には必ず「self」と記述（詳細は後述）\n",
    ">*  休んだ時間（数値）を仮引数`hours`で受け取る\n",
    ">*  `print`関数で「`f'{self.name}は{hours}時間寝た!'`」を表示\n",
    ">*  `self.hp += hours`で`hp`の属性値を`hours`の分だけ加算する\n",
    "*  10行目: `Hero`クラスのオブジェクトを生成し，変数`h`に格納\n",
    "*  11行目: `Hero`クラスのオブジェクト`h`の属性`name`の属性値を「`'太郎'`」に変更\n",
    "*  12行目: `Hero`クラスのオブジェクト`h`に対して，`sleep`メソッドを呼び出す\n",
    ">*  仮引数`self`にはオブジェクト`h`が渡され，`hours`には 3が渡される\n",
    ">*  `print`関数を実行することで，実行画面に「太郎は3時間寝た!」と表示される\n",
    ">*  次に，`self.hp += hours`で`hp`の属性値が100+3=103になる\n",
    "*  13行目: 実行画面に「太郎のHPは現在103です」と表示する"
   ]
  },
  {
   "cell_type": "code",
   "execution_count": 13,
   "metadata": {},
   "outputs": [
    {
     "name": "stdout",
     "output_type": "stream",
     "text": [
      "スッキリファンタジーXII ~金色の理想郷~\n",
      "太郎は3時間寝た!\n",
      "太郎のHPは現在103です\n"
     ]
    }
   ],
   "source": [
    "class Hero:\n",
    "    name = 'no name'\n",
    "    hp = 100\n",
    "    def sleep(self, hours):\n",
    "        print(f'{self.name}は{hours}時間寝た!')\n",
    "        self.hp += hours\n",
    "\n",
    "# ゲーム開始\n",
    "print('スッキリファンタジーXII ~金色の理想郷~')\n",
    "h = Hero()\n",
    "h.name = '太郎'\n",
    "h.sleep(3)\n",
    "print(f'{h.name}のHPは現在{h.hp}です')"
   ]
  },
  {
   "cell_type": "markdown",
   "metadata": {},
   "source": [
    "## 引数`self`\n",
    "*  メソッドを呼び出す際には，必ずその対象となるオブジェクトが存在する\n",
    "*  すべてのメソッドは，第1引数として，呼び出し先のインスタンスを指定する\n",
    "*  ただし，呼び出す際には省略することができる\n",
    "*  インスタンスを受け取る仮引数の名前は，慣例で`self`としている（実際は何でもよい）\n",
    "*  上のコードで「`h.sleep(3)`」と呼び出したときの`self`には`h`が渡されていることになる\n",
    "*  このときの `sleep`メソッドにおける`self.name`は，`h.name`，つまり「太郎」となる\n"
   ]
  },
  {
   "cell_type": "markdown",
   "metadata": {},
   "source": [
    "# 可変と不変\n",
    "*  オブジェクトには，可変（ミュータブル: mutable）なものと，不変（イミュータブル: immutable）なものがある\n",
    ">*  可変: 変更可能\n",
    ">*  不変: 変更不可能\n",
    "*  可変か不変かは，クラスによって決まっている\n",
    "*  可変なクラス: `list`, `dict`, `set` など\n",
    "*  不変なクラス: `int`, `float`, `str`, `tuple` など"
   ]
  },
  {
   "cell_type": "code",
   "execution_count": null,
   "metadata": {},
   "outputs": [
    {
     "name": "stdout",
     "output_type": "stream",
     "text": [
      "[0, 4, 6]\n"
     ]
    }
   ],
   "source": [
    "my_list = [2, 4 ,6] # listオブジェクト⇒可変\n",
    "my_list[0] = 0 # 可変なので要素は変更可能\n",
    "print(my_list)"
   ]
  },
  {
   "cell_type": "code",
   "execution_count": 17,
   "metadata": {},
   "outputs": [
    {
     "ename": "TypeError",
     "evalue": "'tuple' object does not support item assignment",
     "output_type": "error",
     "traceback": [
      "\u001b[1;31m---------------------------------------------------------------------------\u001b[0m",
      "\u001b[1;31mTypeError\u001b[0m                                 Traceback (most recent call last)",
      "Cell \u001b[1;32mIn[17], line 2\u001b[0m\n\u001b[0;32m      1\u001b[0m my_tuple \u001b[38;5;241m=\u001b[39m (\u001b[38;5;241m2\u001b[39m, \u001b[38;5;241m4\u001b[39m, \u001b[38;5;241m6\u001b[39m) \u001b[38;5;66;03m# tupleオブジェクト⇒不変\u001b[39;00m\n\u001b[1;32m----> 2\u001b[0m \u001b[43mmy_tuple\u001b[49m\u001b[43m[\u001b[49m\u001b[38;5;241;43m0\u001b[39;49m\u001b[43m]\u001b[49m \u001b[38;5;241m=\u001b[39m \u001b[38;5;241m0\u001b[39m \u001b[38;5;66;03m# 不変なので要素は変更不可能\u001b[39;00m\n",
      "\u001b[1;31mTypeError\u001b[0m: 'tuple' object does not support item assignment"
     ]
    }
   ],
   "source": [
    "my_tuple = (2, 4, 6) # tupleオブジェクト⇒不変\n",
    "my_tuple[0] = 0 # 不変なので要素は変更不可能"
   ]
  },
  {
   "cell_type": "markdown",
   "metadata": {},
   "source": [
    "*  不変なオブジェクトであっても，変数への再代入によるオブジェクトの交換は可能であることに注意する\n",
    "*  交換は，以下のコードのように，同じ変数に違うオブジェクトを再代入していることに対応する\n",
    "*  詳細は後述するが，交換しているオブジェクトは，新たな別のオブジェクトを生成して，それを変数に代入していることになる"
   ]
  },
  {
   "cell_type": "code",
   "execution_count": 25,
   "metadata": {},
   "outputs": [
    {
     "name": "stdout",
     "output_type": "stream",
     "text": [
      "2\n"
     ]
    }
   ],
   "source": [
    "a = 1 # intオブジェクト⇒不変\n",
    "a = 2 # 再代入して変数の中身（オブジェクト）を交換\n",
    "print(a)"
   ]
  },
  {
   "cell_type": "code",
   "execution_count": 26,
   "metadata": {},
   "outputs": [
    {
     "name": "stdout",
     "output_type": "stream",
     "text": [
      "(0, 1, 2)\n"
     ]
    }
   ],
   "source": [
    "my_tuple = (2, 4, 6) # tupleオブジェクト⇒不変\n",
    "my_tuple = (0, 1, 2) # 再代入して変数の中身（オブジェクト）を交換\n",
    "print(my_tuple)"
   ]
  },
  {
   "cell_type": "markdown",
   "metadata": {},
   "source": [
    "### メモリの役割\n",
    "*  コンピュータは，メモリに格納されたプログラムをCPUが実行することで動作する\n",
    "*  このしくみのことを「プログラム内蔵方式」または「プログラム記憶方式」などと呼ぶ\n",
    "*  メモリには一定の区画ごとに，区画を識別するための番号が割り振られている\n",
    "*  この番号のことをアドレスと呼ぶ\n",
    "*  アドレスを指定することで，そこに格納されているデータ（ここでは値と解釈してよい）を読み出すことができる\n",
    "*  つまり，値が生成されるとメモリ内に格納され，そこから読み出すことで，様々な処理を実現する\n",
    "*  また，値のサイズによって，使用するメモリの区画範囲は変わる\n",
    "\n",
    "<img src=\"./fig/memory.jpg\" width=\"200\"> ※図はイメージ  "
   ]
  },
  {
   "cell_type": "markdown",
   "metadata": {},
   "source": [
    "# オブジェクトとメモリ\n",
    "*  コンピュータは，メモリに格納されたプログラムをCPUが実行することで動作する\n",
    "*  このしくみのことを「プログラム内蔵方式」または「プログラム記憶方式」などと呼ぶ\n",
    "*  メモリには一定の区画ごとに，区画を識別するための番号が割り振られている\n",
    "*  この番号のことをアドレスと呼ぶ\n",
    "\n",
    "<img src=\"./fig/memory.jpg\" width=\"200\"> ※図はイメージ  \n",
    "\n",
    "*  アドレスを指定することで，そこに格納されているデータ（オブジェクト）を読み出すことができる\n",
    "*  つまり，オブジェクトが生成されるとメモリ内に格納され，そこから読み出すことで，様々な処理を実現する\n",
    "*  また，オブジェクトのサイズによって，使用するメモリの区画範囲は変わる\n",
    "\n",
    "<img src=\"./fig/07_object_in_memory.png\" width=\"220\"> ※図はイメージ  "
   ]
  },
  {
   "cell_type": "markdown",
   "metadata": {},
   "source": [
    "## メモリ内での変数とオブジェクト\n",
    "*  変数を定義すると，そのためのメモリの区画が確保される\n",
    "*  変数にオブジェクトを代入すると，オブジェクトを格納してる区画のアドレスが，変数の区画に格納される\n",
    "*  つまり，アドレスの代わりに変数を使ってオブジェクトを指定できるようにしている\n",
    ">*  人間にとって，アドレスを使ってオブジェクトを指定するのはわかりにくい\n",
    ">*  そこで，アドレスの代わりに分かりやすい名前をつけ，その名前を使ってオブジェクトを指定できるようにしている\n",
    "*  オブジェクトの実体を指し示すための数値（アドレス）を**参照**と呼ぶ\n",
    "*  例えば，変数`A`に`オブジェクト1`を代入する場合，メモリ内は下図のようなイメージとなる\n",
    "  \n",
    "<img src=\"./fig/07_assignment.png\" width=\"500\">\n",
    "  \n",
    "*  下図は「data = 100」のより正確なイメージ\n",
    "\n",
    "<img src=\"./fig/07_assignment_example.png\" width=\"500\">"
   ]
  },
  {
   "cell_type": "markdown",
   "metadata": {},
   "source": [
    "## コンテナオブジェクトとメモリ\n",
    "*  リストなど複数の要素を持つコンテナオブジェクトをメモリに格納する場合は，要素の値そのものではなく，各要素が格納されているアドレス（参照）を格納する\n",
    "*  コンテナオブジェクトを変数`var`に代入する場合のメモリ内の様子は，下図のようなイメージとなる\n",
    ">*  コンテナオブジェクトを代入するための変数の先頭アドレスが 0100\n",
    ">*  この変数の区画に，オブジェクトが格納されている先頭アドレス 0046 が格納される\n",
    ">*  アドレス0046からの区画にコンテナオブジェクトの各要素が格納されている先頭アドレス 0000, 0013, 0026 を格納する\n",
    "\n",
    "\n",
    "<img src=\"./fig/07_container_in_memory.png\" width=\"700\">"
   ]
  },
  {
   "cell_type": "markdown",
   "metadata": {},
   "source": [
    "## `id`関数\n",
    "*  オブジェクトのアドレスを確認する方法として，`id`関数を用いる方法がある\n",
    "*  `id`関数は，オブジェクトが存在している間，そのオブジェクトを一意に識別する整数値を返す\n",
    "*  この整数値を identity と呼ぶ\n",
    "*  identityは，オブジェクトが格納されている区画の先頭のアドレスと解釈してよい\n",
    "*  `id`関数呼び出しの書式: `id(オブジェクトまたは変数)`\n",
    "*  `id`関数の引数は変数を指定して使うことが多い"
   ]
  },
  {
   "cell_type": "code",
   "execution_count": 24,
   "metadata": {},
   "outputs": [
    {
     "name": "stdout",
     "output_type": "stream",
     "text": [
      "1195201857040\n"
     ]
    }
   ],
   "source": [
    "x = 42\n",
    "print(id(x)) # 42のidentity"
   ]
  },
  {
   "cell_type": "markdown",
   "metadata": {},
   "source": [
    "## メモリの観点でみる可変と不変"
   ]
  },
  {
   "cell_type": "markdown",
   "metadata": {},
   "source": [
    "### 可変なオブジェクトにおける要素の変更\n",
    "*  可変なオブジェクト（リストなど）は，メモリのアドレスを変えずに要素の値を変えることができる\n",
    "\n",
    "#### 要素変更の例\n",
    "ここで，以下のコードについて考える．\n",
    "\n",
    "```\n",
    "var = [1, 2, 3]\n",
    "var[0] = 5 \n",
    "```\n",
    "\n",
    "`var = [1, 2, 3]`実行後のメモリのイメージ（下図）:\n",
    "*  変数`var`の区画にオブジェクトの参照（アドレス）が格納される\n",
    "*  オブジェクトの区画には，3つの要素（`var[0]`～`var[2]`）の区画の参照が格納される\n",
    "*  つまり，各要素の値は，オブジェクトとは別の区画に格納される\n",
    "  \n",
    "\n",
    "<img src=\"./fig/07_mutable_object_in_memory1.png\" width=\"700\">\n",
    "  \n",
    "\n",
    "`var[0] = 5`実行後のメモリのイメージ（下図）:\n",
    "*  変更した要素5が新たにメモリに格納される\n",
    "*  このアドレスが`var[0]`を格納するアドレスとしてオブジェクトの区画に上書きされる ⇒ 参照の変更\n",
    "*  オブジェクトを格納しているアドレスはそのまま\n",
    "*  よって，変数が格納している参照は変わらない\n",
    "  \n",
    "<img src=\"./fig/07_mutable_object_in_memory2.png\" width=\"700\">"
   ]
  },
  {
   "cell_type": "code",
   "execution_count": 30,
   "metadata": {},
   "outputs": [
    {
     "name": "stdout",
     "output_type": "stream",
     "text": [
      "要素変更前\n",
      "varの内容: [1, 2, 3]\n",
      "varのidentity: 1195282526784\n",
      "var[0]のidentity: 1195201855728\n",
      "\n",
      "要素変更後\n",
      "varの内容: [5, 2, 3]\n",
      "varのidentity: 1195282526784\n",
      "var[0]のidentity: 1195201855856\n"
     ]
    }
   ],
   "source": [
    "var = [1, 2, 3]\n",
    "print('要素変更前')\n",
    "print(f'varの内容: {var}')\n",
    "print(f'varのidentity: {id(var)}')\n",
    "print(f'var[0]のidentity: {id(var[0])}')\n",
    "\n",
    "print() # 改行\n",
    "\n",
    "var[0] = 5\n",
    "print('要素変更後')\n",
    "print(f'varの内容: {var}')\n",
    "print(f'varのidentity: {id(var)}')\n",
    "print(f'var[0]のidentity: {id(var[0])}')"
   ]
  },
  {
   "cell_type": "markdown",
   "metadata": {},
   "source": [
    "### 不変なオブジェクトにおける要素の変更\n",
    "*  不変なオブジェクト（文字列やタプルなど）は，メモリのアドレスを変えずに値を変えることができない\n",
    "*  タプルであれば参照を変更することができない（下図）\n",
    "*  要素を変更したい場合は，オブジェクトを交換する必要がある\n",
    "\n",
    "<img src=\"./fig/07_immutable_object_in_memory.png\" width=\"500\">\n"
   ]
  },
  {
   "cell_type": "markdown",
   "metadata": {},
   "source": [
    "### オブジェクトの交換\n",
    "*  オブジェクトを交換すると，アドレス（参照）も変わる\n",
    "*  不変なオブジェクトの場合は，交換する値を別の新たなアドレスに格納する\n",
    "\n",
    "  "
   ]
  },
  {
   "cell_type": "markdown",
   "metadata": {},
   "source": [
    "#### オブジェクトの交換例 その1\n",
    "例として，以下のコードについて考える:\n",
    "\n",
    "```\n",
    "x = 10\n",
    "x = 0\n",
    "```\n",
    "\n",
    "`x = 10`実行後のメモリのイメージ（下図）:\n",
    "*  変数`x`の区画にオブジェクトの参照（アドレス）が格納される\n",
    "*  オブジェクトの区画には，10が格納される\n",
    "　\n",
    "  \n",
    "`x = 0`実行後のメモリのイメージ（下図）:\n",
    "*  5が新たなオブジェクトとしてメモリに格納される\n",
    "*  このアドレスが`x`の区画に上書きされる ⇒ 参照の変更\n",
    "*  よって，`x`は異なるオブジェクトになる\n",
    "  \n",
    "<img src=\"./fig/07_exchanging_immutable_objects.png\" width=\"500\">"
   ]
  },
  {
   "cell_type": "markdown",
   "metadata": {},
   "source": [
    "#### オブジェクトの交換例 その2\n",
    "別の例として，以下のコードについて考える:　　\n",
    "\n",
    "```\n",
    "val = (1, 2, 3)\n",
    "val = (5, 2, 3)\n",
    "```\n",
    "\n",
    "`val = (1, 2, 3)`実行後のメモリのイメージ（下図）:\n",
    "*  変数`val`の区画にオブジェクトの参照（アドレス）が格納される\n",
    "*  オブジェクトの区画には，各要素を格納している参照が格納される\n",
    "  \n",
    "  \n",
    "`val = (5, 2, 3)`実行後のメモリのイメージ（下図）:\n",
    "*  `(5, 2, 3)`の各要素が新たな区画にそれぞれ格納される\n",
    "*  これらの区画のアドレスが`x`の区画に上書きされる ⇒ 参照の変更\n",
    "*  よって，`val`は異なるオブジェクトになる\n",
    "\n",
    "<img src=\"./fig/07_exchanging_immutable_objects2.png\" width=\"500\">\n",
    "　　\n",
    "  \n",
    "* 可変なオブジェクトの交換も，同じように動作する\n"
   ]
  },
  {
   "cell_type": "code",
   "execution_count": 31,
   "metadata": {},
   "outputs": [
    {
     "name": "stdout",
     "output_type": "stream",
     "text": [
      "交換前\n",
      "xの内容: 10\n",
      "xのidentity: 1195201856016\n",
      "\n",
      "交換後\n",
      "xの内容: 0\n",
      "xのidentity: 1195201855696\n"
     ]
    }
   ],
   "source": [
    "x = 10\n",
    "print('交換前')\n",
    "print(f'xの内容: {x}')\n",
    "print(f'xのidentity: {id(x)}')\n",
    "\n",
    "print() # 改行\n",
    "\n",
    "x = 0\n",
    "print('交換後')\n",
    "print(f'xの内容: {x}')\n",
    "print(f'xのidentity: {id(x)}')"
   ]
  },
  {
   "cell_type": "code",
   "execution_count": 32,
   "metadata": {},
   "outputs": [
    {
     "name": "stdout",
     "output_type": "stream",
     "text": [
      "交換前\n",
      "valの内容: (1, 2, 3)\n",
      "valのidentity: 1195282986880\n",
      "\n",
      "交換後\n",
      "valの内容: (5, 2, 3)\n",
      "valのidentity: 1195304476672\n"
     ]
    }
   ],
   "source": [
    "val = (1, 2, 3)\n",
    "print('交換前')\n",
    "print(f'valの内容: {val}')\n",
    "print(f'valのidentity: {id(val)}')\n",
    "\n",
    "print() # 改行\n",
    "\n",
    "val = (5, 2, 3)\n",
    "print('交換後')\n",
    "print(f'valの内容: {val}')\n",
    "print(f'valのidentity: {id(val)}')"
   ]
  },
  {
   "cell_type": "markdown",
   "metadata": {},
   "source": [
    "# 関数への引数の渡し方\n"
   ]
  },
  {
   "cell_type": "markdown",
   "metadata": {},
   "source": [
    "## 値渡しと参照渡し\n",
    "*  「値渡し（Call by Value）」と「参照渡し（Call by Reference）」は，関数に引数を渡す際に使われる2つの異なるメカニズム \n",
    "\n",
    "#### 値渡し\n",
    "* 関数に引数を渡す際に，その引数の値のコピーが関数に渡される\n",
    "* 関数内で引数の値を変更しても，関数外部には影響がない\n",
    "\n",
    "#### 参照渡し\n",
    "* 関数に渡される引数が，その値の参照（アドレス）となる\n",
    "* 関数内で引数を操作すると，元の値も変更される\n"
   ]
  },
  {
   "cell_type": "markdown",
   "metadata": {},
   "source": [
    "## Pythonでの引数の渡し方\n",
    "*  Pythonでの引数の渡し方は，参照の値渡し（Call by Sharing）となる\n",
    "*  つまり，オブジェクトの参照（アドレス）を値渡ししている\n",
    "*  そのため，可変と不変で様子が異なる\n",
    "*  可変なオブジェクトは参照渡しのように振る舞う\n",
    ">*  関数内で引数の値を変更すると，関数外のオブジェクトにもその変更が反映される\n",
    "* 不変なオブジェクトは値渡しのように振る舞う\n",
    ">* 関数内で引数を変更しても，元のオブジェクトは変わらない\n",
    ">* 何故なら関数内での変更は新しいオブジェクトを作成すること（つまりオブジェクトの交換）になるため\n"
   ]
  },
  {
   "cell_type": "markdown",
   "metadata": {},
   "source": [
    "## 不変なオブジェクトの参照の値渡しのイメージ\n",
    "例として，以下のコードを考える:\n",
    "\n",
    "```\n",
    "def add_1(a):\n",
    "  a += 1\n",
    "\n",
    "x = 1\n",
    "add_1(x)\n",
    "print(x)\n",
    "```\n",
    "\n",
    "*  1～2行目: 関数`add_1`を定義\n",
    "*  4行目: `x`に1を代入\n",
    "*  `x`の区画には 1を格納しているアドレスが格納される\n",
    "  \n",
    "<img src=\"./fig/07_call_by_sharing_immutable1.png\" width=\"600\">\n",
    "  \n",
    "*  5行目: 関数`add_1`を呼び出す\n",
    "*  このとき，引数`a`に`x`に格納されている参照（アドレス）をコピーして渡す\n",
    "\n",
    "<img src=\"./fig/07_call_by_sharing_immutable2.png\" width=\"600\">\n",
    "  \n",
    "*  次に関数内の`a += 1`を実行（`a`に2が代入される）\n",
    "*  オブジェクトの交換となるので，新しい区画に2が格納され，そのアドレスが`a`の区画に格納される\n",
    "*  このとき変数`x`の値は1のまま\n",
    "\n",
    "<img src=\"./fig/07_call_by_sharing_immutable3.png\" width=\"600\">"
   ]
  },
  {
   "cell_type": "code",
   "execution_count": 20,
   "metadata": {},
   "outputs": [
    {
     "name": "stdout",
     "output_type": "stream",
     "text": [
      "関数呼び出し前のxの中身: 1\n",
      "関数呼び出し前のxのidentity: 1195201855728\n",
      "aの中身: 2\n",
      "aのidentity: 1195201855760\n",
      "関数呼び出し後のxの中身: 1\n",
      "関数呼び出し後のxのidentity: 1195201855728\n"
     ]
    }
   ],
   "source": [
    "def add_1(a):\n",
    "  a += 1\n",
    "  print(f'aの中身: {a}')\n",
    "  print(f'aのidentity: {id(a)}')\n",
    "\n",
    "x = 1\n",
    "print(f'関数呼び出し前のxの中身: {x}')\n",
    "print(f'関数呼び出し前のxのidentity: {id(x)}')\n",
    "add_1(x) # 関数呼び出し\n",
    "print(f'関数呼び出し後のxの中身: {x}')\n",
    "print(f'関数呼び出し後のxのidentity: {id(x)}')"
   ]
  },
  {
   "cell_type": "markdown",
   "metadata": {},
   "source": [
    "## 可変なオブジェクトの参照の値渡しのイメージ\n",
    "例として，以下のコードを考える:\n",
    "\n",
    "```\n",
    "def add_1(a):\n",
    "    a[0] += 1\n",
    "\n",
    "x = [1, 2]\n",
    "add_1(x)\n",
    "print(x)\n",
    "```\n",
    "\n",
    "*  1～2行目: 関数`add_1`を定義\n",
    "*  4行目: `x`に`[1, 2]`を代入\n",
    "*  変数`x`の区画には，オブジェクトのアドレスが格納される\n",
    "*  オブジェクトの区画には，その要素を格納するアドレスが格納される\n",
    "  \n",
    "<img src=\"./fig/07_call_by_sharing_mutable1.png\" width=\"600\">\n",
    "  \n",
    "*  5行目: 関数`add_1`を呼び出す\n",
    "*  このとき，引数`a`に`x`に格納されている参照（アドレス）をコピーして渡す\n",
    "  \n",
    "<img src=\"./fig/07_call_by_sharing_mutable2.png\" width=\"600\">\n",
    "  \n",
    "*  次に関数内の`a[0] += 1`を実行すると，`a[0]`に2が代入される\n",
    "*  新しい区画に2が格納され，そのアドレスがオブジェクトの区画に上書きされる\n",
    "* 　このとき変数`x`の内容も変更される\n",
    "\n",
    "<img src=\"./fig/07_call_by_sharing_mutable3.png\" width=\"600\">"
   ]
  },
  {
   "cell_type": "code",
   "execution_count": 34,
   "metadata": {},
   "outputs": [
    {
     "name": "stdout",
     "output_type": "stream",
     "text": [
      "関数呼び出し前のxの中身: [1, 2]\n",
      "関数呼び出し前のxのidentity: 1195304305088\n",
      "関数呼び出し前のx[0]のidentity: 1195201855728\n",
      "aの中身: [2, 2]\n",
      "aのidentity: 1195304305088\n",
      "関数呼び出し後のxの中身: [2, 2]\n",
      "関数呼び出し後のxのidentity: 1195304305088\n",
      "関数呼び出し後のx[0]のidentity: 1195201855760\n"
     ]
    }
   ],
   "source": [
    "def add_1(a):\n",
    "    a[0] += 1\n",
    "    print(f'aの中身: {a}')\n",
    "    print(f'aのidentity: {id(a)}')\n",
    "\n",
    "x = [1, 2]\n",
    "print(f'関数呼び出し前のxの中身: {x}')\n",
    "print(f'関数呼び出し前のxのidentity: {id(x)}')\n",
    "print(f'関数呼び出し前のx[0]のidentity: {id(x[0])}')\n",
    "add_1(x) # 関数呼び出し\n",
    "print(f'関数呼び出し後のxの中身: {x}')\n",
    "print(f'関数呼び出し後のxのidentity: {id(x)}')\n",
    "print(f'関数呼び出し後のx[0]のidentity: {id(x[0])}')"
   ]
  },
  {
   "cell_type": "markdown",
   "metadata": {},
   "source": [
    "## 防御的コピー\n",
    "*  上記のような状況を回避するために，元の変数を複製したものを関数に引き渡せばよい\n",
    "*  これにより，引き渡した中身が壊されても元の変数には影響が及ばない\n",
    "*  変数をコピーする方法はオブジェクトのクラスによって様々な方法が考えられる\n",
    "*  例えばリストであれば，`copy`メソッドを使うとコピーができる"
   ]
  },
  {
   "cell_type": "code",
   "execution_count": 35,
   "metadata": {},
   "outputs": [
    {
     "name": "stdout",
     "output_type": "stream",
     "text": [
      "関数呼び出し前のxの中身: [1, 2]\n",
      "関数呼び出し前のxのidentity: 1195304113472\n",
      "関数呼び出し前のx[0]のidentity: 1195201855728\n",
      "aの中身: [2, 2]\n",
      "aのidentity: 1195304305088\n",
      "関数呼び出し後のxの中身: [1, 2]\n",
      "関数呼び出し後のxのidentity: 1195304113472\n",
      "関数呼び出し後のx[0]のidentity: 1195201855728\n"
     ]
    }
   ],
   "source": [
    "def add_1(a):\n",
    "    a[0] += 1\n",
    "    print(f'aの中身: {a}')\n",
    "    print(f'aのidentity: {id(a)}')\n",
    "\n",
    "x = [1, 2]\n",
    "print(f'関数呼び出し前のxの中身: {x}')\n",
    "print(f'関数呼び出し前のxのidentity: {id(x)}')\n",
    "print(f'関数呼び出し前のx[0]のidentity: {id(x[0])}')\n",
    "add_1(x.copy()) # 関数呼び出し\n",
    "print(f'関数呼び出し後のxの中身: {x}')\n",
    "print(f'関数呼び出し後のxのidentity: {id(x)}')\n",
    "print(f'関数呼び出し後のx[0]のidentity: {id(x[0])}')"
   ]
  },
  {
   "cell_type": "markdown",
   "metadata": {},
   "source": [
    "# 実習\n",
    "以下の要件を満たすコードを作成しなさい．\n",
    "\n",
    "**＜要件＞**\n",
    "*  すでに入力されているコードは削除・変更しない\n",
    "*  「# ここにコードを記述」のある行にだけコードを追加で記述する\n",
    "*  コメントはすべて削除する\n",
    "*  8行目でディクショナリ`user`を定義する\n",
    ">*  `input`関数で受け取った名前と年齢を値とする\n",
    ">*  名前に対するキーは`name`とし，年齢に対するキーは`age`とする\n",
    ">*  このディクショナリを変数`user`に代入する\n",
    "*  9行目で`welcome`関数を呼び出す（引数に注意する）\n",
    "*  以下の実行例（名前を「山田花子」，年齢を「20」と入力した場合）と同じ動作となるようにする\n",
    "\n",
    "> <img src=\"./fig/07_kadai_example.png\" width=\"350\">\n",
    "\n",
    "*  任意の名前と年齢でも同様の動作となるようにする"
   ]
  },
  {
   "cell_type": "code",
   "execution_count": null,
   "metadata": {},
   "outputs": [],
   "source": [
    "def welcome(u):\n",
    "    print(f'ようこそ{u[\"name\"]}さん')\n",
    "    u['age'] = u['age'] + 1\n",
    "    print(f'あなたは来年{u[\"age\"]}歳だから大吉です!')\n",
    "\n",
    "username = input('名前を入力してください >>')\n",
    "userage = int(input('年齢を入力してください >>'))\n",
    "user = # ここにコードを記述\n",
    "# ここにコードを記述\n",
    "print(f'{user[\"age\"]}歳の{user[\"name\"]}さん、またプレイしてくださいね')"
   ]
  },
  {
   "cell_type": "markdown",
   "metadata": {},
   "source": [
    "# 参考資料\n",
    "*  [Chainer Tutorials : 02_Basics_of_Python.ipynb](https://colab.research.google.com/github/chainer/tutorials/blob/master/ja/02_Basics_of_Python.ipynb)\n",
    "*  東京大学, [6-3. クラス](https://colab.research.google.com/github/utokyo-ipp/utokyo-ipp.github.io/blob/master/colab/6/6-3.ipynb), 「プログラミング入門」講義資料\n",
    "*  ひらまつしょうたろう, [Python でわかる オブジェクト指向 とはなにか？【Python オブジェクト指向 の「なぜ？」を「徹底的に」解説】](https://www.udemy.com/course/oop-python/?couponCode=KEEPLEARNING), Udemy, 最終更新日 2023/7\n",
    "*  柴田淳, みんなのPython 第4版, SBクリエイティブ, 2016\n",
    "*  株式会社ビープラウド(監修), リブロワークス(著), スラスラ読める Pythonふりがなプログラミング Kindle版, インプレス, 2018\n",
    "*  森巧尚, Python 1年生 体験してわかる！会話でまなべる！プログラミングのしくみ Kindle版, 翔泳社, 2017\n",
    "*  増井敏克, Pythonではじめるアルゴリズム入門 伝統的なアルゴリズムで学ぶ定石と計算量 Kindle版, 翔泳社, 2020\n",
    "*  廣瀬豪, Pythonで作って学べるゲームのアルゴリズム入門 Kindle版, ソーテック社, 2021\n"
   ]
  }
 ],
 "metadata": {
  "kernelspec": {
   "display_name": "pythonev",
   "language": "python",
   "name": "python3"
  },
  "language_info": {
   "codemirror_mode": {
    "name": "ipython",
    "version": 3
   },
   "file_extension": ".py",
   "mimetype": "text/x-python",
   "name": "python",
   "nbconvert_exporter": "python",
   "pygments_lexer": "ipython3",
   "version": "3.10.13"
  }
 },
 "nbformat": 4,
 "nbformat_minor": 2
}
