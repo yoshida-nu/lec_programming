{
 "cells": [
  {
   "cell_type": "markdown",
   "metadata": {},
   "source": [
    "# オブジェクトとクラス"
   ]
  },
  {
   "cell_type": "markdown",
   "metadata": {},
   "source": [
    "## オブジェクト\n",
    "*  Pythonではすべての値がオブジェクト\n",
    "*  オブジェクトはクラス（後述）から生成される\n",
    "*  変数はオブジェクトの入れ物，あるいは，オブジェクトに付けられた名札と解釈できる\n",
    "*  オブジェクトには，そのオブジェクト固有のデータとメソッドが定義される\n",
    "*  メソッドはデータの処理方法\n",
    ">*  例: オブジェクトである文字列を大文字／小文字にする\n",
    "*  データは「プロパティ」や「属性」などと呼ぶこともある\n",
    "*  データとメソッドをまとめて「属性」と呼ぶこともあるし，データのみを「属性」と呼ぶこともある\n",
    "*  以降，データのことを「属性」と呼ぶ"
   ]
  },
  {
   "cell_type": "markdown",
   "metadata": {},
   "source": [
    "## クラス\n",
    "*  クラスはオブジェクトの雛形（設計図）のようなもの\n",
    ">* 設計図は，そのクラスのオブジェクトがどのような属性やメソッドを持っているかなどが定義される\n",
    "*  直感的なクラスのイメージ\n",
    ">*  たい焼き機がクラス\n",
    ">*  たい焼き機から作られるたい焼きがオブジェクト\n",
    ">*  たい焼きの中身や形（属性）は色々\n",
    "*  クラスは設計図なので，クラスがあるだけでは実体（オブジェクト）は存在しない\n",
    "*  オブジェクトは，クラスから生成されることで，初めて存在できる\n",
    "*  クラスから生成されたオブジェクトを「インスタンス」と呼ぶこともある"
   ]
  },
  {
   "cell_type": "markdown",
   "metadata": {},
   "source": [
    "## データ型はクラス\n",
    "*  Pythonにおいて，データ型はクラスとなる\n",
    "*  つまり，データ型が`int`や`str`の値は，それぞれ`int`クラス，`str`クラスのオブジェクトとなる\n",
    "*  あるオブジェクトのクラス（データ型）を調べるには`type`関数を使う\n",
    ">*  書式: `type(object)`\n",
    ">*  引数の`object`には任意の値（変数でもよい）を指定する\n",
    ">*  `object`が属しているクラスを戻り値として返す ⇒ `<class クラス名>`\n",
    "*  クラスあるいはオブジェクトが持つ固有のデータとメソッドを調べるには `dir`関数を使う\n",
    "*  書式: `dir(class)`\n",
    ">*  引数の`class`には任意のクラス名を指定する\n",
    ">*  属性とメソッドのリストを戻り値として返す\n",
    "*  Pythonであらかじめ用意されているクラスを「組み込みクラス」と呼ぶ\n",
    "*  これまで扱ってきた以下のデータ型も組み込みクラスとなる\n",
    "*  リストや文字列などのデータ型によって使えるメソッドが異なるのは，クラスごとにメソッドが定義されているから\n",
    "*  関数もオブジェクト ⇒ `function`クラス\n",
    "*  `for`文で使っていた`range`は，実は関数でなくクラス\n",
    "\n",
    "|クラス名（データ型）| 値の内容 |\n",
    "|:--|:--|\n",
    "|int（整数型）| 整数（小数を含まない数） |\n",
    "|float（浮動小数点型）| 実数（小数を含む数） |\n",
    "|str（文字列型）| 文字列 |\n",
    "|bool（論理型）| TrueとFalseのいずれか |\n",
    "|list（リスト）| 複数の値をまとめて格納 |\n",
    "|tuple（タプル）| 複数の値をまとめて格納 |\n",
    "|set（セット）| 複数の値をまとめて格納（要素の重複を許さない） |\n",
    "|dict（ディクショナリ）| キー（key）と値（value）の組合せで複数の値を格納 |"
   ]
  },
  {
   "cell_type": "code",
   "execution_count": null,
   "metadata": {},
   "outputs": [],
   "source": [
    "x = 5\n",
    "print(type(x))"
   ]
  },
  {
   "cell_type": "code",
   "execution_count": null,
   "metadata": {},
   "outputs": [],
   "source": [
    "pi = 3.14\n",
    "print(type(pi))"
   ]
  },
  {
   "cell_type": "code",
   "execution_count": null,
   "metadata": {},
   "outputs": [],
   "source": [
    "s = 'hello'\n",
    "print(type(s))"
   ]
  },
  {
   "cell_type": "code",
   "execution_count": null,
   "metadata": {},
   "outputs": [],
   "source": [
    "x = True\n",
    "print(type(x))"
   ]
  },
  {
   "cell_type": "code",
   "execution_count": null,
   "metadata": {},
   "outputs": [],
   "source": [
    "my_list = [1, 2, 3, 4]\n",
    "print(type(my_list))"
   ]
  },
  {
   "cell_type": "code",
   "execution_count": null,
   "metadata": {},
   "outputs": [],
   "source": [
    "my_tuple = (1, 2, 3, 4, 5)\n",
    "print(type(my_tuple))"
   ]
  },
  {
   "cell_type": "code",
   "execution_count": null,
   "metadata": {},
   "outputs": [],
   "source": [
    "my_dict = {\"name\": \"Alice\", \"age\": 25, \"city\": \"Tokyo\"}\n",
    "print(type(my_dict))"
   ]
  },
  {
   "cell_type": "code",
   "execution_count": null,
   "metadata": {},
   "outputs": [],
   "source": [
    "my_set = {1, 2, 3, 4, 5}\n",
    "print(type(my_set))"
   ]
  },
  {
   "cell_type": "code",
   "execution_count": null,
   "metadata": {},
   "outputs": [],
   "source": [
    "def my_function():\n",
    "    print(\"This is a function.\")\n",
    "\n",
    "print(type(my_function))"
   ]
  },
  {
   "cell_type": "code",
   "execution_count": null,
   "metadata": {},
   "outputs": [],
   "source": [
    "r = range(1, 5)\n",
    "print(type(r))"
   ]
  },
  {
   "cell_type": "markdown",
   "metadata": {},
   "source": [
    "### strクラスとlistクラスに対するメソッド\n",
    "\n",
    "**strクラスのメソッド**:\n",
    "|メソッド名|意味|引数|\n",
    "|:--|:--|:--|\n",
    "`lower` | 文字列の全ての文字を小文字にして返す． | なし |\n",
    "`upper` | 文字列の全ての文字を大文字にして返す． | なし |\n",
    "`count` | 引数で指定した文字（列）の登場回数を数える． | 1つ |\n",
    "`replace` | 文字列内の指定した文字列を検索し，別に指定した文字列にすべて置き換える． | 2つ |\n",
    "`find` | 指定した文字列（文字）が初めて登場するインデックスを返す． | 1つ |\n",
    "`rfind` | 文字列（文字）が最後に登場するインデックスを返す． | 1つ |\n",
    "\n",
    "**listクラスのメソッド**:\n",
    "|メソッド名|意味|\n",
    "|:--|:--|\n",
    "`append` | リストの末尾に要素を追加する． |\n",
    "`extend` | リストの末尾にリストを連結する． |\n",
    "`insert` | リストの中の任意の場所に要素を挿入する． |\n",
    "`pop` | リストの末尾の要素を返し，リストから削除する． |\n",
    "`remove` | 要素を削除する． |\n",
    "`reverse` | リストの並び順を逆にする． |\n",
    "`sort` | リストを小さい順にして並べ替える． |\n",
    "`count` | 特定の値がリストの中に何個あるかを数える． |\n",
    "\n",
    "*  以下のコードは，`dir`関数でstrクラスとlistクラスの属性とメソッドを表示している\n",
    "*  上表のメソッドがそれぞれのクラスで定義されているか確認する"
   ]
  },
  {
   "cell_type": "code",
   "execution_count": null,
   "metadata": {},
   "outputs": [],
   "source": [
    "print(dir(str))\n",
    "print(dir(list))"
   ]
  },
  {
   "cell_type": "markdown",
   "metadata": {},
   "source": [
    "# オブジェクトの生成方法"
   ]
  },
  {
   "cell_type": "markdown",
   "metadata": {},
   "source": [
    "## クラス名関数によるオブジェクト生成\n",
    "*  オブジェクトはクラス名を指定することで生成できる\n",
    "*  書式: `変数 = クラス名()`\n",
    "*  `クラス名()`をクラス名関数と呼ぶことがある\n",
    "*  クラスによっては`クラス名()`の引数として，様々なもの（オブジェクト）を渡すことができる"
   ]
  },
  {
   "cell_type": "code",
   "execution_count": null,
   "metadata": {},
   "outputs": [],
   "source": [
    "ojt1 = int() # 0を生成\n",
    "ojt2 = int(9)\n",
    "ojt3 = float(9) \n",
    "ojt4 = list() # 空のリストを生成\n",
    "ojt5 = list(('松田', '浅木'))\n",
    "\n",
    "print(f'ojt1: {ojt1}')\n",
    "print(f'ojt2: {ojt2}')\n",
    "print(f'ojt3: {ojt3}')\n",
    "print(f'ojt4: {ojt4}')\n",
    "print(f'ojt5: {ojt5}')"
   ]
  },
  {
   "cell_type": "markdown",
   "metadata": {},
   "source": [
    "## 型変換とオブジェクト生成\n",
    "*  型変換とは，ある値を異なるデータ型に変換することであった\n",
    ">*  str（文字列型）に変換する組み込み関数⇒ `str`\n",
    ">*  int（整数型）に変換する組み込み関数⇒ `int`\n",
    ">*  float（浮動小数点型）に変換する組み込み関数⇒ `float`\n",
    ">*  list（リスト）に変換する組み込み関数⇒ `list`\n",
    ">*  set（セット）に変換する組み込み関数⇒ `set`\n",
    ">*  ・・・\n",
    "*  上のコードの`float(9)`や`list(('松田', '浅木'))`は，intからfloat，タプル（tuple）からリスト（list）への型変換になっているが，正確には引数を渡してオブジェクトを生成している\n",
    ">*  `float(9)`: intクラスのオブジェクト「9」から，floatクラスのオブジェクト「9.0」を生成\n",
    ">*  `list(('松田', '浅木'))`:  tupleクラスのオブジェクト「`('松田', '浅木')`」から，listクラスのオブジェクト「`['松田', '浅木']`」を生成"
   ]
  },
  {
   "cell_type": "markdown",
   "metadata": {},
   "source": [
    "# 独自クラスの定義\n",
    "*  Pythonでは，組み込みクラスとして用意されていない独自のクラスを定義して利用することもできる\n",
    "*  `class`の直後に半角スペースを入れて，クラス名を記述し，最後にコロン`:`をつける\n",
    "*  `class`を記述している行を「ヘッダ」と呼ぶ\n",
    "*  ヘッダの下の行に，属性とメソッドを記述する\n",
    "*  この部分をクラスブロックと呼び，インデントしてブロックの範囲を定める\n",
    "\n",
    "<img src=\"./fig/07_def_class.png\" width=\"550\">\n"
   ]
  },
  {
   "cell_type": "markdown",
   "metadata": {},
   "source": [
    "## 独自クラスのオブジェクト生成\n",
    "*  組み込みクラスと同様にして，独自クラスのオブジェクトも生成できる\n",
    "*  書式: `変数 = クラス名()`"
   ]
  },
  {
   "cell_type": "markdown",
   "metadata": {},
   "source": [
    "## 属性へのアクセスとメソッドの呼び出し\n",
    "*  属性へのアクセスの記法: `変数.属性名`\n",
    "*  メソッドの呼び出し方の記法: `変数.メソッド名(引数1, 引数2, ...)`"
   ]
  },
  {
   "cell_type": "markdown",
   "metadata": {},
   "source": [
    "## クラスの定義とオブジェクト生成の例\n",
    "以下のコードでは，クラス`Hero`を定義している．\n",
    "*  `name`と`hp`が属性で，「`'no name'`」と「`100`」は各属性に対する属性値（初期値）\n",
    "*  `sleep`はメソッド\n",
    ">*  定義は関数と同様\n",
    ">*  1つ目の引数には必ず「self」と記述（詳細は後述）\n",
    ">*  休んだ時間（数値）を仮引数`hours`で受け取る\n",
    ">*  `print`関数で「`f'{self.name}は{hours}時間寝た!'`」を表示\n",
    ">*  `self.hp += hours`で`hp`の属性値を`hours`の分だけ加算する\n",
    "*  10行目: `Hero`クラスのオブジェクトを生成し，変数`h`に格納\n",
    "*  11行目: `Hero`クラスのオブジェクト`h`の属性`name`の属性値を「`'太郎'`」に変更\n",
    "*  12行目: `Hero`クラスのオブジェクト`h`に対して，`sleep`メソッドを呼び出す\n",
    ">*  仮引数`self`にはオブジェクト`h`が渡され，`hours`には 3が渡される\n",
    ">*  `print`関数を実行することで，実行画面に「太郎は3時間寝た!」と表示される\n",
    ">*  次に，`self.hp += hours`で`hp`の属性値が100+3=103になる\n",
    "*  13行目: 実行画面に「太郎のHPは現在103です」と表示する"
   ]
  },
  {
   "cell_type": "code",
   "execution_count": null,
   "metadata": {},
   "outputs": [],
   "source": [
    "class Hero:\n",
    "    name = 'no name'\n",
    "    hp = 100\n",
    "    def sleep(self, hours):\n",
    "        print(f'{self.name}は{hours}時間寝た!')\n",
    "        self.hp += hours\n",
    "\n",
    "# ゲーム開始\n",
    "print('スッキリファンタジーXII ~金色の理想郷~')\n",
    "h = Hero()\n",
    "h.name = '太郎'\n",
    "h.sleep(3)\n",
    "print(f'{h.name}のHPは現在{h.hp}です')"
   ]
  },
  {
   "cell_type": "markdown",
   "metadata": {},
   "source": [
    "## 引数`self`\n",
    "*  メソッドを呼び出す際には，必ずその対象となるオブジェクトが存在する\n",
    "*  すべてのメソッドは，第1引数として，呼び出し先のインスタンスを指定する\n",
    "*  ただし，呼び出す際には省略することができる\n",
    "*  インスタンスを受け取る仮引数の名前は，慣例で`self`としている（実際は何でもよい）\n",
    "*  上のコードで「`h.sleep(3)`」と呼び出したときの`self`には`h`が渡されていることになる\n",
    "*  このときの `sleep`メソッドにおける`self.name`は，`h.name`，つまり「太郎」となる\n"
   ]
  },
  {
   "cell_type": "markdown",
   "metadata": {},
   "source": [
    "# ミュータブルとイミュータブル\n",
    "*  オブジェクトには，変更可能（ミュータブル: mutable）なものと，変更不可能（イミュータブル: immutable）なものがある\n",
    "*  ミュータブルなクラス: list, dict, set など\n",
    "*  イミュータブルなクラス: int, float, str, tuple など"
   ]
  },
  {
   "cell_type": "code",
   "execution_count": null,
   "metadata": {},
   "outputs": [],
   "source": [
    "my_list = [2, 4 ,6] # listオブジェクト⇒ミュータブル\n",
    "my_list[0] = 0 # ミュータブルなので要素は変更可能\n",
    "print(my_list)\n",
    "print(id(my_list))"
   ]
  },
  {
   "cell_type": "code",
   "execution_count": null,
   "metadata": {},
   "outputs": [],
   "source": [
    "my_tuple = (2, 4, 6) # tupleオブジェクト⇒イミュータブル\n",
    "my_tuple[0] = 0 # イミュータブルなので要素は変更不可能"
   ]
  },
  {
   "cell_type": "markdown",
   "metadata": {},
   "source": [
    "*  イミュータブルなオブジェクトであっても，変数への再代入によるオブジェクトの交換は可能であることに注意する\n",
    "*  交換は，以下のコードのように，同じ変数に違うオブジェクトを再代入していることに対応する\n",
    "*  詳細は後述するが，交換しているオブジェクトは，新たな別のオブジェクトを生成して，それを変数に代入していることになる"
   ]
  },
  {
   "cell_type": "code",
   "execution_count": null,
   "metadata": {},
   "outputs": [],
   "source": [
    "a = 1 # intオブジェクト⇒イミュータブル\n",
    "a = 2 # 再代入して変数の中身（オブジェクト）を交換\n",
    "print(a)"
   ]
  },
  {
   "cell_type": "code",
   "execution_count": null,
   "metadata": {},
   "outputs": [],
   "source": [
    "my_tuple = (2, 4, 6) # tupleオブジェクト⇒イミュータブル\n",
    "my_tuple = (0, 1, 2) # 再代入して変数の中身（オブジェクト）を交換\n",
    "print(my_tuple)"
   ]
  },
  {
   "cell_type": "markdown",
   "metadata": {},
   "source": [
    "# オブジェクトとメモリ\n",
    "*  コンピュータは，メモリに格納されたプログラムをCPUが実行することで動作する\n",
    "*  このしくみのことを「プログラム内蔵方式」または「プログラム記憶方式」などと呼ぶ\n",
    "*  メモリには一定の区画ごとに，区画を識別するための番号が割り振られている\n",
    "*  この番号のことをアドレスと呼ぶ\n",
    "*  アドレスを指定することで，そこに格納されているデータ（オブジェクト）を読み出すことができる\n",
    "*  つまり，オブジェクトが生成されるとメモリ内に格納され，そこから読み出すことで，様々な処理を実現する\n",
    "*  また，オブジェクトのサイズによって，使用するメモリの区画範囲は変わる\n",
    "\n",
    "<img src=\"./fig/07_object_in_memory.png\" width=\"220\"> ※図はイメージ  "
   ]
  },
  {
   "cell_type": "markdown",
   "metadata": {},
   "source": [
    "## メモリ内での変数とオブジェクト\n",
    "*  変数を定義すると，そのためのメモリの区画が確保される\n",
    "*  変数にオブジェクトを代入すると，オブジェクトを格納してる区画のアドレスが，変数の区画に格納される\n",
    "*  つまり，アドレスの代わりに変数を使ってオブジェクトを指定できるようにしている\n",
    ">*  人間にとって，アドレスを使ってオブジェクトを指定するのはわかりにくい\n",
    ">*  そこで，アドレスの代わりに分かりやすい名前をつけ，その名前を使ってオブジェクトを指定できるようにしている\n",
    "*  オブジェクトの実体を指し示すための数値（アドレス）を**参照**と呼ぶ\n",
    "*  これまで，変数は「値（オブジェクト）を格納する箱」だと説明していたが，「値が格納されているアドレスを格納する箱」と解釈するほうが，より正確な解釈となる\n",
    "\n",
    "<img src=\"./fig/07_assignment.png\" width=\"500\">\n",
    "  \n",
    "*  下図は「data = 100」のより正確なイメージ\n",
    "\n",
    "<img src=\"./fig/07_assignment_example.png\" width=\"500\">"
   ]
  },
  {
   "cell_type": "markdown",
   "metadata": {},
   "source": [
    "## コンテナオブジェクトとメモリ\n",
    "*  リストなど複数の要素を持つコンテナオブジェクトをメモリに格納する場合は，要素の値そのものではなく，各要素が格納されているアドレス（参照）を格納する\n",
    "*  コンテナオブジェクトを変数に代入する場合のメモリ内の様子は，下図のようなイメージとなる\n",
    ">*  コンテナオブジェクトを代入するための変数の先頭アドレスが 0100\n",
    ">*  この変数の区画に，オブジェクトが格納されている先頭アドレス 0046 が格納される\n",
    ">*  アドレス0046からの区画にコンテナオブジェクトの各要素が格納されている先頭アドレス 0000, 0013, 0026 を格納する\n",
    "\n",
    "\n",
    "<img src=\"./fig/07_container_in_memory.png\" width=\"700\">"
   ]
  },
  {
   "cell_type": "markdown",
   "metadata": {},
   "source": [
    "## `id`関数\n",
    "*  オブジェクトのアドレスを確認する方法として，`id`関数を用いる方法がある\n",
    "*  `id`関数は，オブジェクトが存在している間，そのオブジェクトを一意に識別する整数値を返す\n",
    "*  この整数値を identity と呼ぶ\n",
    "*  identityは，オブジェクトが格納されている区画の先頭のアドレスと解釈してよい\n",
    "*  `id`関数呼び出しの書式: `id(オブジェクトまたは変数)`\n",
    "*  `id`関数の引数は変数を指定して使うことが多い"
   ]
  },
  {
   "cell_type": "code",
   "execution_count": null,
   "metadata": {},
   "outputs": [],
   "source": [
    "x = 42\n",
    "print(id(x)) # 42のidentity"
   ]
  },
  {
   "cell_type": "markdown",
   "metadata": {},
   "source": [
    "## メモリの観点でみるミュータブルとイミュータブル"
   ]
  },
  {
   "cell_type": "markdown",
   "metadata": {},
   "source": [
    "### ミュータブルなオブジェクトにおける要素の変更\n",
    "*  ミュータブルなオブジェクト（リストなど）は，メモリのアドレスを変えずに要素の値を変えることができる\n",
    "\n",
    "#### 要素変更の例\n",
    "ここで，以下のコードについて考える．\n",
    "\n",
    "```\n",
    "var = [1, 2, 3]\n",
    "var[0] = 5 \n",
    "```\n",
    "`var = [1, 2, 3]`実行後のメモリのイメージ（下図）:\n",
    "*  変数`var`の区画にオブジェクトの参照（アドレス）が格納される\n",
    "*  オブジェクトの区画には，3つの要素（var[0]～var[2]）の区画の参照が格納される\n",
    "*  つまり，各要素の値は，オブジェクトとは別の区画に格納される\n",
    "  \n",
    "\n",
    "<img src=\"./fig/07_mutable_object_in_memory1.png\" width=\"700\">\n",
    "  \n",
    "\n",
    "`var[0] = 5`実行後のメモリのイメージ（下図）:\n",
    "*  変更した要素5が新たにメモリに格納される\n",
    "*  このアドレスが`var[0]`を格納するアドレスとしてオブジェクトの区画に上書きされる ⇒ 参照の変更\n",
    "*  オブジェクトを格納しているアドレスはそのまま\n",
    "*  よって，変数が格納している参照は変わらない\n",
    "  \n",
    "<img src=\"./fig/07_mutable_object_in_memory2.png\" width=\"700\">"
   ]
  },
  {
   "cell_type": "code",
   "execution_count": null,
   "metadata": {},
   "outputs": [],
   "source": [
    "var = [1, 2, 3]\n",
    "print('要素変更前')\n",
    "print(f'varの内容: {var}')\n",
    "print(f'varのidentity: {id(var)}')\n",
    "print(f'var[0]のidentity: {id(var[0])}')\n",
    "\n",
    "print() # 改行\n",
    "\n",
    "var[0] = 5\n",
    "print('要素変更後')\n",
    "print(f'varの内容: {var}')\n",
    "print(f'varのidentity: {id(var)}')\n",
    "print(f'var[0]のidentity: {id(var[0])}')"
   ]
  },
  {
   "cell_type": "markdown",
   "metadata": {},
   "source": [
    "### イミュータブルなオブジェクトにおける要素の変更\n",
    "*  イミュータブルなオブジェクト（文字列やタプルなど）は，メモリのアドレスを変えずに値を変えることができない\n",
    "*  タプルであれば参照を変更することができない（下図）\n",
    "*  要素を変更したい場合は，オブジェクトを交換する必要がある\n",
    "\n",
    "<img src=\"./fig/07_immutable_object_in_memory.png\" width=\"500\">\n"
   ]
  },
  {
   "cell_type": "markdown",
   "metadata": {},
   "source": [
    "### オブジェクトの交換\n",
    "*  オブジェクトを交換すると，アドレス（参照）も変わる\n",
    "*  イミュータブルオブジェクトの場合は，交換する値を別の新たなアドレスに格納する\n",
    "\n",
    "  "
   ]
  },
  {
   "cell_type": "markdown",
   "metadata": {},
   "source": [
    "#### オブジェクトの交換例 その1\n",
    "以下のコードについて考える．\n",
    "\n",
    "```\n",
    "x = 10\n",
    "x = 0\n",
    "```\n",
    "\n",
    "`x = 10`実行後のメモリのイメージ（下図）:\n",
    "*  変数`x`の区画にオブジェクトの参照（アドレス）が格納される\n",
    "*  オブジェクトの区画には，10が格納される\n",
    "　\n",
    "  \n",
    "`x = 0`実行後のメモリのイメージ（下図）:\n",
    "*  5が新たなオブジェクトとしてメモリに格納される\n",
    "*  このアドレスが`x`の区画に上書きされる ⇒ 参照の変更\n",
    "*  よって，`x`は異なるオブジェクトになる\n",
    "  \n",
    "<img src=\"./fig/07_exchanging_immutable_objects.png\" width=\"500\">\n",
    "\n",
    "#### オブジェクトの交換例 その2\n",
    "以下のコードについて考える．　　\n",
    "\n",
    "```\n",
    "val = (1, 2, 3)\n",
    "val = (5, 2, 3)\n",
    "```\n",
    "\n",
    "`val = (1, 2, 3)`実行後のメモリのイメージ（下図）:\n",
    "*  変数`val`の区画にオブジェクトの参照（アドレス）が格納される\n",
    "*  オブジェクトの区画には，各要素を格納している参照が格納される\n",
    "  \n",
    "  \n",
    "`val = (5, 2, 3)`実行後のメモリのイメージ（下図）:\n",
    "*  `(5, 2, 3)`の各要素が新たな区画にそれぞれ格納される\n",
    "*  これらの区画のアドレスが`x`の区画に上書きされる ⇒ 参照の変更\n",
    "*  よって，`val`は異なるオブジェクトになる\n",
    "\n",
    "<img src=\"./fig/07_exchanging_immutable_objects2.png\" width=\"500\">\n",
    "　　\n",
    "  \n",
    "ミュータブルオブジェクトの交換も，同じように動作する．"
   ]
  },
  {
   "cell_type": "code",
   "execution_count": null,
   "metadata": {},
   "outputs": [],
   "source": [
    "x = 10\n",
    "print('交換前')\n",
    "print(f'xの内容: {x}')\n",
    "print(f'xのidentity: {id(x)}')\n",
    "\n",
    "print() # 改行\n",
    "\n",
    "x = 0\n",
    "print('交換後')\n",
    "print(f'xの内容: {x}')\n",
    "print(f'xのidentity: {id(x)}')"
   ]
  },
  {
   "cell_type": "code",
   "execution_count": null,
   "metadata": {},
   "outputs": [],
   "source": [
    "val = (1, 2, 3)\n",
    "print('交換前')\n",
    "print(f'valの内容: {val}')\n",
    "print(f'valのidentity: {id(val)}')\n",
    "\n",
    "print() # 改行\n",
    "\n",
    "val = (5, 2, 3)\n",
    "print('交換後')\n",
    "print(f'valの内容: {val}')\n",
    "print(f'valのidentity: {id(val)}')"
   ]
  },
  {
   "cell_type": "markdown",
   "metadata": {},
   "source": [
    "# 関数への引数の渡し方\n"
   ]
  },
  {
   "cell_type": "markdown",
   "metadata": {},
   "source": [
    "## 値渡しと参照渡し\n",
    "*  「値渡し（Call by Value）」と「参照渡し（Call by Reference）」は，関数に引数を渡す際に使われる2つの異なるメカニズム \n",
    "\n",
    "#### 値渡し\n",
    "* 関数に引数を渡す際に，その引数の値のコピーが関数に渡される\n",
    "* 関数内で引数の値を変更しても，関数外部には影響がない\n",
    "\n",
    "#### 参照渡し\n",
    "* 関数に渡される引数が，その値の参照（アドレス）となる\n",
    "* 関数内で引数を操作すると，元の値も変更される\n"
   ]
  },
  {
   "cell_type": "markdown",
   "metadata": {},
   "source": [
    "## Pythonでの引数の渡し方\n",
    "*  Pythonでの引数の渡し方は，参照の値渡し（Call by Sharing）となる\n",
    "*  つまり，オブジェクトの参照（アドレス）を値渡ししている\n",
    "*  そのため，ミュータブルとイミュータブルで様子が異なる\n",
    "*  ミュータブルオブジェクトは参照渡しのように振る舞う\n",
    ">*  関数内で引数の値を変更すると，関数外のオブジェクトにもその変更が反映される\n",
    "* イミュータブルオブジェクトは値渡しのように振る舞う\n",
    ">* 関数内で引数を変更しても，元のオブジェクトは変わらない\n",
    ">* 何故なら関数内での変更は新しいオブジェクトを作成すること（つまりオブジェクトの交換）になるため\n"
   ]
  },
  {
   "cell_type": "markdown",
   "metadata": {},
   "source": [
    "## イミュータブルオブジェクトの参照の値渡しのイメージ\n",
    "例として以下のコードを考える．\n",
    "\n",
    "```\n",
    "def add_1(a):\n",
    "  a += 1\n",
    "\n",
    "x = 1\n",
    "add_1(x)\n",
    "print(x)\n",
    "```\n",
    "\n",
    "*  1～2行目: 関数`add_1`を定義\n",
    "*  4行目: `x`に1を代入\n",
    "*  `x`の区画には 1を格納しているアドレスが格納される\n",
    "  \n",
    "<img src=\"./fig/07_call_by_haring_immutable1.png\" width=\"600\">\n",
    "  \n",
    "*  5行目: 関数`add_1`を呼び出す\n",
    "*  このとき，引数aに`x`に格納されている参照（アドレス）をコピーして渡す\n",
    "\n",
    "<img src=\"./fig/07_call_by_haring_immutable2.png\" width=\"600\">\n",
    "  \n",
    "*  次に関数内の`a += 1`を実行（`a`に2が代入される）\n",
    "*  オブジェクトの交換となるので，新しい区画に2が格納され，そのアドレスが`a`の区画に格納される\n",
    "*  このとき変数`x`の値は1のまま\n",
    "\n",
    "<img src=\"./fig/07_call_by_haring_immutable3.png\" width=\"600\">"
   ]
  },
  {
   "cell_type": "code",
   "execution_count": null,
   "metadata": {},
   "outputs": [],
   "source": [
    "def add_1(a):\n",
    "  a += 1\n",
    "  print(f'aの中身: {a}')\n",
    "  print(f'aのidentity: {id(a)}')\n",
    "\n",
    "x = 1\n",
    "print(f'関数呼び出し前のxの中身: {x}')\n",
    "print(f'関数呼び出し前のxのidentity: {id(x)}')\n",
    "add_1(x) # 関数呼び出し\n",
    "print(f'関数呼び出し後のxの中身: {x}')\n",
    "print(f'関数呼び出し後のxのidentity: {id(x)}')"
   ]
  },
  {
   "cell_type": "markdown",
   "metadata": {},
   "source": [
    "## ミュータブルオブジェクトの参照の値渡しのイメージ\n",
    "例として以下のコードを考える．\n",
    "\n",
    "```\n",
    "def add_1(a):\n",
    "    a[0] += 1\n",
    "\n",
    "x = [1, 2]\n",
    "add_1(x)\n",
    "print(x)\n",
    "```\n",
    "\n",
    "*  1～2行目: 関数`add_1`を定義\n",
    "*  4行目: `x`に`[1, 2]`を代入\n",
    "*  変数`x`の区画には，オブジェクトのアドレスが格納される\n",
    "*  オブジェクトの区画には，その要素を格納するアドレスが格納される\n",
    "  \n",
    "<img src=\"./fig/07_call_by_haring_mutable1.png\" width=\"600\">\n",
    "  \n",
    "*  5行目: 関数`add_1`を呼び出す\n",
    "*  このとき，引数`a`に`x`に格納されている参照（アドレス）をコピーして渡す\n",
    "  \n",
    "<img src=\"./fig/07_call_by_haring_mutable2.png\" width=\"600\">\n",
    "  \n",
    "*  次に関数内の`a[0] += 1`を実行すると，`a[0]`に2が代入される\n",
    "*  新しい区画に2が格納され，そのアドレスがオブジェクトの区画に上書きされる\n",
    "* 　このとき変数`x`の内容も変更される\n",
    "\n",
    "<img src=\"./fig/07_call_by_haring_mutable3.png\" width=\"600\">"
   ]
  },
  {
   "cell_type": "code",
   "execution_count": null,
   "metadata": {},
   "outputs": [],
   "source": [
    "def add_1(a):\n",
    "    a[0] += 1\n",
    "    print(f'aの中身: {a}')\n",
    "    print(f'aのidentity: {id(a)}')\n",
    "\n",
    "x = [1, 2]\n",
    "print(f'関数呼び出し前のxの中身: {x}')\n",
    "print(f'関数呼び出し前のxのidentity: {id(x)}')\n",
    "add_1(x.copy()) # 関数呼び出し\n",
    "print(f'関数呼び出し後のxの中身: {x}')\n",
    "print(f'関数呼び出し後のxのidentity: {id(x)}')"
   ]
  },
  {
   "cell_type": "markdown",
   "metadata": {},
   "source": [
    "## 防御的コピー\n",
    "*  上記のような状況を回避するために，元の変数を複製したものを関数に引き渡せばよい\n",
    "*  これにより，引き渡した中身が壊されても元の変数には影響が及ばない\n",
    "*  変数をコピーする方法はオブジェクトのクラスによって様々な方法が考えられる\n",
    "*  例えばリストであれば，`copy`メソッドを使うとコピーができる"
   ]
  },
  {
   "cell_type": "code",
   "execution_count": null,
   "metadata": {},
   "outputs": [],
   "source": [
    "def add_1(a):\n",
    "    a[0] += 1\n",
    "    print(f'aの中身: {a}')\n",
    "    print(f'aのidentity: {id(a)}')\n",
    "\n",
    "x = [1, 2]\n",
    "print(f'関数呼び出し前のxの中身: {x}')\n",
    "print(f'関数呼び出し前のxのidentity: {id(x)}')\n",
    "add_1(x.copy()) # 関数呼び出し\n",
    "print(f'関数呼び出し後のxの中身: {x}')\n",
    "print(f'関数呼び出し後のxのidentity: {id(x)}')"
   ]
  },
  {
   "cell_type": "markdown",
   "metadata": {},
   "source": [
    "# 参考資料\n",
    "*  [Chainer Tutorials : 02_Basics_of_Python.ipynb](https://colab.research.google.com/github/chainer/tutorials/blob/master/ja/02_Basics_of_Python.ipynb)\n",
    "*  東京大学, [6-3. クラス](https://colab.research.google.com/github/utokyo-ipp/utokyo-ipp.github.io/blob/master/colab/6/6-3.ipynb), 「プログラミング入門」講義資料\n",
    "*  ひらまつしょうたろう, [Python でわかる オブジェクト指向 とはなにか？【Python オブジェクト指向 の「なぜ？」を「徹底的に」解説】](https://www.udemy.com/course/oop-python/?couponCode=KEEPLEARNING), Udemy, 最終更新日 2023/7"
   ]
  }
 ],
 "metadata": {
  "kernelspec": {
   "display_name": "pythonv311",
   "language": "python",
   "name": "python3"
  },
  "language_info": {
   "codemirror_mode": {
    "name": "ipython",
    "version": 3
   },
   "file_extension": ".py",
   "mimetype": "text/x-python",
   "name": "python",
   "nbconvert_exporter": "python",
   "pygments_lexer": "ipython3",
   "version": "3.12.4"
  }
 },
 "nbformat": 4,
 "nbformat_minor": 2
}
