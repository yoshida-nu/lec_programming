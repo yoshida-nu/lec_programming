{
 "cells": [
  {
   "cell_type": "markdown",
   "metadata": {},
   "source": [
    "# データ型\n",
    "*  文字列や数値など，値には様々な種類がある\n",
    "*  代表的な値の種類： 整数 (integer)，実数 (real number)，文字列 (string)など\n",
    "*  これらの種類によって，Python内部での取り扱い方が異なる ⇒ 型を意識することが重要\n",
    "*  値の種類のことを，一般に**データ型 (type)** と呼ぶ\n",
    "*  本講義では，文脈によってデータ型を「クラス (class)」と呼ぶこともある\n"
   ]
  },
  {
   "cell_type": "markdown",
   "metadata": {},
   "source": [
    "## データ型の種類（一部）\n",
    "|データ型| 値の内容 |\n",
    "|:--|:--|\n",
    "|int（整数型）| 整数（小数を含まない数） |\n",
    "|float（浮動小数点型）| 実数（小数を含む数） |\n",
    "|str（文字列型）| 文字列 |\n",
    "|bool（論理型）| TrueとFalseのいずれか |\n",
    "|list（リスト）| 複数の値をまとめて格納 |\n",
    "|tuple（タプル）| 複数の値をまとめて格納 |\n",
    "|set（セット）| 複数の値をまとめて格納（要素の重複を許さない） |\n",
    "|dict（ディクショナリ）| キー（key）と値（value）の組合せで複数の値を格納 |"
   ]
  },
  {
   "cell_type": "markdown",
   "metadata": {},
   "source": [
    "## `type` 関数\n",
    "*  値のデータ型を調べるには `type` 関数を使う\n",
    "*  `type` 関数は組み込み関数の一つ\n",
    "*  `type` 関数の引数として括弧内に値そのものを指定することもできるし，変数を指定することもできる\n",
    "*  変数を指定した場合は，変数に代入されている値のデータ型を調べることになる"
   ]
  },
  {
   "cell_type": "code",
   "execution_count": null,
   "metadata": {},
   "outputs": [],
   "source": [
    "x, y, z = 10, '1.2', 5\n",
    "b1 = x == z\n",
    "b2 = x / z\n",
    "b3 = {x:y, y:z}\n",
    "b4 = (x, y, z)\n",
    "\n",
    "print(f'xのデータ型: {type(x)}')\n",
    "print(f'yのデータ型: {type(y)}')\n",
    "print(f'b1のデータ型: {type(b1)}')\n",
    "print(f'b2のデータ型: {type(b2)}')\n",
    "print(f'b3のデータ型: {type(b3)}')\n",
    "print(f'b4のデータ型: {type(b4)}')"
   ]
  },
  {
   "cell_type": "markdown",
   "metadata": {},
   "source": [
    "# 文字列"
   ]
  },
  {
   "cell_type": "markdown",
   "metadata": {
    "id": "J_F45gUBs5cY"
   },
   "source": [
    "## 文字列のインデックス指定\n",
    "*  文字列の後ろに「`[0]`」や「`[1]`」といったインデックスを指定することで，指定したインデックスの場所のみの文字を取り出すことができる  \n",
    "*  インデックスに「`[-1]`」を指定すると，末尾の文字が取り出される"
   ]
  },
  {
   "cell_type": "markdown",
   "metadata": {
    "id": "VekeJYDMvR1H"
   },
   "source": [
    "## 文字列のスライス指定\n",
    "文字列のインデックス指定を拡張したスライス指定を使うと，文字列の一部の文字列を取り出すことができる．  \n",
    "  \n",
    "**書式**： `文字列[開始インデックス:終了インデックス+1:ステップ数]`\n",
    "  \n",
    "ステップ数は省略することもできる（この場合のステップ数は1）．  \n",
    "また，開始インデックスが文字列の先頭の場合と終了インデックスが末尾の場合は数値を省略できる．"
   ]
  },
  {
   "cell_type": "markdown",
   "metadata": {},
   "source": [
    "## 文字列（str）に対するメソッド\n",
    "\n",
    "|メソッド名|意味|\n",
    "|:--|:--|\n",
    "`lower` | 文字列の全ての文字を小文字にして返す． |\n",
    "`upper` | 文字列の全ての文字を大文字にして返す． |\n",
    "`count` | 引数で指定した文字（列）の登場回数を数える． |\n",
    "`replace` | 文字列内の指定した文字列を検索し，別に指定した文字列にすべて置き換える． |\n",
    "`find` | 指定した文字列（文字）が初めて登場するインデックスを返す． |\n",
    "`rfind` | 文字列（文字）が最後に登場するインデックスを返す． | \n",
    "`strip` | 文字列の先頭や末尾にある空白文字（スペースや改行など）を取り除く|"
   ]
  },
  {
   "cell_type": "code",
   "execution_count": null,
   "metadata": {
    "colab": {
     "base_uri": "https://localhost:8080/"
    },
    "executionInfo": {
     "elapsed": 2,
     "status": "ok",
     "timestamp": 1694309436175,
     "user": {
      "displayName": "Takahiro YOSHIDA",
      "userId": "00096252480874798687"
     },
     "user_tz": -540
    },
    "id": "nKNVQfoztLcu",
    "outputId": "d3b4193f-f610-47bc-8e94-3ed0dee3e1ea"
   },
   "outputs": [],
   "source": [
    "text = 'university'\n",
    "print(text[-3])\n",
    "print(text[1:4:2])\n",
    "print(text.rfind('i'))"
   ]
  },
  {
   "cell_type": "markdown",
   "metadata": {},
   "source": [
    "# `if`文による条件分岐\n",
    "*  条件分岐とはプログラムの基本構造の「分岐」に対応する処理\n",
    "*  ある条件を満たす or 満たさないのいずれかで異なる動作をするように制御すること\n",
    "*  条件分岐は`if`文を使って実現する"
   ]
  },
  {
   "cell_type": "markdown",
   "metadata": {},
   "source": [
    "## 条件式\n",
    "*  条件分岐では，結果がbool（論理型）のデータとなる条件式を使う\n",
    "*  条件式が成り立つとき ⇒ `True` （真）\n",
    "*  条件式が成り立たないとき ⇒ `False` （偽）\n",
    "*  条件式には比較演算子，論理演算子，`in`／`not in`演算子などが使われる\n",
    "\n",
    "<img src=\"./fig/04_if-else.png\" width=\"600\">"
   ]
  },
  {
   "cell_type": "markdown",
   "metadata": {},
   "source": [
    "## `if`ブロック\n",
    "*  条件式が`True`のときに実行する文のまとまりを`if`ブロックと呼ぶ\n",
    "*  `if`ブロックの範囲は，インデントによって定義される"
   ]
  },
  {
   "cell_type": "markdown",
   "metadata": {},
   "source": [
    "## `else`ブロック\n",
    "* 条件式が`False`のときに実行する処理を記述する場合は，ifブロックの後に（インデントを解除して）`else:`を記述し（コロンを忘れないように注意すること），その下の行にインデントを設定して処理を記述する\n",
    "* 条件式が`False`のときに実行する文のまとまりを`else`ブロックと呼ぶ．"
   ]
  },
  {
   "cell_type": "markdown",
   "metadata": {},
   "source": [
    "# `for`文による繰り返し\n",
    "*  `for`の直後に半角スペースを入れたあと，繰り返しの処理の中で用いる変数を記述\n",
    "*  その変数の直後に半角スペースを入れたあと，`in`と記述\n",
    "*  `in`の直後に半角スペースを入れたあと，イテラブル（iterable）と呼ばれる繰り返し処理が可能なオブジェクトを記述して，最後にコロン`:`を入れる\n",
    "*  イテラブルは複数の要素からなり，要素を順番に取り出すことができるオブジェクトの総称（「イテラブルなオブジェクト」と呼ぶこともある）\n",
    "*  各繰り返しで，イテラブルの要素が順番に1つずつ変数に格納される\n",
    "*  取り出す要素がなくなるまで処理を繰り返す\n",
    "*  もう少し細かく言うと，`for`文で指定したイテラブルは，イテレータ（iterator）と呼ばれるオブジェクトを経由して利用されている（説明は省略）\n",
    "*  `for`文では，リストなどのコンテナや`range`関数（後述）がイテラブルとしてよく使われる\n",
    "*  `for`文で繰り返す処理は，`for`ブロックとして記述する\n",
    "*  `for`ブロックはインデントを使って設定する\n",
    "\n",
    "<img src=\"./fig/05_for.png\" width=\"550\">"
   ]
  },
  {
   "cell_type": "markdown",
   "metadata": {},
   "source": [
    "## イテラブルに`range`関数を用いた`for`文\n",
    "*  `range`関数は，引数として指定した範囲の整数（等差数列）を要素とするイテラブルを返す\n",
    "*  `range`関数をfor文のイテラブルとして用いることで，決まった回数の繰り返し処理を実行することができる\n",
    "*  `range`関数の記述方法: `range(開始の値, 終了の値, ステップ幅)`\n",
    ">*  引数は3つ指定できる\n",
    ">*  開始の値とステップ幅は省略することもできる\n",
    ">*  引数が1つの場合 ⇒ 終了の値\n",
    ">*  引数が2つの場合 ⇒ 開始の値，終了の値\n",
    ">*  引数が3つの場合 ⇒ 開始の値, 終了の値, ステップ幅\n",
    ">*  開始の値を指定していない場合 ⇒ 0\n",
    ">*  ステップ幅を指定していない場合 ⇒ 1\n"
   ]
  },
  {
   "cell_type": "markdown",
   "metadata": {},
   "source": [
    "## 繰り返しの制御\n",
    "*  `for`文の中に，`break`文や`continue`文を組み合わせると，より高度な繰り返し制御ができる\n",
    "*  `break`文と`continue`文は，`if`文と組み合わせて使う\n",
    "*  `break`文: `if`文の条件式が`True` ⇒ 繰り返し処理の途中で終了（即座に`for`文を抜ける）\n",
    "*  `continue`文: `if`文の条件式が`True` ⇒繰り返し処理の途中で処理をスキップ（即座に`for`文の次の繰り返しに移る）"
   ]
  },
  {
   "cell_type": "markdown",
   "metadata": {},
   "source": [
    "# 関数の定義\n",
    "*  `def`の直後に半角スペースを入れて，関数名を記述する\n",
    "*  関数名の直後は丸括弧`( )`を記述し，最後にコロン`:`をつける\n",
    "*  `( )`の中には，引数を記述する（引数がない場合は何も記述しない）\n",
    "*  引数は，関数の呼び出し元から渡された値を格納するための変数の役割を果たす\n",
    "*  `def`を記述している行を「ヘッダ」と呼ぶ\n",
    "*  ヘッダの下の行に，関数が呼び出されたときに実行する処理を記述する\n",
    "*  この部分を関数プロックと呼び，`if`文や`for`文のプロックと同様，インデントしてプロックの範囲を定める\n",
    "*  戻り値がある場合は，`return`の直後に半角スペースを入れて記述する\n",
    "*  戻り値を複数指定することもできる\n",
    "\n",
    "<img src=\"./fig/06_function_definition.png\" width=\"700\">"
   ]
  },
  {
   "cell_type": "markdown",
   "metadata": {},
   "source": [
    "# コード例"
   ]
  },
  {
   "cell_type": "markdown",
   "metadata": {},
   "source": [
    "## コード例1: FizzBuzz問題\n",
    "FizzBuzz問題とは，企業がプログラマを採用する場面で「プログラムを書けるプログラマ」を見分けるためのテストとしてよく知られている問題である．\n",
    "\n",
    "---\n",
    "\n",
    "1から100までの数を順に表示するプログラムを作成しなさい．ただし，3の倍数のときは数の代わりに「Fizz」を，5の倍数のときは「Buzz」を，3と5の両方の倍数のときには「FizzBuzz」と表示するものとする．  \n",
    "\n",
    "---\n"
   ]
  },
  {
   "cell_type": "code",
   "execution_count": null,
   "metadata": {
    "colab": {
     "base_uri": "https://localhost:8080/"
    },
    "executionInfo": {
     "elapsed": 7,
     "status": "ok",
     "timestamp": 1694310283724,
     "user": {
      "displayName": "Takahiro YOSHIDA",
      "userId": "00096252480874798687"
     },
     "user_tz": -540
    },
    "id": "7wwMz4ylvnUj",
    "outputId": "3c237ae3-54eb-4be0-b476-012fd31f5fd1",
    "scrolled": false
   },
   "outputs": [],
   "source": [
    "for i in range(1, 101):\n",
    "    if i % 3 == 0 and i % 5 == 0:\n",
    "        print('FizzBuzz')\n",
    "    elif i % 3 == 0:\n",
    "        print('Fizz')\n",
    "    elif i % 5 == 0:\n",
    "        print('Buzz')\n",
    "    else:\n",
    "        print(i)"
   ]
  },
  {
   "cell_type": "markdown",
   "metadata": {},
   "source": [
    "## コード例2"
   ]
  },
  {
   "cell_type": "code",
   "execution_count": null,
   "metadata": {},
   "outputs": [],
   "source": [
    "def my_func1(x):\n",
    "    if x % 3 == 1:\n",
    "        if x // 5 > 3:\n",
    "            print('A')\n",
    "        else:\n",
    "            print('B')\n",
    "    else:\n",
    "        if x // 5 > 3:\n",
    "            print('C')\n",
    "        else:\n",
    "            print('D')\n",
    "\n",
    "my_func1(15)\n",
    "my_func1(19)\n",
    "my_func1(23)"
   ]
  },
  {
   "cell_type": "markdown",
   "metadata": {},
   "source": [
    "## コード例3"
   ]
  },
  {
   "cell_type": "code",
   "execution_count": null,
   "metadata": {},
   "outputs": [],
   "source": [
    "def my_func2(x):\n",
    "    for i in range(5, x):\n",
    "        if i % 3 == 0:\n",
    "            continue\n",
    "        if i % 5 == 0:\n",
    "            continue\n",
    "        if i % 7 == 0:\n",
    "            continue\n",
    "        print(i)\n",
    "\n",
    "my_func2(19)"
   ]
  },
  {
   "cell_type": "markdown",
   "metadata": {},
   "source": [
    "## コード例4"
   ]
  },
  {
   "cell_type": "code",
   "execution_count": null,
   "metadata": {},
   "outputs": [],
   "source": [
    "def my_func3(x):\n",
    "    a, b = 1, 2\n",
    "    for i in range(x):\n",
    "        a, b = b, a + b\n",
    "    return a\n",
    "\n",
    "a = my_func3(3)\n",
    "b = my_func3(a)\n",
    "print(a)\n",
    "print(b)"
   ]
  },
  {
   "cell_type": "markdown",
   "metadata": {},
   "source": [
    "# アルゴリズム"
   ]
  },
  {
   "cell_type": "markdown",
   "metadata": {},
   "source": [
    "## 二分探索アリゴリズム"
   ]
  },
  {
   "cell_type": "code",
   "execution_count": null,
   "metadata": {},
   "outputs": [],
   "source": [
    "def binary_search2(data, value):\n",
    "    cnt = 0\n",
    "    h = 0\n",
    "    t = len(data) - 1\n",
    "    while h <= t:\n",
    "        cnt += 1\n",
    "        m = (h + t) // 2\n",
    "        print(f'照合データ: {data[m]}')\n",
    "        if data[m] == value:\n",
    "            print('HIT!\\n')\n",
    "            return m, cnt\n",
    "        elif data[m] < value:\n",
    "            h = m + 1\n",
    "        else:\n",
    "            t = m - 1\n",
    "    return -1, cnt\n",
    "\n",
    "p = [2, 3, 5, 7, 11, 13, 17]\n",
    "value = 11\n",
    "result, times = binary_search2(p, value)\n",
    "if result != -1:\n",
    "    print(f'探索データ{value}はp[{result}]にあります．')\n",
    "    print(f'探索回数は{times}回です．')\n",
    "else:\n",
    "    print(f'\\n探索データ{value}は存在しません．')\n",
    "    print(f'探索回数は{times}回です．')"
   ]
  },
  {
   "cell_type": "markdown",
   "metadata": {},
   "source": [
    "## 挿入ソート"
   ]
  },
  {
   "cell_type": "code",
   "execution_count": null,
   "metadata": {},
   "outputs": [],
   "source": [
    "def insert_sort2(data):\n",
    "    n = len(data)\n",
    "    cnt = 0\n",
    "    for i in range(1, n):\n",
    "        tmp = data[i]\n",
    "        for j in range(i, 0, -1):\n",
    "            cnt += 1\n",
    "            if data[j-1] > tmp:\n",
    "                data[j-1], data[j] = tmp, data[j-1]\n",
    "            else:\n",
    "                break\n",
    "    return data, cnt\n",
    "\n",
    "a = [35, 20, 80, 13, 71, 39, 3, 68]\n",
    "print(f'ソート前のデータ: {a}')\n",
    "result, t = insert_sort2(a)\n",
    "print(f'ソート後のデータ: {result}')\n",
    "print(f'比較回数: {t}')"
   ]
  },
  {
   "cell_type": "markdown",
   "metadata": {},
   "source": [
    "## 素数判定\n",
    "*  1より大きい自然数のうち，1とその数でしか割り切れないものを「素数」と呼ぶ\n",
    "*  素数の例: 2, 3, 5, 7, 11, 13\n",
    "*  素数は無数に存在する\n",
    "*  単純な素数判定方法:\n",
    ">*  ある数が素数かどうかを判定したい⇒その数以下の自然数で割って，割り切れるかを調べることで判定できる\n",
    ">*  どんな数も1で割り切れるので，ある数nは2からn−1まで順に割ってみればよい\n",
    "\n",
    "<img src=\"./fig/15_is_prime.jpg\" width=\"500\">"
   ]
  },
  {
   "cell_type": "markdown",
   "metadata": {},
   "source": [
    "## 単純な素数判定の実装\n",
    "*  以下のコードでは，2以上の自然数`n`を引数として渡すと，それが素数かどうかを判定する関数`is_prime`を定義している\n",
    "*  `is_prime`関数の戻り値が`True`であれば素数，`False`であれば素数ではない"
   ]
  },
  {
   "cell_type": "code",
   "execution_count": null,
   "metadata": {},
   "outputs": [],
   "source": [
    "def is_prime(n):\n",
    "    for i in range(2, n):\n",
    "        if n % i == 0:\n",
    "            return False\n",
    "    return True\n",
    "\n",
    "n = 1177\n",
    "if is_prime(n):\n",
    "    print(f'{n}は素数です')\n",
    "else:\n",
    "    print(f'{n}は素数ではありません')"
   ]
  },
  {
   "cell_type": "markdown",
   "metadata": {},
   "source": [
    "### 連続した数の素数判定\n",
    "*  以下のコードは，2から`m`までの整数について，素数かどうかをすべて判定するコードになっている"
   ]
  },
  {
   "cell_type": "code",
   "execution_count": null,
   "metadata": {},
   "outputs": [],
   "source": [
    "def is_prime(n):\n",
    "    for i in range(2, n):\n",
    "        if n % i == 0:\n",
    "            return False\n",
    "    return True\n",
    "\n",
    "m = 20\n",
    "for n in range(2, m + 1):\n",
    "    if is_prime(n):\n",
    "        print(f'{n}は素数です')\n",
    "    else:\n",
    "        print(f'{n}は素数ではありません')"
   ]
  },
  {
   "cell_type": "markdown",
   "metadata": {},
   "source": [
    "### 単純な素数判定の計算時間\n",
    "*  単純な素数判定は，判定する数が大きくなると実行時間もそれに比例して大きくなる"
   ]
  },
  {
   "cell_type": "code",
   "execution_count": null,
   "metadata": {},
   "outputs": [],
   "source": [
    "import time\n",
    "\n",
    "def is_prime(n):\n",
    "    for i in range(2, n):\n",
    "        if n % i == 0:\n",
    "            return False\n",
    "    return True\n",
    "\n",
    "n = 386284631\n",
    "ts = time.time()\n",
    "if is_prime(n):\n",
    "    print(f'{n}は素数です')\n",
    "else:\n",
    "    print(f'{n}は素数ではありません')\n",
    "te = time.time()\n",
    "print(f'実行時間:{te - ts:.4f}')"
   ]
  },
  {
   "cell_type": "markdown",
   "metadata": {},
   "source": [
    "## より効率的な素数判定の実装\n",
    "*  単純な素数判定のコードは，2以上，$n$-1以下の各整数に対して余りを求めていたため，実行時間が整数nに比例して大きくなっていた\n",
    "*  素数判定に関する有名な結果として，2以上，$\\sqrt{n}$以下の各整数に対して余りを求めるだけで判定が可能であることが知られている．この性質を利用したコードを作成する\n",
    "*  平方根は，`math`モジュールの`sqrt`関数で計算できる．"
   ]
  },
  {
   "cell_type": "code",
   "execution_count": null,
   "metadata": {},
   "outputs": [],
   "source": [
    "import time\n",
    "from math import sqrt\n",
    "\n",
    "def is_prime2(n):\n",
    "    for i in range(2, int(sqrt(n)) + 1):\n",
    "        if n % i == 0:\n",
    "            return False\n",
    "    return True\n",
    "\n",
    "n = 386284631\n",
    "ts = time.time()\n",
    "if is_prime2(n):\n",
    "    print(f'{n}は素数です')\n",
    "else:\n",
    "    print(f'{n}は素数ではありません')\n",
    "te = time.time()\n",
    "print(f'実行時間:{te - ts:.4f}')"
   ]
  },
  {
   "cell_type": "markdown",
   "metadata": {},
   "source": [
    "# ミュータブル（可変）とイミュータブル（不変）\n",
    "*  オブジェクトには，変更可能（ミュータブル: mutable）なものと，変更不可能（イミュータブル: immutable）なものがある\n",
    "*  ミュータブルなクラス: list, dict, set など\n",
    "*  イミュータブルなクラス: int, float, str, tuple など"
   ]
  },
  {
   "cell_type": "markdown",
   "metadata": {},
   "source": [
    "## コンテナオブジェクトとメモリ\n",
    "*  リストなど複数の要素を持つコンテナオブジェクトをメモリに格納する場合は，要素の値そのものではなく，各要素が格納されているアドレス（参照）を格納する\n",
    "*  コンテナオブジェクトを変数に代入する場合のメモリ内の様子は，下図のようなイメージとなる\n",
    ">*  コンテナオブジェクトを代入するための変数の先頭アドレスが 0100\n",
    ">*  この変数の区画に，オブジェクトが格納されている先頭アドレス 0046 が格納される\n",
    ">*  アドレス0046からの区画にコンテナオブジェクトの各要素が格納されている先頭アドレス 0000, 0013, 0026 を格納する\n",
    "\n",
    "\n",
    "<img src=\"./fig/07_container_in_memory.png\" width=\"700\">"
   ]
  },
  {
   "cell_type": "markdown",
   "metadata": {},
   "source": [
    "## `id`関数\n",
    "*  オブジェクトのアドレスを確認する方法として，`id`関数を用いる方法がある\n",
    "*  `id`関数は，オブジェクトが存在している間，そのオブジェクトを一意に識別する整数値を返す\n",
    "*  この整数値を identity と呼ぶ\n",
    "*  identityは，オブジェクトが格納されている区画の先頭のアドレスと解釈してよい\n",
    "*  `id`関数呼び出しの書式: `id(オブジェクトまたは変数)`\n",
    "*  `id`関数の引数は変数を指定して使うことが多い"
   ]
  },
  {
   "cell_type": "code",
   "execution_count": null,
   "metadata": {},
   "outputs": [],
   "source": [
    "text = input()\n",
    "x = ['ABC']\n",
    "y = [text]\n",
    "print(x[0] == y[0])\n",
    "print(id(x[0]) == id(y[0]))\n",
    "y = x\n",
    "y[0] ='XYZ'\n",
    "print(x[0])"
   ]
  }
 ],
 "metadata": {
  "colab": {
   "provenance": []
  },
  "kernelspec": {
   "display_name": "base",
   "language": "python",
   "name": "python3"
  },
  "language_info": {
   "codemirror_mode": {
    "name": "ipython",
    "version": 3
   },
   "file_extension": ".py",
   "mimetype": "text/x-python",
   "name": "python",
   "nbconvert_exporter": "python",
   "pygments_lexer": "ipython3",
   "version": "3.11.5"
  }
 },
 "nbformat": 4,
 "nbformat_minor": 1
}
