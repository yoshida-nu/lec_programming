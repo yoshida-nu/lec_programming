{
 "cells": [
  {
   "cell_type": "markdown",
   "metadata": {},
   "source": [
    "# 復習"
   ]
  },
  {
   "cell_type": "markdown",
   "metadata": {},
   "source": [
    "## リスト\n",
    "*  複数のデータをまとめて管理するときに使われるデータ型の一つ\n",
    "*  リストに含まれる値を要素と呼ぶ\n",
    "*  整数のインデックス （要素番号）を使って要素にアクセスする\n",
    "*  リストは角括弧 `[ ]` を使って定義: `リスト名(変数名) = [要素0, 要素1, 要素2, ...]`\n",
    "*  `[ ]`内の各要素はカンマ `,` で区切る\n",
    "*  変数を要素として指定することもできる\n",
    "\n",
    "<img src=\"./fig/list_score.jpg\" width=\"550\">"
   ]
  },
  {
   "cell_type": "code",
   "execution_count": null,
   "metadata": {},
   "outputs": [],
   "source": [
    "#リストの定義\n",
    "score = [74, 68, 92, 59, 77]\n",
    "print(score)"
   ]
  },
  {
   "cell_type": "markdown",
   "metadata": {},
   "source": [
    "## 文と制御構造\n",
    "*  Pythonでは，一般に1行に1つの処理を記述する\n",
    "*  このような1行の実行単位を「文（statement）」と呼ぶ\n",
    "*  これまでみてきた文は，すべて上の行から順に1行ずつ実行されていた\n",
    "*  このような処理構造を「順次」と呼ぶ\n",
    "*  処理構造は順次以外にも「分岐」と「繰り返し」と呼ばれる構造がある\n",
    "*  どんな複雑なプログラムも，「順次」「分岐」「繰り返し」の3つの単純な構造の組み合わせで表現できることがわかっている\n",
    "*  これを構造化定理と呼ぶ"
   ]
  },
  {
   "cell_type": "markdown",
   "metadata": {},
   "source": [
    "### 分岐\n",
    "*  複数の文（処理）のうち，指定された条件に合致するものを選択して実行する\n",
    "*  ある処理を実行するかしないかの選択もできる\n",
    "*  Pythonでは`if`文を使う\n",
    "\n",
    "<img src=\"./fig/04_selection.jpg\" width=\"350\">  \n",
    "<img src=\"./fig/selection_example.jpg\" width=\"500\">"
   ]
  },
  {
   "cell_type": "markdown",
   "metadata": {},
   "source": [
    "### 繰り返し\n",
    "*  ある条件に該当している間，あるいは決められた回数，記述された処理を実行する\n",
    "*  Pythonではリストの要素を順番に使った処理が実行できる\n",
    "*  Pythonでは`for`文や`while`文を使う\n",
    "\n",
    "<img src=\"./fig/iteration.jpg\" width=\"180\">"
   ]
  },
  {
   "cell_type": "markdown",
   "metadata": {},
   "source": [
    "## アンパック代入\n",
    "多くの変数を使ったコードを作成する場合，多くの行が変数への代入になることがある．このような場合には，複数の変数への代入を1行でまとめて記述する「アンパック代入」を使うと，コードがシンプルになる．  \n",
    "\n",
    "例1: `x, y = 1, 3` ⇒ `x`に`1`，`y`に`3`が代入される．  \n",
    "例2: `x, y = y, x + y` ⇒ `x`に`y`の値，`y`に`x+y`の演算結果が代入される．  \n",
    "\n",
    "複数の要素を持つコレクションの各要素をアンパック代入することもできる．\n",
    "\n",
    "例3:` x, y = [1, 3]` ⇒ `x`に`1` (リストの1番目の要素)，`y`に`3` (リストの2番目の要素)が代入される．\n"
   ]
  },
  {
   "cell_type": "code",
   "execution_count": null,
   "metadata": {},
   "outputs": [],
   "source": [
    "name, age = '鈴木', 20\n",
    "print(f'{name}さんの年齢は{age}歳です')"
   ]
  },
  {
   "cell_type": "code",
   "execution_count": null,
   "metadata": {},
   "outputs": [],
   "source": [
    "a = 5\n",
    "b = 10\n",
    "print(f'a={a}, b={b}')\n",
    "a, b = b, a + b\n",
    "print(f'a={a}, b={b}')"
   ]
  },
  {
   "cell_type": "code",
   "execution_count": null,
   "metadata": {},
   "outputs": [],
   "source": [
    "member = ['鈴木', 20]\n",
    "a, b = member\n",
    "print(f'{a}さんの年齢は{b}歳です')"
   ]
  },
  {
   "cell_type": "markdown",
   "metadata": {},
   "source": [
    "# `while`文を使った繰り返し\n",
    "*  `while`の直後に半角スペースを入れたあと，繰り返し処理の条件式を記述して，最後にコロン`:`を入れる\n",
    "*  条件式のデータ型は`if`文と同様にboolとなる\n",
    "*  条件式が `True`（真） である間，`while`ブロック内の処理を繰り返す\n",
    "*  ブロックの意味は`if`文と同じ\n",
    "*  条件式が `False`（偽）になったら繰り返しが終わる ⇒ `while`ブロック直後の処理へ\n",
    "\n",
    "<img src=\"./fig/05_while.png\" width=\"550\">\n"
   ]
  },
  {
   "cell_type": "markdown",
   "metadata": {},
   "source": [
    "* ここで，以下のコードを`while`文を使った5回の繰り返し処理に書き換えることを考える"
   ]
  },
  {
   "cell_type": "code",
   "execution_count": null,
   "metadata": {},
   "outputs": [],
   "source": [
    "# カウンタの役割を果たす変数count\n",
    "count = 1\n",
    "print(f'ひつじが{count}匹')\n",
    "count += 1\n",
    "print(f'ひつじが{count}匹')\n",
    "count += 1\n",
    "print(f'ひつじが{count}匹')\n",
    "count += 1\n",
    "print(f'ひつじが{count}匹')\n",
    "count += 1\n",
    "print(f'ひつじが{count}匹')\n",
    "print('zzz...')"
   ]
  },
  {
   "cell_type": "markdown",
   "metadata": {},
   "source": [
    "## 決められた回数の繰り返し処理\n",
    "* 上のコードで使っている変数`count`を`while`文の条件式に利用する ⇒ `count < 6`\n",
    "* この条件式が`True`である限り，`while`ブロックを繰り返す\n",
    "* `while`ブロックの処理は，以下の2行とする\n",
    "\n",
    "```Python\n",
    "print(f'ひつじが{count}匹')\n",
    "count += 1\n",
    "```"
   ]
  },
  {
   "cell_type": "code",
   "execution_count": null,
   "metadata": {},
   "outputs": [],
   "source": [
    "count = 1\n",
    "while count < 6:\n",
    "    print(f'ひつじが{count}匹')\n",
    "    count += 1\n",
    "print('zzz...')"
   ]
  },
  {
   "cell_type": "markdown",
   "metadata": {},
   "source": [
    "## 無限ループ\n",
    "* 上のコードは繰り返しの中で変数`count`の値を1ずつ増やしていき，その値が6になる（6未満じゃなくなる）と繰り返しを終了するコードとなる\n",
    "* したがって，`while`ブロックで変数`count`の値を増やす処理がないと，無限に処理が繰り返され，いつまでも終了しないコードになる\n",
    "* この現象を「**無限ループ**」と呼ぶ\n",
    "* 無限ループになってしまったら，コードセル左上の停止ボタン[■]をクリックする．"
   ]
  },
  {
   "cell_type": "code",
   "execution_count": null,
   "metadata": {},
   "outputs": [],
   "source": [
    "count = 1\n",
    "while count < 6:\n",
    "    print(f'ひつじが{count}匹')\n",
    "print('zzz...')"
   ]
  },
  {
   "cell_type": "markdown",
   "metadata": {},
   "source": [
    "## 状態による繰り返し処理\n",
    "* 繰り返しの条件を回数ではなく，あるものの状態によって判定することもできる\n",
    "* 例えば，以下のコードでは，フラグ（flag）の役割を持たせたデータ型が`bool`の変数`is_apple`を使って，変数の値が`True`になると繰り返し処理が終了するようにしている\n",
    "* ここで，入力した文字列が「apple」であれば`True`，それ以外を`False`とした\n",
    "* 条件式`is_apple == False`を，`not is_apple`に変えても同じ処理となる"
   ]
  },
  {
   "cell_type": "code",
   "execution_count": null,
   "metadata": {},
   "outputs": [],
   "source": [
    "is_apple = False\n",
    "while is_apple == False:\n",
    "    word = input('リンゴは英語で？ >> ')\n",
    "    if word == 'apple':\n",
    "        is_apple = True\n",
    "    else:\n",
    "        print(f'{word}はリンゴではありません！')\n",
    "print('正解')"
   ]
  },
  {
   "cell_type": "markdown",
   "metadata": {},
   "source": [
    "## リストを利用した繰り返し処理\n",
    "* 以下のコードは，リストの要素を順番に取り出すために変数`count`を使っている点がポイントとなる"
   ]
  },
  {
   "cell_type": "code",
   "execution_count": null,
   "metadata": {},
   "outputs": [],
   "source": [
    "scores = [80, 20, 75, 60]\n",
    "count = 0\n",
    "#countの値がリストscoreの要素数より小さければ繰り返す\n",
    "while count < len(scores):\n",
    "    if scores[count] >= 60:\n",
    "        print('合格')\n",
    "    else:\n",
    "        print('不合格')\n",
    "    count += 1"
   ]
  },
  {
   "cell_type": "markdown",
   "metadata": {},
   "source": [
    "## 繰り返しの制御\n",
    "*  `while`文の中に，`break`文や`continue`文を組み合わせると，より高度な繰り返し制御ができる\n",
    "*  `break`文と`continue`文は，`if`文と組み合わせて使う\n",
    "*  `break`文: `if`文の条件式が`True` ⇒ 繰り返し処理の途中で終了（即座に`while`文を抜ける）\n",
    "*  `continue`文: `if`文の条件式が`True` ⇒繰り返し処理の途中で処理をスキップ（即座に`while`文の次の繰り返しに移る）"
   ]
  },
  {
   "cell_type": "markdown",
   "metadata": {},
   "source": [
    "### `break`文の例\n",
    "*  以下のコードは，上のコードと同じ動作をするコードになっている\n",
    "*  `word`に「apple」が入力されると，`if`文の条件式が`True`となり5行目が実行されたのちに`break`で`while`文を抜ける\n",
    "*  `break`がないと無限ループになるので注意する"
   ]
  },
  {
   "cell_type": "code",
   "execution_count": null,
   "metadata": {},
   "outputs": [],
   "source": [
    "is_apple = False\n",
    "while True:\n",
    "    word = input('リンゴは英語で？ >> ')\n",
    "    if word == 'apple':\n",
    "        print('正解')\n",
    "        break\n",
    "    print(f'{word}はリンゴではありません！')"
   ]
  },
  {
   "cell_type": "markdown",
   "metadata": {},
   "source": [
    "### `continue`文の例\n",
    "*  以下のコードは，上のコードと同じ動作をするコードになっている\n",
    "*  `word`に「apple」以外が入力されると，`if`文の条件式が`True`となり5行目が実行されたのちに`continue`で次の繰り返しに移る\n",
    "*  `continue`によって，`if`文の条件式が`False`にならないと7行目が実行されない"
   ]
  },
  {
   "cell_type": "code",
   "execution_count": null,
   "metadata": {},
   "outputs": [],
   "source": [
    "is_apple = False\n",
    "while is_apple == False:\n",
    "    word = input('リンゴは英語で？ >> ')\n",
    "    if word != 'apple':\n",
    "        print(f'{word}はリンゴではありません！')\n",
    "        continue\n",
    "    is_apple = True\n",
    "print('正解')"
   ]
  },
  {
   "cell_type": "markdown",
   "metadata": {},
   "source": [
    "## フィボナッチ数列\n",
    "* フィボナッチ数列とは，1から始めて前の数字を加算していく数列のことで，以下の漸化式で表現できる\n",
    "$$\n",
    "F_1 = 1 \\\\\n",
    "F_2 = 1 \\\\\n",
    "F_{n+2} = F_{n} + F_{n+1}, \\ \\ n = 2,3,\\ldots\n",
    "$$\n",
    "  \n",
    "* $n$が10までのフィボナッチ数列は下表のとおり\n",
    "\n",
    "|$n$|1|2|3|4|5|6|7|8|9|10|\n",
    "|:-:|:-:|:-:|:-:|:-:|:-:|:-:|:-:|:-:|:-:|:-:|\n",
    "| $F_n$ |1|1|2|3|5|8|13|21|34|55|\n",
    "\n",
    "* 次のコードは，第$n$項までのフィボナッチ数列を表示するコードになっている\n",
    "* 各繰り返しにおける`while`ブロック内の`count`, `a`, `b`の値は下表のとおり\n",
    "* `n`が8の場合は，6行目の`count`が9になると，条件式`count <= n`が`False`となり`while`ブロックを抜ける（繰り返しを終了する）\n",
    "\n",
    "|`count`|1|2|3|4|5|6|7|8|9|…|\n",
    "|:-:|:-:|:-:|:-:|:-:|:-:|:-:|:-:|:-:|:-:|:-:|\n",
    "|`a`|1|1|2|3|5|8|13|21|34|…|\n",
    "|`b`|1|2|3|5|8|13|21|34|55|…|"
   ]
  },
  {
   "cell_type": "code",
   "execution_count": null,
   "metadata": {},
   "outputs": [],
   "source": [
    "n = 8\n",
    "a, b, count = 0, 1, 1\n",
    "while count <= n:\n",
    "    a, b = b, a + b\n",
    "    print(f'フィボナッチ数列の第{count}項: {a}')\n",
    "    count += 1"
   ]
  },
  {
   "cell_type": "markdown",
   "metadata": {},
   "source": [
    "# `for`文を使った繰り返し\n",
    "*  `for`の直後に半角スペースを入れたあと，繰り返しの処理の中で用いる変数を記述\n",
    "*  その変数の直後に半角スペースを入れたあと，`in`と記述\n",
    "*  `in`の直後に半角スペースを入れたあと，イテラブル（iterable）と呼ばれる繰り返し処理が可能なオブジェクトを記述して，最後にコロン`:`を入れる\n",
    "*  イテラブルは複数の要素からなり，要素を順番に取り出すことができるオブジェクトの総称（「イテラブルなオブジェクト」と呼ぶこともある）\n",
    "*  各繰り返しで，イテラブルの要素が順番に1つずつ変数に格納される\n",
    "*  取り出す要素がなくなるまで処理を繰り返す\n",
    "*  もう少し細かく言うと，`for`文で指定したイテラブルは，イテレータ（iterator）と呼ばれるオブジェクトを経由して利用されている（説明は省略）\n",
    "*  `for`文では，リストなどのコンテナや`range`関数（後述）がイテラブルとしてよく使われる\n",
    "*  `for`文で繰り返す処理は，`while`文の`while`ブロックと同様に`for`ブロックとして記述する\n",
    "*  `for`ブロックはインデントを使って設定する\n",
    "\n",
    "<img src=\"./fig/for_structure.jpg\" width=\"500\">"
   ]
  },
  {
   "cell_type": "markdown",
   "metadata": {
    "id": "1Iz_nWdSJ1TW"
   },
   "source": [
    "## イテラブルにリストを用いた`for`文\n",
    "* リストの要素数だけ繰り返す（リスト以外のコンテナでもOK）\n",
    "* 各繰り返しでリストの要素を先頭から順に，「for」の直後に記述した変数に代入する\n",
    "  \n",
    "**イメージ例**:\n",
    "```\n",
    "score = [74, 68, 92, 59, 77]\n",
    "for data in score\n",
    "    ・・・・・\n",
    "```\n",
    "<img src=\"./fig/for_list_example.jpg\" width=\"600\">"
   ]
  },
  {
   "cell_type": "markdown",
   "metadata": {},
   "source": [
    "### コード例\n",
    "*  次の2つのコードの例において，`a`や`wdays`はリストなのでイテラブルである\n",
    "*  繰り返しの中で，`a`や`wdays`の要素が順番に取り出されて3行目を実行していく"
   ]
  },
  {
   "cell_type": "code",
   "execution_count": null,
   "metadata": {
    "colab": {
     "base_uri": "https://localhost:8080/"
    },
    "executionInfo": {
     "elapsed": 9,
     "status": "ok",
     "timestamp": 1663665067227,
     "user": {
      "displayName": "Takahiro YOSHIDA",
      "userId": "00096252480874798687"
     },
     "user_tz": -540
    },
    "id": "X1xvwLeOKfr2",
    "outputId": "2b1d5fb7-d398-468f-aa38-c66e0e12bb33"
   },
   "outputs": [],
   "source": [
    "a = [78, 93, 80, 62]\n",
    "for i in a:\n",
    "    print(i)"
   ]
  },
  {
   "cell_type": "code",
   "execution_count": null,
   "metadata": {
    "colab": {
     "base_uri": "https://localhost:8080/"
    },
    "executionInfo": {
     "elapsed": 270,
     "status": "ok",
     "timestamp": 1663665089742,
     "user": {
      "displayName": "Takahiro YOSHIDA",
      "userId": "00096252480874798687"
     },
     "user_tz": -540
    },
    "id": "4fu0gtm0J3w6",
    "outputId": "13f8ca68-8444-4e80-b697-d79f1963cea4"
   },
   "outputs": [],
   "source": [
    "wdays = ['月', '火', '水', '木', '金']\n",
    "for day in wdays:\n",
    "    print(f'{day}曜日')"
   ]
  },
  {
   "cell_type": "markdown",
   "metadata": {},
   "source": [
    "## イテラブルに`range`関数を用いた`for`文\n",
    "*  `range`関数は，引数として指定した範囲の整数（等差数列）を要素とするイテラブルを返す\n",
    "*  `range`関数を`for`文のイテラブルとして用いることで，決まった回数の繰り返し処理を実行することができる\n",
    "*  `range`関数の記述方法: `range(開始の値, 終了の値, ステップ幅)`\n",
    ">*  引数は3つ指定できる\n",
    ">*  開始の値とステップ幅は省略することもできる\n",
    ">*  引数が1つの場合 ⇒ 終了の値\n",
    ">*  引数が2つの場合 ⇒ 開始の値，終了の値\n",
    ">*  引数が3つの場合 ⇒ 開始の値, 終了の値, ステップ幅\n",
    ">*  開始の値を指定していない場合 ⇒ 0\n",
    ">*  ステップ幅を指定していない場合 ⇒ 1\n"
   ]
  },
  {
   "cell_type": "code",
   "execution_count": null,
   "metadata": {},
   "outputs": [],
   "source": [
    "x = 3\n",
    "for i in range(5):\n",
    "    print(f'{x} * {i} = {x * i}')"
   ]
  },
  {
   "cell_type": "code",
   "execution_count": null,
   "metadata": {},
   "outputs": [],
   "source": [
    "x = 3\n",
    "for i in range(1, 5):\n",
    "    print(f'{x} * {i} = {x * i}')"
   ]
  },
  {
   "cell_type": "code",
   "execution_count": null,
   "metadata": {},
   "outputs": [],
   "source": [
    "x = 3\n",
    "for i in range(1, 5, 2):\n",
    "    print(f'{x} * {i} = {x * i}')"
   ]
  },
  {
   "cell_type": "markdown",
   "metadata": {
    "id": "czl3J44gK1kX"
   },
   "source": [
    "## `enumerate`関数を利用した`for`文\n",
    "*  `enumerate`関数を使うと，`for`文で用いるイテラブルに対して，要素のインデックスと，その要素自体を同時に取得できる\n",
    "*  これにより，繰り返し処理の中でカウンタを手動で設定する必要がなくなり，コードをシンプルにできる\n",
    "*  書式: `enumerate(iterable, start=0)`\n",
    ">*  `iterable`: イテラブルなオブジェクト\n",
    ">*  `start`: インデックスの開始番号（デフォルトは0）\n",
    "*  `enumerate`関数の戻り値もイテラブルとなる"
   ]
  },
  {
   "cell_type": "code",
   "execution_count": null,
   "metadata": {
    "colab": {
     "base_uri": "https://localhost:8080/"
    },
    "executionInfo": {
     "elapsed": 282,
     "status": "ok",
     "timestamp": 1694413949696,
     "user": {
      "displayName": "Takahiro YOSHIDA",
      "userId": "00096252480874798687"
     },
     "user_tz": -540
    },
    "id": "7rUx2VkxLJDF",
    "outputId": "955881f3-f34c-4c4f-fef9-d3680a541c0e"
   },
   "outputs": [],
   "source": [
    "wdays = ['月', '火', '水', '木', '金']\n",
    "#iにwdaysのインデックス，dayにwdaysの要素を代入\n",
    "for i, day in enumerate(wdays, start=1):\n",
    "    print(f'{i}:{day}')"
   ]
  },
  {
   "cell_type": "markdown",
   "metadata": {
    "id": "Ec8tfizJ7NrY"
   },
   "source": [
    "* `enumerate` 関数を使わずに上のコードと同じ結果を実現する場合は，以下のようなコードになる"
   ]
  },
  {
   "cell_type": "code",
   "execution_count": null,
   "metadata": {
    "colab": {
     "base_uri": "https://localhost:8080/"
    },
    "executionInfo": {
     "elapsed": 274,
     "status": "ok",
     "timestamp": 1694413763163,
     "user": {
      "displayName": "Takahiro YOSHIDA",
      "userId": "00096252480874798687"
     },
     "user_tz": -540
    },
    "id": "oYEm7Trj628v",
    "outputId": "91ee7362-162e-4f71-f1d6-5dd5191a63db"
   },
   "outputs": [],
   "source": [
    "wdays = ['月', '火', '水', '木', '金']\n",
    "i = 1\n",
    "for day in wdays:\n",
    "    print(f'{i}:{day}')\n",
    "    i = i + 1"
   ]
  },
  {
   "cell_type": "markdown",
   "metadata": {},
   "source": [
    "## `zip`関数を利用した`for`文\n",
    "*  `zip`関数は，`for`文の繰り返しにおいて，複数のイテラブルを同時に処理する場合に使われる\n",
    "*  具体的には，複数のイテラブルの対応する要素を1つずつ取り出し，それらをタプルとして結合したものを，イテラブルとして返す\n",
    "*  長さ（要素数）が違うイテラブルを指定した場合は，最短のイテラブルの長さに合わせて処理される"
   ]
  },
  {
   "cell_type": "code",
   "execution_count": null,
   "metadata": {},
   "outputs": [],
   "source": [
    "names = ['Alice', 'Bob', 'Charlie']\n",
    "scores = [85, 92, 78]\n",
    "\n",
    "# zipを使って2つのリストを同時に繰り返し処理\n",
    "for name, score in zip(names, scores):\n",
    "    print(f'{name}さんのスコアは{score}です。')"
   ]
  },
  {
   "cell_type": "code",
   "execution_count": null,
   "metadata": {},
   "outputs": [],
   "source": [
    "names = ['Alice', 'Bob', 'Charlie']\n",
    "scores = [85, 92, 78]\n",
    "ages = [20, 22, 19]\n",
    "\n",
    "# zipを使って3つのリストを同時に繰り返し処理\n",
    "for name, score, age in zip(names, scores, ages):\n",
    "    print(f'{name}さんは{age}歳で，スコアは{score}です。')"
   ]
  },
  {
   "cell_type": "markdown",
   "metadata": {},
   "source": [
    "## 繰り返しの制御\n",
    "*  `while`文と同様に`for`文の中に，`break`文や`continue`文を組み合わせると，より高度な繰り返し制御ができる\n",
    "*  `break`文と`continue`文は，`if`文と組み合わせて使う\n",
    "*  `break`文: `if`文の条件式が`True` ⇒ 繰り返し処理の途中で終了（即座に`for`文を抜ける）\n",
    "*  `continue`文: `if`文の条件式が`True` ⇒繰り返し処理の途中で処理をスキップ（即座に`for`文の次の繰り返しに移る）"
   ]
  },
  {
   "cell_type": "markdown",
   "metadata": {},
   "source": [
    "### `break`文の例\n",
    "*  以下のコードは，年齢データのリスト（`ages`）の中から20代の年齢データを5件だけ抽出するコードになっている\n",
    "*  8行目で20代かどうかを判定し，9行目で目標抽出数の5件に達しているかを判定している\n",
    "*  したがって，20代で，かつ目標抽出数に達していない場合にリスト`samples`に追加される\n",
    "*  このコードは正しい結果を出力しているが，目標抽出数に達した後も，繰返し処理が継続しているので，無駄な処理を行っている（コンピュータに負荷をかけている）ことになる"
   ]
  },
  {
   "cell_type": "code",
   "execution_count": null,
   "metadata": {},
   "outputs": [],
   "source": [
    "#対象データ\n",
    "ages = [28, 50, 8, 20, 78, 25, 22, 10, 27, 33]\n",
    "#目標の抽出数\n",
    "num = 5\n",
    "#サンプルデータを格納するリスト\n",
    "samples = []\n",
    "for age in ages:\n",
    "    if 20 <= age < 30:\n",
    "        if len(samples) < num:\n",
    "            samples.append(age)\n",
    "print(samples)"
   ]
  },
  {
   "cell_type": "markdown",
   "metadata": {},
   "source": [
    "*  上のコードを改良して，目標抽出数に達した時点で，繰返し処理を強制的に終了するコードを作成する\n",
    "*  具体的には，目標抽出数に達しているかどうかを判定する`if`文の中に「`break`」を記述する\n",
    "*  まず，8行目で20代のデータであるかを判定し，20代であれば`samples`にデータを追加する（20代以外のときは何もせずに次の繰り返し処理に進む）\n",
    "*  さらに，10行目で抽出数（`len(samples)`）が目標抽出数（`num`）と一致しているかを判定し，一致（`True`）となったときに11行目の`break`が実行され，繰り返しを抜ける"
   ]
  },
  {
   "cell_type": "code",
   "execution_count": null,
   "metadata": {},
   "outputs": [],
   "source": [
    "#対象データ\n",
    "ages = [28, 50, 8, 20, 78, 25, 22, 10, 27, 33]\n",
    "#目標の抽出数\n",
    "num = 5\n",
    "#サンプルデータを格納するリスト\n",
    "samples = []\n",
    "for age in ages:\n",
    "    if 20 <= age < 30:\n",
    "        samples.append(age)\n",
    "        if len(samples) == num:\n",
    "            break\n",
    "print(samples)"
   ]
  },
  {
   "cell_type": "markdown",
   "metadata": {},
   "source": [
    "### `continue`文の例\n",
    "*  次のコードは，1～20まで整数で，2と3と5で割り切れない値を表示する\n",
    "*  このような場合には，`continue`文を利用するとわかりやすい構造でコードが記述できる\n"
   ]
  },
  {
   "cell_type": "code",
   "execution_count": null,
   "metadata": {},
   "outputs": [],
   "source": [
    "for i in range(1, 21):\n",
    "    if i % 2 == 0:\n",
    "        continue\n",
    "    if i % 3 == 0:\n",
    "        continue\n",
    "    if i % 5 == 0:\n",
    "        continue\n",
    "    print(i)"
   ]
  },
  {
   "cell_type": "markdown",
   "metadata": {},
   "source": [
    "*  上のコードと同じ結果を出力するコードを`continue`文を使わずに記述すると以下の2つのコードのようになる\n",
    "*  `continue`文を使わないと，`if`文の階層構造が深くなったり，条件式が複雑になったりするため，コードが読み難くなることがある  "
   ]
  },
  {
   "cell_type": "code",
   "execution_count": null,
   "metadata": {},
   "outputs": [],
   "source": [
    "for i in range(1, 21):\n",
    "    if i % 2 != 0:\n",
    "        if i % 3 != 0:\n",
    "            if i % 5 != 0:\n",
    "                print(i)"
   ]
  },
  {
   "cell_type": "code",
   "execution_count": null,
   "metadata": {},
   "outputs": [],
   "source": [
    "for i in range(1, 21):\n",
    "    if (i % 2 != 0) and (i % 3 != 0) and (i % 5 != 0):\n",
    "        print(i)"
   ]
  },
  {
   "cell_type": "markdown",
   "metadata": {},
   "source": [
    "## `for`文の`else`ブロック\n",
    "*  forブロックの直後に`else`ブロックを記述できる\n",
    "*  `for`文において，`break`文が実行されず，処理が中断されなかったときにだけ，`else`ブロックの処理が実行される\n",
    "*  次のコードの例では，リスト`animals`に含まれていない要素を`target`に代入すると`else`節が実行される"
   ]
  },
  {
   "cell_type": "code",
   "execution_count": null,
   "metadata": {},
   "outputs": [],
   "source": [
    "animals = ['cat', 'dog', 'monkey', 'rabbit', 'bear', 'lion']\n",
    "target = 'monkey'\n",
    "for animal in animals:\n",
    "    if target == animal:\n",
    "        print(f'{target}発見！')\n",
    "        break\n",
    "else:\n",
    "    print(f'{target}は見つかりませんでした')"
   ]
  },
  {
   "cell_type": "markdown",
   "metadata": {},
   "source": [
    "## `for`文の入れ子による2重ループ\n",
    "*  `for`文の中に`for`文を入れることも可能\n",
    "*  このような構造を入れ子構造（階層構造）と呼ぶ\n",
    "*  2階層の`for`文の入れ子では，外側の`for`文における1回の繰り返し処理で，内側の`for`文の繰り返し処理をすべて実行する\n",
    "\n",
    "<img src=\"./fig/05_for-nest.jpg\" width=\"200\">\n",
    "\n",
    "以下の2重ループのコードの各繰り返しにおいて，変数`a`と`b`の値は以下のように変化する．\n",
    "*  外側ループ1回目\n",
    ">*  内側ループ1回目： `a`⇒パン, `b`⇒ハンバーグ\n",
    ">*  内側ループ2回目： `a`⇒パン, `b`⇒焼魚\n",
    ">*  内側ループ3回目： `a`⇒パン, `b`⇒からあげ\n",
    "\n",
    "*  外側ループ2回目\n",
    ">*  内側ループ1回目： `a`⇒ごはん, `b`⇒ハンバーグ\n",
    ">*  内側ループ2回目： `a`⇒ごはん, `b`⇒焼魚\n",
    ">*  内側ループ3回目： `a`⇒ごはん, `b`⇒からあげ\n"
   ]
  },
  {
   "cell_type": "code",
   "execution_count": null,
   "metadata": {},
   "outputs": [],
   "source": [
    "staple_food = ['パン', 'ごはん']\n",
    "main_dish = ['ハンバーグ', '焼魚', 'からあげ']\n",
    "for a in staple_food:\n",
    "    for b in main_dish:\n",
    "        print(f'{a}と{b}')"
   ]
  },
  {
   "cell_type": "markdown",
   "metadata": {
    "id": "e_L0pb5lJi-J"
   },
   "source": [
    "# リスト内包(ないほう)表記\n",
    "*  内包表記とは，Pythonの文法の一つ\n",
    "*  `for`文などを使って行う繰り返し処理を，単純な形で記述できる\n",
    "*  もう少し正確にいうと内包表記は「式」⇒ 1行で記述できる\n",
    "*  式なので関数の引数として渡すことができる\n",
    "*  リスト内包表記は内包表記の一種\n",
    "*  イテラブルを利用して，新しいリストを作るための式\n",
    "*  式を計算した結果が新しいリストの要素となる\n",
    "*  説明用の簡単な例として，0, 1, 2,...,9 までの数の2乗を要素とするリストを作成することを考える\n",
    "*  単純な方法として，以下のような `for`文でリストを作成する方法がある"
   ]
  },
  {
   "cell_type": "code",
   "execution_count": null,
   "metadata": {
    "colab": {
     "base_uri": "https://localhost:8080/"
    },
    "executionInfo": {
     "elapsed": 312,
     "status": "ok",
     "timestamp": 1694414995744,
     "user": {
      "displayName": "Takahiro YOSHIDA",
      "userId": "00096252480874798687"
     },
     "user_tz": -540
    },
    "id": "vun_e4ANLLd2",
    "outputId": "29d3de0f-0377-4f9f-9e29-059086948c49"
   },
   "outputs": [],
   "source": [
    "square = [] # 空のリストを定義\n",
    "for i in range(10):\n",
    "    square.append(i ** 2)\n",
    "print(square)"
   ]
  },
  {
   "cell_type": "markdown",
   "metadata": {
    "id": "PWfSYQ2j-eoF"
   },
   "source": [
    "*  リスト内包表記を使って，上記コードと同様の処理を行う\n",
    "*  リスト内包表記は，リスト内に`for`文を記述するようなイメージとなる\n",
    "*  リスト内包表記を使うことで，コードがシンプルになる，処理が早くなるといった効果が生まれる\n",
    "*  **リスト内包表記の書式:** `[ 式 for 変数 in イテラブル]`"
   ]
  },
  {
   "cell_type": "markdown",
   "metadata": {
    "id": "dDcUnu8c_uHr"
   },
   "source": [
    "## リスト内包表記例１"
   ]
  },
  {
   "cell_type": "code",
   "execution_count": null,
   "metadata": {
    "colab": {
     "base_uri": "https://localhost:8080/"
    },
    "executionInfo": {
     "elapsed": 3,
     "status": "ok",
     "timestamp": 1669004390643,
     "user": {
      "displayName": "Takahiro YOSHIDA",
      "userId": "00096252480874798687"
     },
     "user_tz": -540
    },
    "id": "pfazgNl3_N7x",
    "outputId": "31b83a37-a0b0-4465-bd4c-b7575d331eb8"
   },
   "outputs": [],
   "source": [
    "square = [i ** 2 for i in range(10)]\n",
    "print(square)"
   ]
  },
  {
   "cell_type": "markdown",
   "metadata": {
    "id": "IBtGo4ZEHL_N"
   },
   "source": [
    "## リスト内包表記例２\n",
    "*  リスト内包表記は，ifを追加して記述すこともできる\n",
    "*  以下のコードを実行して，上記コード例（内包表記例1）の結果と比較してみる"
   ]
  },
  {
   "cell_type": "code",
   "execution_count": null,
   "metadata": {
    "colab": {
     "base_uri": "https://localhost:8080/"
    },
    "executionInfo": {
     "elapsed": 756,
     "status": "ok",
     "timestamp": 1669004396915,
     "user": {
      "displayName": "Takahiro YOSHIDA",
      "userId": "00096252480874798687"
     },
     "user_tz": -540
    },
    "id": "J1-w95a7tAWh",
    "outputId": "7df72726-0490-4075-9c33-77949aef1422"
   },
   "outputs": [],
   "source": [
    "square = [i ** 2 for i in range(10) if i ** 2 % 3 == 0]\n",
    "print(square)"
   ]
  },
  {
   "cell_type": "markdown",
   "metadata": {
    "id": "DW9tUWNfAGQQ"
   },
   "source": [
    "* 上記コード（内包表記例2）におけるリスト内包表記 `[i**2 for i in range(10) if i**2 % 3 == 0]` は，内包表記例1の `[i**2 for i in range(10)]` で表されるリストのうち，3の倍数（`i**2 % 3 == 0` が `True` になる `i**2`）だけを要素としたリストになっている\n",
    "\n",
    "**【ifを含むリスト内包表記の記法】**  \n",
    " `[ 式 for 変数 in 繰返し範囲 or データの集まり if 条件式]`"
   ]
  },
  {
   "cell_type": "markdown",
   "metadata": {
    "id": "bTH4AkZ8Y2nb"
   },
   "source": [
    "## リスト内包表記例３\n",
    "* さらに，`for`文の入れ子に対応するリスト内包表記も記述できる"
   ]
  },
  {
   "cell_type": "code",
   "execution_count": null,
   "metadata": {
    "colab": {
     "base_uri": "https://localhost:8080/"
    },
    "executionInfo": {
     "elapsed": 3,
     "status": "ok",
     "timestamp": 1669004449449,
     "user": {
      "displayName": "Takahiro YOSHIDA",
      "userId": "00096252480874798687"
     },
     "user_tz": -540
    },
    "id": "pL8r-ATxaep1",
    "outputId": "c2565735-c3ae-42f2-8c0a-54fca6502ca4"
   },
   "outputs": [],
   "source": [
    "combs = []\n",
    "for x in [1, 2, 3]:\n",
    "  for y in [3, 1, 4]:\n",
    "    if x != y:\n",
    "      combs.append((x, y))\n",
    "print(combs)"
   ]
  },
  {
   "cell_type": "code",
   "execution_count": null,
   "metadata": {
    "colab": {
     "base_uri": "https://localhost:8080/"
    },
    "executionInfo": {
     "elapsed": 249,
     "status": "ok",
     "timestamp": 1669004573109,
     "user": {
      "displayName": "Takahiro YOSHIDA",
      "userId": "00096252480874798687"
     },
     "user_tz": -540
    },
    "id": "MxN6sbY7ahiK",
    "outputId": "0ffdd404-bae8-4fa4-ebe4-224ae594ee64"
   },
   "outputs": [],
   "source": [
    "combs2 = [(x, y) for x in [1, 2, 3] for y in [3, 1, 4] if x != y]\n",
    "print(combs2)"
   ]
  },
  {
   "cell_type": "markdown",
   "metadata": {},
   "source": [
    "# 実習\n",
    "以下の要件を満たすコードを作成しなさい．\n",
    "\n",
    "**＜要件＞**\n",
    "*  すでに入力されているコードは削除・変更しない\n",
    "*  「# ここにコードを記述」のある行にだけコードを追加で記述する\n",
    "*  コメントはすべて削除する\n",
    "*  下図のように九九の1の段から9の段までを順番に表示する`for`文を使ったコードを作成する\n",
    "*  3行目は`print`関数とf-stringを使う\n",
    "*  f-stringの中に変数`i`と`j`を入れる\n",
    "*  f-stringでは全角文字を使用しない\n",
    "\n",
    "<img src=\"./fig/05_kadai_result.jpg\" width=\"80\">"
   ]
  },
  {
   "cell_type": "code",
   "execution_count": null,
   "metadata": {},
   "outputs": [],
   "source": [
    "for i in # ここにコードを記述\n",
    "    for j in # ここにコードを記述\n",
    "        # ここにコードを記述"
   ]
  },
  {
   "cell_type": "markdown",
   "metadata": {},
   "source": [
    "# 参考資料\n",
    "*  [Chainer Tutorials : 02_Basics_of_Python.ipynb](https://colab.research.google.com/github/chainer/tutorials/blob/master/ja/02_Basics_of_Python.ipynb)\n",
    "*  東京大学, [3-2. 繰り返し](https://colab.research.google.com/github/utokyo-ipp/utokyo-ipp.github.io/blob/master/colab/3/3-2.ipynb), 「プログラミング入門」講義資料\n",
    "*  柴田淳, みんなのPython 第4版, SBクリエイティブ, 2016\n",
    "*  株式会社ビープラウド(監修), リブロワークス(著), スラスラ読める Pythonふりがなプログラミング Kindle版, インプレス, 2018\n",
    "*  森巧尚, Python 1年生 体験してわかる！会話でまなべる！プログラミングのしくみ Kindle版, 翔泳社, 2017\n"
   ]
  }
 ],
 "metadata": {
  "colab": {
   "authorship_tag": "ABX9TyOiaZWHfYvyy6Wo1gCTyAqi",
   "provenance": [],
   "toc_visible": true
  },
  "kernelspec": {
   "display_name": "pythonev",
   "language": "python",
   "name": "python3"
  },
  "language_info": {
   "codemirror_mode": {
    "name": "ipython",
    "version": 3
   },
   "file_extension": ".py",
   "mimetype": "text/x-python",
   "name": "python",
   "nbconvert_exporter": "python",
   "pygments_lexer": "ipython3",
   "version": "3.10.13"
  }
 },
 "nbformat": 4,
 "nbformat_minor": 0
}
