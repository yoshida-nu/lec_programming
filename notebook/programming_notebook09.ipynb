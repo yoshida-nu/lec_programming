{
 "cells": [
  {
   "cell_type": "markdown",
   "metadata": {},
   "source": [
    "# （復習）モジュールの利用\n",
    "*  これまでに使ってきた`print`や`input`などの組み込み関数は，Pythonの中に内蔵されていて，いつでも使えるように組み込まれている関数であった\n",
    "*  一方，限られた用途で使う定型の処理は，モジュールから読み込むことで使うことができる\n",
    "*  モジュールとは，変数，関数，クラスを必要なときに読み込んで使える仕組みのこと\n",
    "\n",
    "<img src=\"./fig/08_image_module.png\" width=\"500\">"
   ]
  },
  {
   "cell_type": "markdown",
   "metadata": {},
   "source": [
    "## モジュール／ライブラリ／パッケージ\n",
    "*  モジュール\n",
    ">*  Pythonで記述された拡張子が「.py」のファイル\n",
    ">*  他のファイルやノートブックから読み込むことで利用できる\n",
    "*  ライブラリ\n",
    ">* 複数のモジュールがまとまったもので，2種類（標準ライブラリと外部ライブラリ）のライブラリがある\n",
    ">*  標準ライブラリ：最初からPythonに付属しているライブラリ\n",
    ">*  外部ライブラリ：外部の組織や個人（サードパーティ）が用意したライブラリ\n",
    "*  パッケージ\n",
    ">*  実体はフォルダ\n",
    ">*  複数のモジュールをフォルダに入れてひとまとめにしたもの\n",
    ">*  フォルダには「__init__.py」という名前のファイルが含まれ，そのパッケージを読み込んだ際に実行される\n"
   ]
  },
  {
   "cell_type": "markdown",
   "metadata": {},
   "source": [
    "## モジュールのインポート\n",
    "*  モジュールを使いたい場合は，モジュールを読み込む必要がある\n",
    "*  モジュールを読み込むことをインポート（import）と呼ぶ\n",
    "*  モジュールのインポートは，`import`文で記述できる\n",
    "*  基本的な`import`文の書式: `import モジュール名`\n",
    "*  `import`の直後にモジュール名を書くことで指定したモジュールを読み込む（インポートする）ことができる\n",
    "*  モジュールをインポートすることで，モジュールの中にある各種機能（変数，関数，クラス）が利用できるようになる\n",
    "*  一般的に，`import`文はコードの先頭に記述する\n",
    "\n",
    "<img src=\"./fig/08_import_module.png\" width=\"500\">\n",
    "\n",
    "*  上記の書式でインポートしたモジュールの機能を利用する場合は，モジュール名を必ず記述する\n",
    "*  モジュール名の直後にドット「`.`」を付け，続けて変数名や関数名を記述する\n",
    "*  モジュール内の変数の参照: `モジュール名.変数名`\n",
    "*  モジュール内の関数の呼び出し: `モジュール名.関数名(引数, …)`\n",
    "*  モジュール内のクラスからオブジェクトを生成: `モジュール名.クラス名(引数, …)`"
   ]
  },
  {
   "cell_type": "code",
   "execution_count": null,
   "metadata": {},
   "outputs": [],
   "source": [
    "import math\n",
    "\n",
    "print(f'2の平方根は{math.sqrt(2)}です') # sqrt は平方根を計算する関数\n",
    "print(f'円周率は{math.pi}です') # pi は円周率の値\n",
    "print(f'小数点以下を切り捨てれば{math.floor(math.pi)}です') # floor は切り捨てする関数\n",
    "print(f'小数点以下を切り上げれば{math.ceil(math.pi)}です') # ceil は切り上げする関数"
   ]
  },
  {
   "cell_type": "markdown",
   "metadata": {},
   "source": [
    "# パッケージの利用\n"
   ]
  },
  {
   "cell_type": "markdown",
   "metadata": {},
   "source": [
    "## パッケージとは\n",
    "*  パッケージは，複数のモジュール（ファイル）をフォルダに格納したもの\n",
    "*  よって，パッケージの実体はフォルダ\n",
    "*  「フォルダ」は「ディレクトリ」と呼ぶこともある（プログラミングやシステム開発分野では「ディレクトリ」のほうが一般的）\n",
    "*  標準ライプラリの中には，パッケージにまとめられているモジュールもある\n",
    "*  例えば，httpパッケージには，ウェブ通信に関するモジュールがまとめられてる\n",
    "*  パッケージ内には必ず「`__init__.py`」が置かれる（モジュールをパッケージの一部として管理するため）\n"
   ]
  },
  {
   "cell_type": "markdown",
   "metadata": {},
   "source": [
    "## パッケージ内のモジュールのインポート\n",
    "*  パッケージ内のモジュールのインポートには，2つの記述方法がある\n",
    "*  また，記述方法によって，関数呼び出し等の機能を使用するときの記述方法も変わる\n",
    "*  記述方法その1: `import パッケージ名.モジュール名`\n",
    ">*  モジュール内の変数の参照: `パッケージ名.モジュール名.変数名`\n",
    ">*  モジュール内の関数の呼び出し: `パッケージ名.モジュール名.関数名(引数, …)`\n",
    ">*  モジュール内のクラスからオブジェクトを生成: `パッケージ名.モジュール名.クラス名(引数, …)`\n",
    "*  記述方法その2: `from パッケージ名 import モジュール名`\n",
    ">*  モジュール内の変数の参照: `モジュール名.変数名`\n",
    ">*  モジュール内の関数の呼び出し: `モジュール名.関数名(引数, …)`\n",
    ">*  モジュール内のクラスからオブジェクトを生成: `モジュール名.クラス名(引数, …)`"
   ]
  },
  {
   "cell_type": "markdown",
   "metadata": {},
   "source": [
    "### インポートの例\n",
    "*  次の2つのコードは，httpパッケージ内の clientモジュールが提供する`HTTPSConnection`クラスを利用している\n",
    "*  このクラスは，HTTPSプロトコルを使用してサーバ（引数で渡されたURLのウェブページ）に接続し，HTTPリクエストを送信し，レスポンスを受信するために使用される\n",
    "*  コードの内容は，気にしなくてよい（理解しなくてよい）\n",
    "*  ちなみに，実行後「200 OK」と表示されていれば，`'www.python.org'`と正常に接続できていることになる\n",
    "*  各コードの`import`文の違いで関数の呼び出し方が変わる点に着目する"
   ]
  },
  {
   "cell_type": "code",
   "execution_count": null,
   "metadata": {},
   "outputs": [],
   "source": [
    "import http.client\n",
    "\n",
    "# HTTPSプロトコルで接続\n",
    "conn = http.client.HTTPSConnection('www.python.org')\n",
    "\n",
    "# GETリクエストをパス'/'に送信\n",
    "conn.request('GET', '/')\n",
    "# サーバからのレスポンスを受信\n",
    "response = conn.getresponse()\n",
    "\n",
    "# ステータスと理由を表示\n",
    "print(response.status, response.reason)\n",
    "\n",
    "# 接続を閉じる\n",
    "conn.close()"
   ]
  },
  {
   "cell_type": "code",
   "execution_count": null,
   "metadata": {},
   "outputs": [],
   "source": [
    "from http import client\n",
    "\n",
    "# HTTPSプロトコルで接続\n",
    "conn = client.HTTPSConnection('www.python.org')\n",
    "\n",
    "# GETリクエストをパス'/'に送信\n",
    "conn.request('GET', '/')\n",
    "# サーバからのレスポンスを受信\n",
    "response = conn.getresponse()\n",
    "\n",
    "# ステータスと理由を表示\n",
    "print(response.status, response.reason)\n",
    "\n",
    "# 接続を閉じる\n",
    "conn.close()"
   ]
  },
  {
   "cell_type": "markdown",
   "metadata": {},
   "source": [
    "## パッケージ内のモジュールの関数だけをインポートする\n",
    "*  一般のモジュールと同様に，関数だけのインポートも可能\n",
    "*  この場合は，関数名だけで呼び出すことができる\n",
    "*  記述方法: `from パッケージ名.モジュール名 import 変数名または関数名またはクラス名`\n",
    ">*  モジュール内の変数の参照: `変数名`\n",
    ">*  モジュール内の関数の呼び出し: `関数名(引数, …)`\n",
    ">*  モジュール内のクラスからオブジェクトを生成: `クラス名(引数, …)`\n",
    "*  パッケージ名はフォルダ名，モジュール名は拡張子が「.py」のファイル名（拡張子は記述しない）となる\n",
    "*  例えば，Aというフォルダ（パッケージ）に「B.py」というファイル（モジュール）がある場合，このモジュール「B」をインポートするための記述は，`import A.B` となる"
   ]
  },
  {
   "cell_type": "code",
   "execution_count": null,
   "metadata": {},
   "outputs": [],
   "source": [
    "from http.client import HTTPSConnection\n",
    "\n",
    "# HTTPSプロトコルで接続\n",
    "conn = HTTPSConnection('www.python.org')\n",
    "\n",
    "# GETリクエストをパス'/'に送信\n",
    "conn.request('GET', '/')\n",
    "# サーバからのレスポンスを受信\n",
    "response = conn.getresponse()\n",
    "\n",
    "# ステータスと理由を表示\n",
    "print(response.status, response.reason)\n",
    "\n",
    "# 接続を閉じる\n",
    "conn.close()"
   ]
  },
  {
   "cell_type": "markdown",
   "metadata": {},
   "source": [
    "また，`as`を使えば，別名でインポートすることもできる．"
   ]
  },
  {
   "cell_type": "code",
   "execution_count": null,
   "metadata": {},
   "outputs": [],
   "source": [
    "from http.client import HTTPSConnection as https\n",
    "\n",
    "# HTTPS プロトコルで接続\n",
    "conn = https('www.python.org')\n",
    "\n",
    "# GETリクエストをパス'/'に送信\n",
    "conn.request('GET', '/')\n",
    "# サーバからのレスポンスを受信\n",
    "response = conn.getresponse()\n",
    "\n",
    "# ステータスと理由を表示\n",
    "print(response.status, response.reason)\n",
    "\n",
    "# 接続を閉じる\n",
    "conn.close()"
   ]
  },
  {
   "cell_type": "markdown",
   "metadata": {},
   "source": [
    "## 自作パッケージの利用"
   ]
  },
  {
   "cell_type": "markdown",
   "metadata": {},
   "source": [
    "### `py`ファイル（モジュール）のダウンロード\n",
    "* まず，以下のコマンドを実行して，モジュールに対応する「`fibonacci.py`」をダウンロードする\n",
    "* ダウンロードが完了すると，ノートブックに「`fibonacci.py`」が保存される（下図）\n",
    "\n",
    "> <img src=\"./fig/colab_package1.jpg\" width=\"250\">"
   ]
  },
  {
   "cell_type": "code",
   "execution_count": null,
   "metadata": {},
   "outputs": [],
   "source": [
    "# fibonacci.pyのダウンロード\n",
    "!curl -L -o fibonacci.py https://bit.ly/4dX8Ok0"
   ]
  },
  {
   "cell_type": "markdown",
   "metadata": {},
   "source": [
    "### フォルダの作成\n",
    "* ノートブック上に新しいフォルダ「`package`」を作成する\n",
    "* 下図のように適当な場所（何もない場所）で右クリックし，「新しいフォルダ」を選択する\n",
    "\n",
    "> <img src=\"./fig/colab_package2.jpg\" width=\"250\">\n",
    "\n",
    "* 新しいフォルダが表示されるので，名前を「`package`」とする\n",
    "\n",
    "> <img src=\"./fig/colab_package3.jpg\" width=\"250\">"
   ]
  },
  {
   "cell_type": "markdown",
   "metadata": {},
   "source": [
    "### ファイルの移動\n",
    "* 下図のようにマウスを使って「`fibonacci.py`」を「`package`」にドラッグ＆ドロップする\n",
    "* フォルダ「`package`」内に「`fibonacci.py`」が移動したことを確認してから，次のコードを実行する\n",
    "\n",
    "> <img src=\"./fig/colab_package4.jpg\" width=\"600\">\n",
    "\n",
    "* ここでは，`package`をパッケージ，`fibonacci.py`を`package`パッケージ内のモジュールとして考えている\n",
    "* 前述したようにパッケージ内には「`__init__.py`」を置く必要があるが，この例は，パッケージ内のモジュールの読み込みイメージをつかむためのものなので，「`__init__.py`」のことは気にしなくてよい\n"
   ]
  },
  {
   "cell_type": "code",
   "execution_count": 7,
   "metadata": {},
   "outputs": [
    {
     "name": "stdout",
     "output_type": "stream",
     "text": [
      "フィボナッチ数列の第6項: 8\n"
     ]
    }
   ],
   "source": [
    "import package.fibonacci\n",
    "n = 6\n",
    "print(f'フィボナッチ数列の第{n}項: {package.fibonacci.fib(6)}')"
   ]
  },
  {
   "cell_type": "code",
   "execution_count": 8,
   "metadata": {},
   "outputs": [
    {
     "name": "stdout",
     "output_type": "stream",
     "text": [
      "フィボナッチ数列の第6項: 8\n"
     ]
    }
   ],
   "source": [
    "from package import fibonacci\n",
    "n = 6\n",
    "print(f'フィボナッチ数列の第{n}項: {fibonacci.fib(6)}')"
   ]
  },
  {
   "cell_type": "code",
   "execution_count": 9,
   "metadata": {},
   "outputs": [
    {
     "name": "stdout",
     "output_type": "stream",
     "text": [
      "フィボナッチ数列の第6項: 8\n"
     ]
    }
   ],
   "source": [
    "from package.fibonacci import fib\n",
    "n = 6\n",
    "print(f'フィボナッチ数列の第{n}項: {fib(6)}')"
   ]
  },
  {
   "cell_type": "markdown",
   "metadata": {},
   "source": [
    "# 乱数の利用"
   ]
  },
  {
   "cell_type": "markdown",
   "metadata": {},
   "source": [
    "## 乱数とrandomモジュール\n",
    "*  乱数とはランダムで適当な数値のこと\n",
    "*  適当な数値とは，「でたらめな値」「規則性のない値」のこと\n",
    "*  身近な乱数の例: サイコロ\n",
    ">*  毎回1～6のどれかの目が出る\n",
    ">*  何回も降って出た目を並べたものは，1～6の値がでたらめに並んだもの\n",
    "*  Pythonでは，randomモジュールの関数を使って乱数を作ることができる\n",
    "*  randomモジュールは標準ライブラリとして用意されているモジュールの一つ\n"
   ]
  },
  {
   "cell_type": "markdown",
   "metadata": {},
   "source": [
    "## randomモジュールにおける代表的な関数\n",
    "|関数|機能|\n",
    "|:--|:--|\n",
    "`random.random()`| 0.0以上，1.0未満のランダムな浮動小数点数（小数）を生成する． |\n",
    "`random.randint(a, b)` | `a`以上，`b`以下のランダムな整数を生成する． |\n",
    "`random.randrange(start, stop, step)` | `start`以上，`step`未満の範囲から，`step`ごとの整数をランダムに生成する． |\n",
    "`random.choice(リスト)` | リストからランダムに1つの要素を選ぶ（タプルや文字列を指定することもできる）． |\n",
    "`random.shuffle(リスト)` | リストの要素をその場でランダムに並べ替える． |"
   ]
  },
  {
   "cell_type": "code",
   "execution_count": null,
   "metadata": {},
   "outputs": [],
   "source": [
    "import random\n",
    "print(random.random())\n",
    "print(random.randint(2, 6))\n",
    "print(random.randrange(0, 10, 3)) "
   ]
  },
  {
   "cell_type": "code",
   "execution_count": null,
   "metadata": {},
   "outputs": [],
   "source": [
    "import random\n",
    "fruits = ['apple', 'banana', 'cherry']\n",
    "print(f'randomの利用例: {random.random()}')\n",
    "print(f'randintの利用例: {random.randint(1, 6)}')\n",
    "print(f'choiceの利用例: {random.choice(fruits)}')\n"
   ]
  },
  {
   "cell_type": "code",
   "execution_count": null,
   "metadata": {},
   "outputs": [],
   "source": [
    "import random\n",
    "fruits = ['apple', 'banana', 'cherry']\n",
    "print(f'シャッフル前: {fruits}')\n",
    "random.shuffle(fruits)\n",
    "print(f'シャッフル後: {fruits}')"
   ]
  },
  {
   "cell_type": "markdown",
   "metadata": {},
   "source": [
    "# 数当てゲーム"
   ]
  },
  {
   "cell_type": "markdown",
   "metadata": {},
   "source": [
    "## ゲーム内容\n",
    "*  コンピュータは1～50の整数の中から，一つ数字を選ぶ\n",
    "*  数字は乱数（randomモジュール）を使って決める\n",
    "*  数字はプレイヤーには秘密とする\n",
    "*  プレイヤーはコンピュータの数を予想する（数字を一つ選ぶ）\n",
    "*  コンピュータは自分が選んだ数字よりも上か下かヒントを出す\n",
    "*  プレイヤーはできるだけ少ない回数で数字を当てる\n"
   ]
  },
  {
   "cell_type": "markdown",
   "metadata": {},
   "source": [
    "## コードと処理の流れ"
   ]
  },
  {
   "cell_type": "markdown",
   "metadata": {},
   "source": [
    "### コンピュータが選ぶ数字\n",
    "*  `random.randint(1,50)`で，1～50の数字を一つ決める\n",
    "*  その数字を変数`number`に代入する\n",
    "*  2行目の変数`n`はプレイヤーが数字を選ぶ回数をカウントするために利用するカウンタ（詳細は後述）\n",
    "\n",
    "<img src=\"./fig/09_number_guessing1.png\" width=\"500\">\n"
   ]
  },
  {
   "cell_type": "markdown",
   "metadata": {},
   "source": [
    "### 数字を選ぶ⇒ヒントを出す\n",
    "*  カウンタ（変数`n`）の値を+1する\n",
    "*  `input`関数でプレイヤーが数字を選択する \n",
    "*  変数`guess`に代入\n",
    "*  `int`関数で`int`に型変換\n",
    "*  `while`文の中（`while`ブロック）の`if`文を使って正解を判定（`while`文の構造は後述）\n",
    ">*  正解`number`とプレイヤーが選んだ数`guess`が一致 ⇒ `if`ブロック: 正解するまでの選択回数を表示して`while`文を抜ける（`break`）\n",
    ">*  正解のほうが大きい ⇒ `elif`ブロック: ヒント（もっと上です）を表示してループ\n",
    ">*  正解のほうが小さい ⇒ `else`ブロック: ヒント（もっと下です）を表示してループ\n",
    "\n",
    "<img src=\"./fig/09_number_guessing2.png\" width=\"500\">\n"
   ]
  },
  {
   "cell_type": "markdown",
   "metadata": {},
   "source": [
    "### 「数字を選ぶ⇒ヒントを出す」を当たるまで繰り返す\n",
    "*  `while True:`で，`while`ブロックの無限ループ\n",
    "*  ループしている間はカウンタ（変数`n`）の値が1ずつ増える\n",
    "*  正解するとbreakでループを抜ける\n",
    "\n",
    "<img src=\"./fig/09_number_guessing3.png\" width=\"550\">"
   ]
  },
  {
   "cell_type": "code",
   "execution_count": null,
   "metadata": {},
   "outputs": [],
   "source": [
    "import random\n",
    "n = 0\n",
    "number = random.randint(1,50)\n",
    "print('私が選んだ数字（1～50の整数）を当ててください。\\n')\n",
    "\n",
    "while True:\n",
    "    n = n + 1\n",
    "    print(f'{n}回目の挑戦！')\n",
    "    guess = input('数字（1～50の整数）を入力して下さい。 >> ')\n",
    "    guess = int(guess)\n",
    "    if number == guess:\n",
    "        print('正解！')\n",
    "        print(f'{n}回でクリア！')\n",
    "        break\n",
    "    elif number > guess:\n",
    "        print('もっと上です。\\n')\n",
    "    else:\n",
    "        print('もっと下です。\\n')"
   ]
  },
  {
   "cell_type": "markdown",
   "metadata": {},
   "source": [
    "## コードの改良\n",
    "*  入力した数字が正解の数字に対して±5の範囲に入っていれば「惜しい！」と表示されるように改良する\n",
    "*  具体的には元のコードの`if`ブロックの下に`elif`ブロックを追加する\n",
    "*  コード内で使用している`abs(数値)`は，組込み関数の一つで，引数に指定した数値の絶対値を戻り値として返す\n",
    "*  この`abs`関数を使って条件式を定義している\n",
    "*  条件式は，選択した数と正解との差の絶対値が5以下だと`True`となり，その下のブロック（`if`文）を実行する\n",
    "*  選択した数と正解との大小関係をみて，同様のヒントを出す\n",
    "\n",
    "<img src=\"./fig/09_number_guessing4.png\" width=\"400\">"
   ]
  },
  {
   "cell_type": "code",
   "execution_count": null,
   "metadata": {},
   "outputs": [],
   "source": [
    "import random\n",
    "n = 0\n",
    "number = random.randint(1,50)\n",
    "print('私が選んだ数字（1～50の整数）を当ててください。\\n')\n",
    "\n",
    "while True:\n",
    "    n = n + 1\n",
    "    print(f'{n}回目の挑戦！')\n",
    "    guess = input('数字（1～50の整数）を入力して下さい。 >> ')\n",
    "    guess = int(guess)\n",
    "    if number == guess:\n",
    "        print('正解！')\n",
    "        print(f'{n}回でクリア！')\n",
    "        break\n",
    "    elif abs(number - guess) <= 5:\n",
    "        if number > guess:\n",
    "            print('惜しい！もうちょっと上です。\\n')\n",
    "        else:\n",
    "            print('惜しい！もっとちょっと下です。\\n')\n",
    "    elif number > guess:\n",
    "        print('もっと上です。\\n')\n",
    "    else:\n",
    "        print('もっと下です。\\n')"
   ]
  },
  {
   "cell_type": "markdown",
   "metadata": {},
   "source": [
    "# じゃんけんゲーム"
   ]
  },
  {
   "cell_type": "markdown",
   "metadata": {},
   "source": [
    "## ゲームの内容\n",
    "*  プレイヤーは「グー（0）」，「チョキ（1）」，「パー（2）」を数字で入力\n",
    "*  コンピュータが出す手は乱数（randomモジュール）を使って決める\n",
    "*  3回じゃんけんをして勝敗を決定\n"
   ]
  },
  {
   "cell_type": "markdown",
   "metadata": {},
   "source": [
    "## じゃんけんゲームのコード作成手順\n",
    "*  コンピュータの出す手をランダムに決めるコードを作成\n",
    "*  `input`関数を使ってプレイヤーの出す手を決めるコードを作成\n",
    "*  勝敗を判定する関数を定義したコードを作成\n",
    "*  繰返し処理を使って3回じゃんけんするコードを作成\n",
    "*  勝敗数を数えて3回勝負のじゃんけんをするコードを作成\n"
   ]
  },
  {
   "cell_type": "markdown",
   "metadata": {},
   "source": [
    "## コンピュータの手をランダムに決めるコード\n",
    "*  `hand`は，じゃんけんの手を定義するリスト\n",
    ">*  `hand[0]` ⇒ グー\n",
    ">*  `hand[1]` ⇒ チョキ\n",
    ">*  `hand[2]` ⇒ パー\n",
    "*  `random`モジュールを利用して，コンピュータの出す手 0～2 をランダムに決める\n",
    "*  `random.randint(0, 2)`: 0～2からランダムに1個整数を取り出し，変数`c`に代入\n",
    "*  `print`関数でコンピュータの手（`hand[c]`）を表示"
   ]
  },
  {
   "cell_type": "code",
   "execution_count": null,
   "metadata": {},
   "outputs": [],
   "source": [
    "import random\n",
    "hand = ['グー', 'チョキ', 'パー']\n",
    "c = random.randint(0, 2)\n",
    "print(f'コンピュータの手は{hand[c]}')"
   ]
  },
  {
   "cell_type": "markdown",
   "metadata": {},
   "source": [
    "## プレイヤーの出す手を決めるコード\n",
    "*  `input`関数で，グー（0），チョキ（1），パー（2）のいずれかを入力\n",
    "*  入力した値を変数`p`に代入（このときのデータ型はstr）\n",
    "*  `input`関数の引数にある「`\\n`」は改行を表す\n",
    "*  `int`関数で変数`p`をintに変換 ⇒ `p`は0, 1, 2のいずれかの整数となる\n",
    "*  `print`関数でプレイヤーの手（`hand[p]`）を表示\n"
   ]
  },
  {
   "cell_type": "code",
   "execution_count": null,
   "metadata": {},
   "outputs": [],
   "source": [
    "hand = ['グー', 'チョキ', 'パー']\n",
    "p = input('あなたは何を出す？\\n0=グー 1=チョキ 2=パー >> ')\n",
    "p = int(p)\n",
    "print(f'あなたの手は{hand[p]}')"
   ]
  },
  {
   "cell_type": "markdown",
   "metadata": {},
   "source": [
    "ここまでの，コードを合わせるとコンピュータとプレイヤーの手が表示できる．"
   ]
  },
  {
   "cell_type": "code",
   "execution_count": null,
   "metadata": {},
   "outputs": [],
   "source": [
    "import random\n",
    "hand = ['グー', 'チョキ', 'パー']\n",
    "print('じゃんけんをしましょう。')\n",
    "c = random.randint(0, 2)\n",
    "p = input('あなたは何を出す？\\n0=グー 1=チョキ 2=パー >> ')\n",
    "p = int(p)\n",
    "print(f'あなたの手は{hand[p]}')\n",
    "print(f'わたしの手は{hand[c]}')"
   ]
  },
  {
   "cell_type": "markdown",
   "metadata": {},
   "source": [
    "## 勝敗を判定する `judge`関数の定義\n",
    "*  引数は0～2の整数が2つ ⇒ コンピュータとプレイヤーの手 \n",
    "*  それらを，仮引数`player`と`com`に渡す\n",
    "*  `player`と`com`を使って`if`文の条件式を設定する\n"
   ]
  },
  {
   "cell_type": "markdown",
   "metadata": {},
   "source": [
    "### 単純な勝敗判定\n",
    "以下のコードのように，プレイヤー（あなた）とコンピュータ（わたし）の手の組み合わせをすべて網羅した条件式を設定すれば勝敗判定はできる．"
   ]
  },
  {
   "cell_type": "code",
   "execution_count": 21,
   "metadata": {},
   "outputs": [],
   "source": [
    "def judge(player, com):\n",
    "    if player == com:\n",
    "        print('あいこです')\n",
    "    elif player == 0 and com == 1: # あなた「グー」，わたし「チョキ」\n",
    "        print('あなたの勝ち')\n",
    "    elif player == 0 and com == 2: # あなた「グー」，わたし「パー」\n",
    "        print('わたしの勝ち')\n",
    "    elif player == 1 and com == 0: # あなた「チョキ」，わたし「グー」\n",
    "        print('わたしの勝ち')\n",
    "    elif player == 1 and com == 2: # あなた「チョキ」，わたし「パー」\n",
    "        print('あなたの勝ち')\n",
    "    elif player == 2 and com == 0: # あなた「パー」，わたし「グー」\n",
    "        print('あなたの勝ち')\n",
    "    elif player == 2 and com == 1: # あなた「パー」，わたし「チョキ」\n",
    "        print('わたしの勝ち')"
   ]
  },
  {
   "cell_type": "markdown",
   "metadata": {},
   "source": [
    "### 余りの演算を利用した勝敗判定\n",
    "*  上記コードだと条件式の数が多く複雑な`if`文となるが，あまりの演算`%`を利用すると，シンプルな構造の`if`文にすることができる\n",
    "*  aをbで割った余りa % bの定義: \n",
    ">*  a = q × b + r,   0 $\\le$ r $<$ b を満たす r （qはある整数）\n",
    "*  例: 8 % 3\n",
    ">*  8 = 2 × 3 + 2 となるので，8 % 3 = 2\n",
    "*  例: -2 % 3\n",
    ">*  -2 = -1 × 3 + 1 となるので，-2 % 3 = 1"
   ]
  },
  {
   "cell_type": "code",
   "execution_count": null,
   "metadata": {},
   "outputs": [],
   "source": [
    "print(2 % 3)\n",
    "print(1 % 3)\n",
    "print(0 % 3)\n",
    "print(-1 % 3)\n",
    "print(-2 % 3)"
   ]
  },
  {
   "cell_type": "markdown",
   "metadata": {},
   "source": [
    "上のコードの結果から，playerとcomには，以下のような関係が成り立っていることがわかる．\n",
    "\n",
    "|player| com | player - com | (player - com) % 3 |結果|\n",
    "|:-:|:-:|:-:|:-:|:-:|\n",
    "|0|0| 0 | 0 |あいこ|\n",
    "|0|1| -1 | 2 |プレイヤーの勝利|\n",
    "|0|2| -2 | 1 |コンピュータの勝利|\n",
    "|1|0| 1 | 1 |コンピュータの勝利|\n",
    "|1|1| 0 | 0 |あいこ|\n",
    "|1|2| -1 | 2 |プレイヤーの勝利|\n",
    "|2|0| 2 | 2 |プレイヤーの勝利|\n",
    "|2|1| 1 | 1 |コンピュータの勝利|\n",
    "|2|2| 0 | 0 |あいこ|\n",
    "\n",
    "※ 0=グー，1=チョキ，2=パー\n",
    "\n",
    "したがって，(player - com) % 3の演算結果0～2を使って勝敗判定ができる．\n",
    "*  0 ⇒ あいこ\n",
    "*  1 ⇒ コンピュータの勝利\n",
    "*  2 ⇒ プレイヤーの勝利"
   ]
  },
  {
   "cell_type": "code",
   "execution_count": 23,
   "metadata": {},
   "outputs": [],
   "source": [
    "def judge(player, com):\n",
    "    m = (player - com) % 3\n",
    "    if m == 0:\n",
    "        print('あいこです')\n",
    "    elif m == 1:\n",
    "        print('わたしの勝ち')\n",
    "    else:\n",
    "        print('あなたの勝ち')"
   ]
  },
  {
   "cell_type": "markdown",
   "metadata": {},
   "source": [
    "ここまでの，コードを合わせるとコンピュータとプレイヤーのじゃんけんが実現できる．"
   ]
  },
  {
   "cell_type": "code",
   "execution_count": null,
   "metadata": {},
   "outputs": [],
   "source": [
    "import random\n",
    "\n",
    "def judge(player, com):\n",
    "    m = (player - com) % 3\n",
    "    if m == 0:\n",
    "        print('あいこです')\n",
    "    elif m == 1:\n",
    "        print('わたしの勝ち')\n",
    "    else:\n",
    "        print('あなたの勝ち')\n",
    "\n",
    "hand = ['グー', 'チョキ', 'パー']\n",
    "\n",
    "print('じゃんけんをしましょう。')\n",
    "c = random.randint(0, 2)\n",
    "p = input('あなたは何を出す？\\n0=グー 1=チョキ 2=パー >> ')\n",
    "p = int(p)\n",
    "print(f'あなたの手は{hand[p]}')\n",
    "print(f'わたしの手は{hand[c]}')\n",
    "\n",
    "judge(p, c)"
   ]
  },
  {
   "cell_type": "markdown",
   "metadata": {},
   "source": [
    "### ディクショナリを利用した勝敗判定\n",
    "*  さらに，上記コードを改良する\n",
    "*  judge関数の改良\n",
    ">*  `(player - com) % 3`の演算結果を `judge`関数の戻り値とする\n",
    ">*  0 ⇒ あいこ，1 ⇒ コンピュータの勝利，2 ⇒ プレイヤーの勝利\n",
    "*  ディクショナリの利用\n",
    ">*  追加するコード: `results = {0:'あいこです', 1:'わたしの勝ち', 2:'あなたの勝ち'}`\n",
    ">*  あらかじめ，「あいこです」「わたしの勝ち」「あなたの勝ち」をディクショナリの値として定義しておく\n",
    ">*  キーは，それらの結果に対応する0～2の整数値（`judge`関数の戻り値）とする\n",
    ">*  17～18行目のコードで勝敗に応じたメッセージが取得できる\n"
   ]
  },
  {
   "cell_type": "code",
   "execution_count": null,
   "metadata": {},
   "outputs": [],
   "source": [
    "import random\n",
    "\n",
    "def judge(player, com):\n",
    "    m = (player - com) % 3\n",
    "    return m\n",
    "\n",
    "results = {0:'あいこです', 1:'わたしの勝ち', 2:'あなたの勝ち'}\n",
    "hand = ['グー', 'チョキ', 'パー']\n",
    "\n",
    "print('じゃんけんをしましょう。')\n",
    "c = random.randint(0, 2)\n",
    "p = input('あなたは何を出す？\\n0=グー 1=チョキ 2=パー >> ')\n",
    "p = int(p)\n",
    "print(f'あなたの手は{hand[p]}')\n",
    "print(f'わたしの手は{hand[c]}')\n",
    "\n",
    "j = judge(p, c) # 勝敗0~2を取得\n",
    "print(results[j]) # 勝敗に応じたメッセージをディクショナリから取得"
   ]
  },
  {
   "cell_type": "markdown",
   "metadata": {},
   "source": [
    "## 3回じゃんけんするコード\n",
    "* `for`文で以下の処理を3回繰り返す\n",
    ">*  プレイヤーの手を決定\n",
    ">*  コンピュータの手を決定\n",
    ">*  勝敗判定\n",
    "*  これらの処理は，既に作成済み"
   ]
  },
  {
   "cell_type": "code",
   "execution_count": null,
   "metadata": {},
   "outputs": [],
   "source": [
    "import random\n",
    "\n",
    "def judge(player, com):\n",
    "    m = (player - com) % 3\n",
    "    return m\n",
    "\n",
    "results = {0:'あいこです', 1:'わたしの勝ち', 2:'あなたの勝ち'}\n",
    "hand = ['グー', 'チョキ', 'パー']\n",
    "\n",
    "print('わたしと3回じゃんけんをしましょう。')\n",
    "\n",
    "for i in range(3):\n",
    "    print(f'\\n{i+1}回目のじゃんけん')\n",
    "    c = random.randint(0, 2)\n",
    "    p = input('あなたは何を出す？\\n0=グー 1=チョキ 2=パー >> ')\n",
    "    p = int(p)\n",
    "    print(f'あなたの手は{hand[p]}')\n",
    "    print(f'わたしの手は{hand[c]}')\n",
    "    j = judge(p, c)\n",
    "    print(results[j])"
   ]
  },
  {
   "cell_type": "markdown",
   "metadata": {},
   "source": [
    "## 3回勝負のじゃんけんをするコード（完成）\n",
    "*  さらに，勝ち数の多いほうが勝者となるコードに改良する\n",
    "*  変数`player_win`をプレイヤーの勝ち数を格納するための変数とする\n",
    "*  変数`com_win`をコンピュータの勝ち数を格納するための変数とする\n",
    "*  じゃんけんを3回行ったら，これら2つの変数を比較して，勝者を判別する"
   ]
  },
  {
   "cell_type": "code",
   "execution_count": null,
   "metadata": {},
   "outputs": [],
   "source": [
    "import random\n",
    "\n",
    "def judge(player, com):\n",
    "    m = (player - com) % 3\n",
    "    return m\n",
    "\n",
    "results = {0:'あいこです', 1:'わたしの勝ち', 2:'あなたの勝ち'}\n",
    "hand = ['グー', 'チョキ', 'パー']\n",
    "\n",
    "player_win = 0\n",
    "com_win = 0\n",
    "\n",
    "print('わたしと3回勝負のじゃんけんをしましょう。')\n",
    "\n",
    "for i in range(3):\n",
    "    print(f'\\n{i+1}回目のじゃんけん')\n",
    "    c = random.randint(0, 2)\n",
    "    p = input('あなたは何を出す？\\n0=グー 1=チョキ 2=パー >> ')\n",
    "    p = int(p)\n",
    "    print(f'あなたの手は{hand[p]}')\n",
    "    print(f'わたしの手は{hand[c]}')\n",
    "    \n",
    "    j = judge(p, c)\n",
    "    print(results[j])\n",
    "    # 勝ち数をカウント\n",
    "    if j == 1:\n",
    "        com_win += 1\n",
    "    elif j == 2:\n",
    "        player_win += 1\n",
    "\n",
    "# 3回勝負の勝敗判定\n",
    "print('\\n--------------------') # 区切り線\n",
    "print(f'あなたは{player_win}回勝ちました。')\n",
    "print(f'わたしは{com_win}回勝ちました。')\n",
    "if player_win > com_win:\n",
    "    print('あなたの勝利！')\n",
    "elif com_win > player_win:\n",
    "    print('わたしの勝利！')\n",
    "else:\n",
    "    print('引き分けです。')"
   ]
  },
  {
   "cell_type": "markdown",
   "metadata": {},
   "source": [
    "# 実習\n",
    "以下の要件を満たすコードを作成しなさい．\n",
    "\n",
    "**＜要件＞**\n",
    "*  すでに入力されているコードは削除・変更しない\n",
    "*  「# ここにコードを記述」のある行にだけコードを追加で記述する\n",
    "*  コメントはすべて削除する\n",
    "*  以下の動作をするように`while`ブロックを完成させる\n",
    ">*  randomモジュールの関数を利用してリスト`omikuji`の要素からランダムに一つ要素を選ぶ\n",
    ">*  選んだ結果に応じて「あなたの運勢は○○です」と表示する\n",
    ">*  8行目の`input`関数で，1 または 2を入力し，1であれば再度おみくじを引き，2であれば終了する\n",
    "*  実行結果の一例は下図のとおり\n",
    "\n",
    "> <img src=\"./fig/exercise09_result.jpg\" width=\"400\">"
   ]
  },
  {
   "cell_type": "code",
   "execution_count": null,
   "metadata": {},
   "outputs": [],
   "source": [
    "import random\n",
    "omikuji = ['大吉', '中吉', '小吉', '凶']\n",
    "print('おみくじを引きます')\n",
    "\n",
    "while True:\n",
    "    # ここにコードを記述\n",
    "    print(f'あなたの運勢は{result}です')\n",
    "    answer = int(input('もう一度おみくじを引きますか？ 1:はい 2:いいえ >>'))\n",
    "    if # ここにコードを記述\n",
    "       # ここにコードを記述"
   ]
  },
  {
   "cell_type": "markdown",
   "metadata": {},
   "source": [
    "# 参考資料\n",
    "*  柴田淳, みんなのPython 第4版, SBクリエイティブ, 2016\n",
    "*  株式会社ビープラウド(監修), リブロワークス(著), スラスラ読める Pythonふりがなプログラミング Kindle版, インプレス, 2018\n",
    "*  森巧尚, Python 1年生 体験してわかる！会話でまなべる！プログラミングのしくみ Kindle版, 翔泳社, 2017\n",
    "*  増井敏克, Pythonではじめるアルゴリズム入門 伝統的なアルゴリズムで学ぶ定石と計算量 Kindle版, 翔泳社, 2020\n",
    "*  廣瀬豪, Pythonで作って学べるゲームのアルゴリズム入門 Kindle版, ソーテック社, 2021\n",
    "\n"
   ]
  }
 ],
 "metadata": {
  "colab": {
   "authorship_tag": "ABX9TyP4rf0RibbZKzyL5iY4lngz",
   "provenance": []
  },
  "kernelspec": {
   "display_name": "Python 3",
   "language": "python",
   "name": "python3"
  },
  "language_info": {
   "codemirror_mode": {
    "name": "ipython",
    "version": 3
   },
   "file_extension": ".py",
   "mimetype": "text/x-python",
   "name": "python",
   "nbconvert_exporter": "python",
   "pygments_lexer": "ipython3",
   "version": "3.12.10"
  }
 },
 "nbformat": 4,
 "nbformat_minor": 0
}
