{
 "cells": [
  {
   "cell_type": "markdown",
   "metadata": {},
   "source": [
    "# アルゴリズムとデータ構造（第1回の復習）"
   ]
  },
  {
   "cell_type": "markdown",
   "metadata": {},
   "source": [
    "## プログラムの機能と構造\n",
    "* プログラムは与えられた入力を処理して，何らかの出力を行う\n",
    "* プログラムの例\n",
    ">* 消費税計算: 入力が「税抜き金額」で出力が「消費税」\n",
    ">* 画像のサイズ変更: 入力が「元の画像」で出力が「サイズ変更後の画像」\n",
    "* プログラムを作成する際に考えること\n",
    ">* 与えられたデータをどのように保管するか？ ⇒ **データ構造**\n",
    ">* それをどのように処理するか？ ⇒ **アルゴリズム**\n",
    "\n",
    "> <img src='./fig/program_input-output.jpg' width='450'>"
   ]
  },
  {
   "cell_type": "markdown",
   "metadata": {},
   "source": [
    "## データ構造\n",
    "* データは入出力だけではない ⇒ プログラム内部で一時的に保持するデータも考慮する必要がある\n",
    "* データは複数ある ⇒ 入出力が複数の場合もある\n",
    "* データの形式や大きさなどによって適切なデータ構造は異なる\n",
    ">* 消費税計算のプログラムであれば，入出力は整数データ\n",
    ">* 商品名を扱う場合は，文字データも扱えるようにする必要がある\n",
    ">* 複数商品の平均金額を計算する場合は，小数データも扱えないとダメ\n",
    "* 扱うデータの種類によって表現方法，範囲，格納方法等の異なるデータ構造を用意する必要がある\n",
    "* 主なデータ構造の種類： 配列，連結リスト，スタック，キュー，木構造，グラフ"
   ]
  },
  {
   "cell_type": "markdown",
   "metadata": {},
   "source": [
    "## アルゴリズム\n",
    "* ソースコードを書く前に，問題解決のための処理手順などを考えておく必要がある\n",
    "* 問題を解決するための一連の処理手順をアルゴリズムと呼ぶ\n",
    "* アルゴリズムはプログラミング言語に依存しない\n",
    "* 同じ問題解決に対して，様々なアルゴリズムが存在する\n",
    "* 問題によってはアルゴリズムによって処理効率が大きく変わる\n",
    "* したがって，やみくもにアルゴリズムを考えるのは望ましくない\n",
    "* ある条件の時に誤った結果を出してしまったり，無駄な処理が含まれてしまったりする⇒悪いアルゴリズム\n",
    "* 悪いアルゴリズムに従って書かれたソースコードは，当然悪いプログラムになる\n",
    "* 多くのよいアルゴリズムを理解し，身に着けておけば，様々な場面で活用でき，最低限の労力でよいプログラムが作成できるようになる\n",
    "* アルゴリズムの要件：誰がやっても同じ結果になる\n",
    "* つまり，誰でもそのアルゴリズムに従って問題を解いたときに，正しく同じ結果を導くことができる\n",
    "* この要件を満たすためには，誰がみても同じ理解となるように，アルゴリズムを表現する必要がある ⇒ フローチャートなどの利用\n"
   ]
  },
  {
   "cell_type": "markdown",
   "metadata": {},
   "source": [
    "## アルゴリズムとデータ構造\n",
    "* プログラムでは様々なデータが処理されるがメモリの容量には限りがある ⇒ 格納できるデータの大きさには限度がある\n",
    "* 限られたコンピュータ資源を有効活用するためには，適切なデータ構造を選択し，それにあったアルゴリズムを用いる必要がある\n",
    "* データ構造が変更されるとアルゴリズムの変更も余儀なくされる ⇒ アルゴリズムはデータ構造に左右される\n",
    "  \n",
    "**アルゴリズム＋データ構造＝プログラム**\n",
    "* ニクラウス・ヴィルト (Niklaus Wirth）が残した言葉\n",
    "* Pascalというプログラミング言語を設計したスイスの計算機科学者\n"
   ]
  },
  {
   "cell_type": "markdown",
   "metadata": {
    "id": "doL5JG6TAzPG"
   },
   "source": [
    "# ユークリッドの互除法\n",
    "* 「ユークリッドの互除法」は最大公約数を**効率的に**求めるための有名なアルゴリズム\n",
    "* 2つの正の整数`a`と`b`に共通する約数（公約数）の中で最大のものを最大公約数と呼ぶ\n",
    "* 例: 9と6の最大公約数\n",
    ">* 9の約数 ⇒ 1, 3, 9 \n",
    ">* 6の約数 ⇒ 1, 2, 3, 6 \n",
    ">* よって，9と6の最大公約数は3となる\n",
    "* このアルゴリズムにおいて，入力は2つの正の整数`a`と`b`，出力はAとBの最大公約数となる"
   ]
  },
  {
   "cell_type": "markdown",
   "metadata": {
    "id": "gXZWs6NoINQK"
   },
   "source": [
    "## 最大公約数を求める単純なアルゴリズム\n",
    "* ここで，整数`a`と整数`b`に対して，`a` > `b` が成り立っているものとする\n",
    "* このアルゴリズムをフローチャートで表すと下図のようになる\n",
    ">* 整数`a`と`b`を入力する\n",
    ">* `a`と``b`を`i = 1～b`まで順番にそれぞれ割っていく\n",
    ">* 余りがどちらも0の場合には`result`に割った数`i`を代入する\n",
    ">* `b`まで計算が終わった時点で`result`に格納されている値が最大公約数となる\n",
    "\n",
    "> <img src='./fig/gcd_naive_algorithm.jpg' width='250'>\n"
   ]
  },
  {
   "cell_type": "code",
   "execution_count": null,
   "metadata": {
    "colab": {
     "base_uri": "https://localhost:8080/"
    },
    "executionInfo": {
     "elapsed": 254,
     "status": "ok",
     "timestamp": 1701055406695,
     "user": {
      "displayName": "Takahiro YOSHIDA",
      "userId": "00096252480874798687"
     },
     "user_tz": -540
    },
    "id": "rnRVVv31BiYZ",
    "outputId": "88532b49-3a72-4756-d225-70dfd619e87b"
   },
   "outputs": [],
   "source": [
    "def gcd_naive(a, b):\n",
    "    for i in range(1, b+1):\n",
    "        if (a % i == 0) and (b % i == 0):\n",
    "            result = i\n",
    "    return result\n",
    "\n",
    "integer1 = 9\n",
    "integer2 = 6\n",
    "\n",
    "result = gcd_naive(integer1, integer2)\n",
    "print(f'{integer1}と{integer2}の最大公約数: {result}')"
   ]
  },
  {
   "cell_type": "markdown",
   "metadata": {
    "id": "YITwVU4cyMeu"
   },
   "source": [
    "*  上記コード例では，9と6を1～6まで順番に割っていき，余りがどちらも0の場合には`result`に割った数を代入する\n",
    "*  計算と代入の処理の流れ:\n",
    ">* 9 ÷ 1 = 9 余り 0，6 ÷ 1 = 6 余り 0 ⇒ `result = 1`\n",
    ">* 9 ÷ 2 = 4 余り 1，6 ÷ 2 = 3 余り 0\n",
    ">* 9 ÷ 3 = 3 余り 0，6 ÷ 3 = 2 余り 0 ⇒ `result = 3`\n",
    ">* 9 ÷ 4 = 2 余り 1，6 ÷ 4 = 1 余り 2\n",
    ">* 9 ÷ 5 = 1 余り 4，6 ÷ 5 = 1 余り 1\n",
    ">* 9 ÷ 6 = 1 余り 3，6 ÷ 6 = 1 余り 0\n",
    "* 最終的に`result`に格納されている3が最大公約数となる\n",
    "*  この例の場合，余りの計算を12回実行していることになる\n",
    "*  次のコードで，余りの計算（`%`の演算）回数を数えてみる\n",
    "*  具体的には回数をカウントするための変数`cnt`を定義する\n",
    "*  余りの計算は，`if`文の条件式の評価のときに2回行っているので，`if`文の直前で変数`cnt`の値に2を足している\n",
    "*  変数`cnt`を使わなくても，`b * 2`で求めることもできる"
   ]
  },
  {
   "cell_type": "code",
   "execution_count": null,
   "metadata": {
    "colab": {
     "base_uri": "https://localhost:8080/"
    },
    "executionInfo": {
     "elapsed": 5,
     "status": "ok",
     "timestamp": 1701055457794,
     "user": {
      "displayName": "Takahiro YOSHIDA",
      "userId": "00096252480874798687"
     },
     "user_tz": -540
    },
    "id": "H5hd2v6myuqQ",
    "outputId": "bb219ebe-4d39-4e56-efd9-556306beece6"
   },
   "outputs": [],
   "source": [
    "def gcd_naive_with_counter(a, b):\n",
    "    cnt = 0\n",
    "    for i in range(1, b+1):\n",
    "        cnt += 2\n",
    "        if (a % i == 0) and (b % i == 0):\n",
    "            result = i\n",
    "    return (cnt, result)\n",
    "\n",
    "integer1 = 9\n",
    "integer2 = 6\n",
    "\n",
    "result, times = gcd_naive_with_counter(integer1, integer2)\n",
    "print(f'単純なアルゴリズムにおける余りの計算回数: {result}')\n",
    "print(f'{integer1}と{integer2}の最大公約数: {times}')"
   ]
  },
  {
   "cell_type": "markdown",
   "metadata": {
    "id": "VgJUlWmQIlqg"
   },
   "source": [
    "## ユークリッドの互除法\n",
    "* 単純なアルゴリズムでは，b × 2回の余りの計算が必要 ⇒ 効率的ではない\n",
    "* ユークリッドの互除法は，単純なアルゴリズムよりも余りの計算回数を少なくできる効率的なアルゴリズムとなる\n",
    "\n",
    "**ユークリッドの互除法のアルゴリズム（下図）**\n",
    "* 2つの整数を変数`a`と`b`にそれぞれ代入（ただし，`a` > `b` > 0とする）\n",
    "* `b`が0でない（`b != 0`）間，以下の繰り返し処理を行う:\n",
    ">* `b`を`a`，`a`を`b`で割った余りを変数`b`に代入 ⇒ `a, b = b, a % b`\n",
    "* `a`を最大公約数として出力（アルゴリズム終了）\n",
    "\n",
    "> <img src='./fig/Euclidean_Algorithm.jpg' width='200'>"
   ]
  },
  {
   "cell_type": "markdown",
   "metadata": {},
   "source": [
    "## ユークリッドの互除法の実装\n",
    "* 次のコードは，ユークリッドの互除法を実装したコードとなる\n",
    "* このコードでは，ユークリッドの互除法を関数「`gcd`」として定義している\n",
    "\n",
    "**【`gcd`関数の処理】**\n",
    "*  呼び出し側から2つの整数（実引数）を受け取り，仮引数`a`と`b`に代入する（ただし，`a`, `b` > 0 とする）\n",
    "*  `a < b` であれば，`a`と`b`の値を入れ替える\n",
    "*  `b`が0でない（`b != 0`）間，以下を繰り返す:\n",
    ">*  `a, b = b, a % b` : `b`と`a % b`を`a`と`b`にそれぞれ代入\n",
    "*  `a`を返す"
   ]
  },
  {
   "cell_type": "code",
   "execution_count": null,
   "metadata": {
    "colab": {
     "base_uri": "https://localhost:8080/"
    },
    "executionInfo": {
     "elapsed": 396,
     "status": "ok",
     "timestamp": 1698913636608,
     "user": {
      "displayName": "Takahiro YOSHIDA",
      "userId": "00096252480874798687"
     },
     "user_tz": -540
    },
    "id": "WTZbyQEJBZgv",
    "outputId": "dbf75a42-cfff-4e6b-95ae-044102e1f7e1"
   },
   "outputs": [],
   "source": [
    "def gcd(a, b):\n",
    "    if a < b:\n",
    "        a, b = b, a\n",
    "    while b != 0:\n",
    "        a, b = b, a % b\n",
    "    return a\n",
    "\n",
    "integer1 = 9\n",
    "integer2 = 6\n",
    "\n",
    "result = gcd(integer1, integer2)\n",
    "print(f'{integer1}と{integer2}の最大公約数: {result}')"
   ]
  },
  {
   "cell_type": "markdown",
   "metadata": {},
   "source": [
    "*  上記コード例における，計算と代入の処理の流れ:\n",
    ">* `b`≠0 ⇒ 9 ÷ 6 = 1 余り 3 ⇒ `a, b = 6, 3`\n",
    ">* `b`≠0 ⇒ 6 ÷ 3 = 2 余り 0 ⇒ `a, b = 3, 0`\n",
    ">* `b`=0 ⇒ 繰り返し終了\n",
    "* 最終的に`a`に格納されている3が最大公約数となる\n",
    "*  この例において，単純なアルゴリズムでは12回の余りの計算が必要であったのに対して，ユークリッドの互除法では2回の余りの計算でよい\n",
    "*  `gcd_naive_with_counter`関数と同様にして，余りの計算（`%`の演算）回数をカウントするための変数`cnt`を定義することで，ユークリッドの互除法（`gcd`関数）の余りの計算回数を求めることができる\n",
    "*  具体的には，`gcd_naive_with_counter`関数と同様に`cnt`を定義したうえで，`while`ブロック内の`a % b`の演算を行うコードの直前に`cnt += 1`と記述すればよい"
   ]
  },
  {
   "cell_type": "code",
   "execution_count": null,
   "metadata": {},
   "outputs": [],
   "source": [
    "def gcd_with_counter(a, b):\n",
    "    cnt = 0\n",
    "    if a < b:\n",
    "        a, b = b, a\n",
    "    while b != 0:\n",
    "        a, b = b, a % b\n",
    "        cnt += 1\n",
    "    return (cnt, a)\n",
    "\n",
    "integer1 = 9\n",
    "integer2 = 6\n",
    "\n",
    "result, times = gcd_with_counter(integer1, integer2)\n",
    "print(f'ユークリッドの互除法における余りの計算回数: {result}')\n",
    "print(f'{integer1}と{integer2}の最大公約数: {times}')"
   ]
  },
  {
   "cell_type": "markdown",
   "metadata": {},
   "source": [
    "# 探索アルゴリズム\n",
    "*  探索とは，複数の要素の中から，目的の要素を探す処理を指す\n",
    "*  探索対象の要素は，複数の要素をまとめて管理できるデータ構造（リストやディクショナリなどのデータ型）で取り扱う\n",
    "*  例えば，下図ような数値データを要素として格納している配列があって，この中から特定の数値があるかを探す処理が探索となる\n",
    "*  探索は非常に単純な処理ではあるが，この処理をコンピュータで実現する場合には，アルゴリズムを必要となる\n",
    "*  探索の代表的なアルゴリズムには，線形探索法，二分探索法，ハッシュ法などがある\n",
    "*  本講義では，線形探索法と二分探索法のアルゴリズムについて学習する\n",
    "*  探索アルゴリズムは，数あるアルゴリズムの中でも，基本的で，かつ単純なものであるが，アルゴリズムの本質を理解する上では非常に重要なものといえる\n",
    "\n",
    "\n",
    "> <img src=\"./fig/12_search.png\" width=\"600\">\n"
   ]
  },
  {
   "cell_type": "markdown",
   "metadata": {},
   "source": [
    "## 線形探索アルゴリズム\n",
    "*  線形探索アルゴリズム（Linear Search）は，データ構造内の要素を先頭から順番に1つずつ確認し，目的の要素を見つける単純な探索手法\n",
    "*  リストなどに対して使われ，目的の要素が見つかるまで，先頭から末尾まで逐次比較（照合）していく\n",
    "*  シンプルで理解しやすいアルゴリズムであるが，探索効率は他のアルゴリズムに比べて低いため，使いどころを考える必要がある"
   ]
  },
  {
   "cell_type": "markdown",
   "metadata": {},
   "source": [
    "### 線形探索アルゴリズムの手順\n",
    "**アルゴリズムの流れ**\n",
    "*  探索対象の要素をリストとして与える\n",
    "*  目的の要素（探索したい要素）を与える\n",
    "*  探索対象のリストの先頭の要素と目的の要素が一致するか比較\n",
    "*  一致すればその要素の位置（インデックス）を返し，一致しなければ次の要素と一致するか比較\n",
    "*  すべての要素を確認し終えても見つからなければ「見つからない」こと表す「-1」を返す\n",
    "  \n",
    "\n",
    "**具体的な変数を入れたフローチャート**  \n",
    "\n",
    "<img src=\"./fig/12_linear_search_flow.png\" width=\"300\">\n",
    "\n",
    "*  このアルゴリズムの探索回数（比較回数）は，i+1回となる（下図左）\n",
    "*  探索対象に目的の要素が存在する場合と存在しない場合のイメージ例を下図に示す（下図中央・右）\n",
    "\n",
    "> <img src=\"./fig/12_linear_search_example.png\" width=\"800\">"
   ]
  },
  {
   "cell_type": "markdown",
   "metadata": {},
   "source": [
    "### 線形探索アルゴリズムの実装例1\n",
    "*  以下のコードは探索の過程がわかるように，各回の照合データ等を表示している．  \n",
    "*  4, 5, 9, 11行目を除いたコードが，上のフローチャートのアルゴリズムに対応する．"
   ]
  },
  {
   "cell_type": "code",
   "execution_count": null,
   "metadata": {},
   "outputs": [],
   "source": [
    "data = [6, 5, 9, 2, 4, 1] # data = 探索対象\n",
    "value = 2 # value = 目的の要素\n",
    "\n",
    "print(f'データ全体 data: {data}')\n",
    "print(f'探索するデータ: {value}\\n')\n",
    "\n",
    "result = -1\n",
    "for i in range(len(data)): # 繰り返し処理\n",
    "    print(f'照合データ: {data[i]}')\n",
    "    if data[i] == value:\n",
    "        print('HIT!\\n')\n",
    "        result = i\n",
    "        break\n",
    "\n",
    "# 結果を出力\n",
    "if result != -1:\n",
    "    print(f'探索データ{value}はdata[{result}]にあります．')\n",
    "else:\n",
    "    print(f'\\n探索データ{value}は存在しません．')"
   ]
  },
  {
   "cell_type": "markdown",
   "metadata": {},
   "source": [
    "### 線形探索アルゴリズムの実装例2: 関数として実装\n",
    "*  線形探索アルゴリズムを関数「`linear_search`」として定義する\n",
    "*  `linear_search`関数には，探索対象のリスト（`data`）と探索する値（`value`）の2つを引数として渡す（仮引数と実引数の名前はともに同じとした）  \n",
    "*  処理内容は上のコードと同じ"
   ]
  },
  {
   "cell_type": "code",
   "execution_count": null,
   "metadata": {},
   "outputs": [],
   "source": [
    "def linear_search(data, value):\n",
    "    for i in range(len(data)):\n",
    "        print(f'照合データ: {data[i]}')\n",
    "        if data[i] == value:\n",
    "            print('HIT!\\n')\n",
    "            return i\n",
    "    return -1\n",
    "\n",
    "data = [6, 5, 9, 2, 4, 1]\n",
    "value = 2\n",
    "\n",
    "print(f'データ全体 data: {data}')\n",
    "print(f'探索するデータ: {value}\\n')\n",
    "\n",
    "result = linear_search(data, value)\n",
    "if result != -1:\n",
    "    print(f'探索データ{value}はdata[{result}]にあります．')\n",
    "else:\n",
    "    print(f'\\n探索データ{value}は存在しません．')"
   ]
  },
  {
   "cell_type": "markdown",
   "metadata": {},
   "source": [
    "### 線形探索アルゴリズムの実装例3: 探索（照合）回数もカウント\n",
    "*  さらに，`linear_search`関数を改良して，インデックスと探索回数（比較回数）の2つの値を戻り値とする関数「`linear_search2`」を定義する"
   ]
  },
  {
   "cell_type": "code",
   "execution_count": null,
   "metadata": {},
   "outputs": [],
   "source": [
    "def linear_search2(data, value):\n",
    "    cnt = 0\n",
    "    for i in range(len(data)):\n",
    "        print(f'照合データ: {data[i]}')\n",
    "        cnt += 1\n",
    "        if data[i] == value:\n",
    "            print('HIT!\\n')\n",
    "            return (i, cnt)\n",
    "    return (-1, cnt)\n",
    "\n",
    "data = [6, 5, 9, 2, 4, 1]\n",
    "value = 2\n",
    "\n",
    "print(f'データ全体 data: {data}')\n",
    "print(f'探索するデータ: {value}\\n')\n",
    "\n",
    "result, times = linear_search2(data, value)\n",
    "if result != -1:\n",
    "    print(f'探索データ{value}はdata[{result}]にあります．')\n",
    "    print(f'探索回数は{times}回です．')\n",
    "else:\n",
    "    print(f'\\n探索データ{value}は存在しません．')\n",
    "    print(f'探索回数は{times}回です．')"
   ]
  },
  {
   "cell_type": "markdown",
   "metadata": {},
   "source": [
    "* 上のコードでは探索回数をカウントするための変数`cnt`を使っているが，この変数を導入しなくても，`for`文内の変数`i`を利用すれば探索回数を求めることができる"
   ]
  },
  {
   "cell_type": "code",
   "execution_count": null,
   "metadata": {},
   "outputs": [],
   "source": [
    "def linear_search3(data, value):\n",
    "    for i in range(len(data)):\n",
    "        print(f'照合データ: {data[i]}')\n",
    "        if data[i] == value:\n",
    "            print('HIT!\\n')\n",
    "            return (i, i + 1)\n",
    "    return (-1, i + 1)\n",
    "\n",
    "data = [6, 5, 9, 2, 4, 1]\n",
    "value = 2\n",
    "\n",
    "print(f'データ全体 data: {data}')\n",
    "print(f'探索するデータ: {value}\\n')\n",
    "\n",
    "result, times = linear_search3(data, value)\n",
    "if result != -1:\n",
    "    print(f'探索データ{value}はdata[{result}]にあります．')\n",
    "    print(f'探索回数は{times}回です．')\n",
    "else:\n",
    "    print(f'\\n探索データ{value}は存在しません．')\n",
    "    print(f'探索回数は{times}回です．')"
   ]
  },
  {
   "cell_type": "markdown",
   "metadata": {},
   "source": [
    "### 線形探索アルゴリズムの特徴\n",
    "*  探索対象の要素がソートされていない場合でも使える\n",
    "*  探索対象の要素数が多いと効率が悪くなる\n",
    "*  そのため，要素数がが多い場合は他の探索アルゴリズム（例えば二分探索など）が推奨される"
   ]
  },
  {
   "cell_type": "markdown",
   "metadata": {},
   "source": [
    "## 二分探索アルゴリズム\n",
    "*  二分探索アルゴリズム（Binary Search）は，ソートされたリストに対して効率的に目的の要素を探すアルゴリズム\n",
    "*  このアルゴリズムはリストを半分ずつに分割しながら探索を進める"
   ]
  },
  {
   "cell_type": "markdown",
   "metadata": {},
   "source": [
    "### 二分探索アルゴリズムの手順\n",
    "**アルゴリズムの流れ**\n",
    "*  探索対象の要素をリストとして与える\n",
    "*  ただし，リストがソートされていることを前提する\n",
    "*  目的の要素（探索したい要素）を与える\n",
    "*  探索する範囲の中央にある要素と目的の要素を比較\n",
    ">*  目的の要素が中央の要素より小さい場合: 探索範囲を左半分に絞り込む\n",
    ">*  目的の要素が中央の要素より大きい場合: 探索範囲を右半分に絞り込む。\n",
    "*  絞り込んだ範囲で再び中央の要素と比較し，同様の処理を繰り返す\n",
    "*  探索範囲が1つの要素になるまで繰り返し，目的の要素が見つかればそのインデックスを返す\n",
    "*  見つからなければ「見つからない」こと表す「-1」を出力\n",
    "  \n",
    "**二分探索の動作例**\n",
    "例: ソートされたリスト`[1, 2, 4, 5, 6, 9]`に対して，目的の要素が2の場合:\n",
    "*  リストの中央の要素4を比較\n",
    "\n",
    "> <img src=\"./fig/binary_search_example1.jpg\" width=\"400\">\n",
    "\n",
    "*  目的の要素2は4より大きいので，次は左側`[1, 2]`を探索\n",
    "*  新たな中央の要素1と目的の要素を比較\n",
    "\n",
    "> <img src=\"./fig/binary_search_example2.jpg\" width=\"280\">\n",
    "\n",
    "*  目的の要素2は1より大きいので右側`[2]`を探索\n",
    "*  新たな中央の要素2と目的の要素を比較\n",
    "*  目的の要素2と一致するので，インデックス1を返す\n",
    "\n",
    "> <img src=\"./fig/binary_search_example3.jpg\" width=\"380\">\n",
    "\n",
    "*  合計探索回数（比較回数）は 3回\n",
    "\n",
    "**具体的な変数を入れたフローチャート**  \n",
    "*  `h`は探索する範囲（分割したリスト）の先頭（head）のインデックス\n",
    "*  `t`は探索する範囲（分割したリスト）の末尾（tail）のインデックス\n",
    "*  `m`は中央（middle）の要素のインデックス\n",
    "\n",
    "<img src=\"./fig/12_binary_search_flow.png\" width=\"800\">\n"
   ]
  },
  {
   "cell_type": "markdown",
   "metadata": {},
   "source": [
    "### 二分探索アルゴリズムの実装例1\n",
    "*  以下のコードは探索の過程がわかるように，各回の照合データ等を表示している \n",
    "*  4, 5, 13, 15行目を除いたコードが，上のフローチャートのアルゴリズムに対応する\n",
    "*  `m`のセット: `(h + t) // 2` ※小数切り捨て\n",
    ">*  探索範囲の要素数が偶数の場合は，中央の2つの要素のうちインデックスが小さいほうを中央の要素とする\n",
    "*  `h`の再セット: `h = m + 1`\n",
    ">*  中央の要素より大きい場合は右側を探索 ⇒ 先頭のインデクスが変わる\n",
    "*  `t`の再セット: `t = m - 1`\n",
    ">*  中央の要素より小さい場合は左側を探索 ⇒ 末尾のインデクスが変わる\n"
   ]
  },
  {
   "cell_type": "code",
   "execution_count": null,
   "metadata": {},
   "outputs": [],
   "source": [
    "data = [1, 2, 4, 5, 6, 9] # data = 探索対象\n",
    "value = 2 # value = 目的の要素\n",
    "\n",
    "print(f'データ全体 data: {data}')\n",
    "print(f'探索するデータ: {value}\\n')\n",
    "\n",
    "result = -1\n",
    "# ここから「二分探索」\n",
    "h = 0\n",
    "t = len(data) - 1\n",
    "while h <= t:\n",
    "    m = (h + t) // 2\n",
    "    print(f'照合データ: {data[m]}')\n",
    "    if data[m] == value:\n",
    "        print('HIT!\\n')\n",
    "        result = m\n",
    "        break\n",
    "    elif data[m] < value:\n",
    "        h = m + 1\n",
    "    else:\n",
    "        t = m - 1\n",
    "# ここまでが「二分探索」\n",
    "\n",
    "# 結果を出力\n",
    "if result != -1:\n",
    "    print(f'探索データ{value}はdata[{result}]にあります．')\n",
    "else:\n",
    "    print(f'\\n探索データ{value}は存在しません．')"
   ]
  },
  {
   "cell_type": "markdown",
   "metadata": {},
   "source": [
    "### 二分探索アルゴリズムの実装例2: 関数として実装\n",
    "*  二分探索アルゴリズムを関数「`binary_search`」として定義する\n",
    "*  `binary_search`関数には，探索対象のリスト（`data`）と探索する値（`value`）の2つを引数として渡す（仮引数と実引数の名前はともに同じとした）\n",
    "*  処理内容は上のコードと同じ"
   ]
  },
  {
   "cell_type": "code",
   "execution_count": null,
   "metadata": {},
   "outputs": [],
   "source": [
    "def binary_search(data, value):\n",
    "    h = 0\n",
    "    t = len(data) - 1\n",
    "    while h <= t:\n",
    "        m = (h + t) // 2\n",
    "        print(f'照合データ: {data[m]}')\n",
    "        if data[m] == value:\n",
    "            print('HIT!\\n')\n",
    "            return m\n",
    "        elif data[m] < value:\n",
    "            h = m + 1\n",
    "        else:\n",
    "            t = m - 1\n",
    "    return -1\n",
    "\n",
    "data = [1, 2, 4, 5, 6, 9]\n",
    "value = 2\n",
    "\n",
    "print(f'データ全体 data: {data}')\n",
    "print(f'探索するデータ: {value}\\n')\n",
    "\n",
    "result = binary_search(data, value)\n",
    "if result != -1:\n",
    "    print(f'探索データ{value}はdata[{result}]にあります．')\n",
    "else:\n",
    "    print(f'\\n探索データ{value}は存在しません．')"
   ]
  },
  {
   "cell_type": "markdown",
   "metadata": {},
   "source": [
    "### 二分探索アルゴリズムの実装例3: 探索（照合）回数もカウント\n",
    "*  さらに，`binary_search`関数を改良して，インデックスと探索回数（比較回数）の2つの値を戻り値とする関数「`binary_search2`」を定義することもできる\n",
    "*  具体的には，最大公約数を求めるアルゴリズムのコードと同様に，回数をカウントするための変数（カウンタ変数）を定義すればよい\n",
    "*  比較回数を数えるので，比較を行う直前で，カウンタ変数の値を1増やす処理を行えばよい"
   ]
  },
  {
   "cell_type": "code",
   "execution_count": null,
   "metadata": {},
   "outputs": [],
   "source": [
    "def binary_search2(data, value):\n",
    "    cnt = 0\n",
    "    h = 0\n",
    "    t = len(data) - 1\n",
    "    while h <= t:\n",
    "        cnt += 1\n",
    "        m = (h + t) // 2\n",
    "        print(f'照合データ: {data[m]}')\n",
    "        if data[m] == value:\n",
    "            print('HIT!\\n')\n",
    "            return (m, cnt)\n",
    "        elif data[m] < value:\n",
    "            h = m + 1\n",
    "        else:\n",
    "            t = m - 1\n",
    "    return (-1, cnt)\n",
    "\n",
    "data = [1, 2, 4, 5, 6, 9]\n",
    "value = 2\n",
    "\n",
    "print(f'データ全体 data: {data}')\n",
    "print(f'探索するデータ: {value}\\n')\n",
    "\n",
    "result, times = binary_search2(data, value)\n",
    "if result != -1:\n",
    "    print(f'探索データ{value}はdata[{result}]にあります．')\n",
    "    print(f'探索回数は{times}回です．')\n",
    "else:\n",
    "    print(f'\\n探索データ{value}は存在しません．')\n",
    "    print(f'探索回数は{times}回です．')"
   ]
  },
  {
   "cell_type": "markdown",
   "metadata": {},
   "source": [
    "### 二分探索アルゴリズムの特徴\n",
    "*  ほとんどの場合において，線形探索アルゴリズムよりも効率的\n",
    "*  探索対象の要素数が多いときに高速に動作する\n",
    "*  ただし，リストがソートされていないと使えない"
   ]
  },
  {
   "cell_type": "markdown",
   "metadata": {},
   "source": [
    "# ソートアルゴリズム"
   ]
  },
  {
   "cell_type": "markdown",
   "metadata": {},
   "source": [
    "## ソートとは\n",
    "* データを小さい順（昇順）または大きい順（降順）に整列させることをソートと呼ぶ\n",
    "* 代表的なソートアルゴリズム: 選択ソート，バブルソート，挿入ソート，クイックソート，シェルソート，マージソートなど\n",
    "* 本講義では，選択ソート，バブルソート，及びクイックソートについて学習する\n",
    "\n",
    "> <img src=\"./fig/sort.jpg\" width=\"520\">"
   ]
  },
  {
   "cell_type": "markdown",
   "metadata": {},
   "source": [
    "## 選択ソート\n"
   ]
  },
  {
   "cell_type": "markdown",
   "metadata": {},
   "source": [
    "### 選択ソートアルゴリズムの手順\n",
    "**アルゴリズムの流れ**\n",
    "*  対象とするデータの中から最小値（もしくは最大値）を見つけて，先頭のデータと交換する ⇒ これを繰返し実行する\n",
    "  \n",
    "\n",
    "**選択ソートの動作例**\n",
    "例: リスト`A = [6, 5, 9, 2, 4]`を昇順にソートする場合:\n",
    "*  5つの要素から最小の要素を探す\n",
    "*  合計4回の比較で最小値 2 が見つかる\n",
    "*  最小値の 2 とリストの先頭の要素 6 を入れ替える ⇒ 先頭の要素`A[0]`が確定する\n",
    "\n",
    "> <img src=\"./fig/selectsort_example1.jpg\" width=\"540\">\n",
    "\n",
    "*  まだ確定していない4つの要素`A[1:]`の中から最小の要素を探す\n",
    "*  合計3回の比較で最小値 4 が見つかる\n",
    "*  最小値の 4 とリストの2番目の要素 5 を入れ替える ⇒ `A[:1]`まで確定する\n",
    "\n",
    "> <img src=\"./fig/selectsort_example2.jpg\" width=\"550\">\n",
    "\n",
    "*  まだ確定していない3つの要素`A[2:]`の中から最小の要素を探す\n",
    "*  合計2回の比較で最小値 5 が見つかる\n",
    "*  最小値の 5 とリストの3番目の要素 9 を入れ替える ⇒ `A[:2]`まで確定する\n",
    "\n",
    "> <img src=\"./fig/selectsort_example3.jpg\" width=\"550\">\n",
    "\n",
    "*  まだ確定していない2つの要素`A[3:]`の中から最小の要素を探す\n",
    "*  合計1回の比較で最小値 6 が見つかる\n",
    "*  最小値の 6 とリストの4番目の要素 6 を入れ替える（つまり何もしない） ⇒ ソート完了\n",
    "*  合計比較回数（探索回数）は 10回\n",
    "\n",
    "> <img src=\"./fig/selectsort_example4.jpg\" width=\"550\">\n",
    "\n",
    "**選択ソートの合計比較回数**  \n",
    "* ソートするデータ数（リストの要素数）を$n$とする\n",
    "* 合計比較回数:\n",
    "$(n+1) + (n+2) + \\cdots + 1 = \\frac{n \\times (n-1)}{2}$\n",
    "\n",
    "\n",
    "\n",
    "**選択ソートのフローチャート**  \n",
    "*  入力: ソート対象のリスト`data`\n",
    "\n",
    "> <img src=\"./fig/selectsort_flow.jpg\" width=\"380\">\n"
   ]
  },
  {
   "cell_type": "markdown",
   "metadata": {},
   "source": [
    "### 選択ソートアルゴリズムの実装例1: 関数として実装\n",
    "*  ソート対象のリストを引数とした`select_sort`関数を定義する\n",
    "*  `select_sort`関数はソート後のリストを戻り値としている"
   ]
  },
  {
   "cell_type": "code",
   "execution_count": null,
   "metadata": {},
   "outputs": [],
   "source": [
    "def select_sort(data):\n",
    "    n = len(data)\n",
    "    for i in range(0, n-1):\n",
    "        m = i\n",
    "        for j in range(i+1, n):\n",
    "            if data[j] < data[m]:\n",
    "                m = j\n",
    "        data[i], data[m] = data[m], data[i]\n",
    "    return data\n",
    "\n",
    "a = [6, 5, 9, 2, 4]\n",
    "print(f'ソート前のデータ: {a}')\n",
    "result = select_sort(a)\n",
    "print(f'ソート後のデータ: {result}')"
   ]
  },
  {
   "cell_type": "markdown",
   "metadata": {},
   "source": [
    "### 選択ソートアルゴリズムの実装例2: 合計比較回数もカウント\n",
    "*  ソート対象のリストを引数とした`select_sort2`関数を定義する\n",
    "*  `select_sort2`関数はソート後のリストに加えて，合計比較回数も戻り値としている"
   ]
  },
  {
   "cell_type": "code",
   "execution_count": null,
   "metadata": {},
   "outputs": [],
   "source": [
    "def select_sort2(data):\n",
    "    n = len(data)\n",
    "    cnt = 0\n",
    "    for i in range(0, n-1):\n",
    "        m = i\n",
    "        for j in range(i+1, n):\n",
    "            cnt = cnt + 1\n",
    "            if data[j] < data[m]:\n",
    "                m = j\n",
    "        data[i], data[m] = data[m], data[i]\n",
    "    return (data, cnt)\n",
    "\n",
    "a = [6, 5, 9, 2, 4]\n",
    "print(f'ソート前のデータ: {a}')\n",
    "result, times = select_sort2(a)\n",
    "print(f'ソート後のデータ: {result}')\n",
    "print(f'合計比較回数: {times}')"
   ]
  },
  {
   "cell_type": "markdown",
   "metadata": {},
   "source": [
    "## バブルソート\n"
   ]
  },
  {
   "cell_type": "markdown",
   "metadata": {},
   "source": [
    "### バブルソートアルゴリズムの手順\n",
    "**アルゴリズムの流れ**\n",
    "*  隣り合った2つの要素を比較し，要素を入れ替えていく\n",
    "  \n",
    "**バブルソートの動作例**\n",
    "例: リスト`A = [6, 5, 9, 2, 4]`を昇順にソートする場合:\n",
    "*  リストの末尾の2つである`A[3]`と`A[4]`を比較し，`A[4]`のほうが小さければ，2つの要素を入れ替える\n",
    "*  `A[3]`である 2より`A[4]`である 4ほうが大きい ⇒ 入替なし\n",
    "\n",
    "> <img src=\"./fig/bubblesort_example1.jpg\" width=\"540\">\n",
    "\n",
    "*  同様の比較を左にシフトしながら順に行う\n",
    "*  `A[2]`と`A[3]`の比較 ⇒ 入替発生\n",
    "\n",
    "> <img src=\"./fig/bubblesort_example2.jpg\" width=\"540\">\n",
    "\n",
    "*  `A[1]`と`A[2]`の比較 ⇒ 入替発生\n",
    "\n",
    "> <img src=\"./fig/bubblesort_example3.jpg\" width=\"540\">\n",
    "\n",
    "*  `A[0]`と`A[1]`の比較 ⇒ 入替発生\n",
    "\n",
    "> <img src=\"./fig/bubblesort_example4.jpg\" width=\"540\">\n",
    "\n",
    "*  この時点で最小値が`A[0]`に格納されることになる\n",
    "*  ここまでの合計比較回数は 4回となる\n",
    "*  `A[0]`が確定したので，`A[1:]`に対して同様の比較・入替を行い，`A[1]`を確定する\n",
    "\n",
    "> <img src=\"./fig/bubblesort_example5.jpg\" width=\"250\">\n",
    "\n",
    "*  ここまでの合計比較回数は 4+3=7回となる\n",
    "*  同様にして，`A[2:]`に対して同様の比較・入替を行い，`A[2]`を確定する\n",
    "\n",
    "> <img src=\"./fig/bubblesort_example6.jpg\" width=\"250\">\n",
    "\n",
    "*  ここまでの合計比較回数は 4+3+2=9回となる\n",
    "*  同様にして，`A[3:]`に対して同様の比較・入替を行い，`A[3]`を確定する\n",
    "\n",
    "> <img src=\"./fig/bubblesort_example7.jpg\" width=\"250\">\n",
    "\n",
    "*  リストは`A[4]`までなので，この時点でソートが完了する\n",
    "*  よって，合計比較回数は 4+3+2+1=10回となる\n",
    "\n",
    "**バブルソートの合計比較回数**  \n",
    "* ソートするデータ数（リストの要素数）を$n$とする\n",
    "* 合計比較回数:\n",
    "$(n+1) + (n+2) + \\cdots + 1 = \\frac{n \\times (n-1)}{2}$\n",
    "\n",
    "\n",
    "**バブルソートのフローチャート**  \n",
    "*  入力: ソート対象のリスト`data`\n",
    "\n",
    "> <img src=\"./fig/bubblesort_flow.jpg\" width=\"380\">\n"
   ]
  },
  {
   "cell_type": "markdown",
   "metadata": {},
   "source": [
    "### バブルソートアルゴリズムの実装例1: 関数として実装\n",
    "*  ソート対象のリストを引数とした`bubble_sort`関数を定義する\n",
    "*  `bubble_sort`関数はソート後のリストを戻り値としている"
   ]
  },
  {
   "cell_type": "code",
   "execution_count": null,
   "metadata": {},
   "outputs": [],
   "source": [
    "def bubble_sort(data):\n",
    "    n = len(data)\n",
    "    for i in range(0, n-1):\n",
    "        for j in range(n-1, i, -1):\n",
    "            if data[j-1] > data[j]:\n",
    "                data[j], data[j-1] = data[j-1], data[j]\n",
    "    return data\n",
    "\n",
    "a = [6, 5, 9, 2, 4]\n",
    "print(f'ソート前のデータ: {a}')\n",
    "result = bubble_sort(a)\n",
    "print(f'ソート後のデータ: {result}')"
   ]
  },
  {
   "cell_type": "markdown",
   "metadata": {},
   "source": [
    "### バブルソートアルゴリズムの実装例2: 合計比較回数もカウント\n",
    "*  ソート対象のリストを引数とした`bubble_sort2`関数を定義する\n",
    "*  `bubble_sort2`関数はソート後のリストに加えて，合計比較回数も戻り値としている"
   ]
  },
  {
   "cell_type": "code",
   "execution_count": null,
   "metadata": {},
   "outputs": [],
   "source": [
    "def bubble_sort2(data):\n",
    "    n = len(data)\n",
    "    cnt = 0\n",
    "    for i in range(0, n-1):\n",
    "        for j in range(n-1, i, -1):\n",
    "            cnt = cnt + 1\n",
    "            if data[j-1] > data[j]:\n",
    "                data[j], data[j-1] = data[j-1], data[j]\n",
    "    return (data, cnt)\n",
    "\n",
    "a = [6, 5, 9, 2, 4]\n",
    "print(f'ソート前のデータ: {a}')\n",
    "result, times = bubble_sort2(a)\n",
    "print(f'ソート後のデータ: {result}')\n",
    "print(f'比較回数: {times}')"
   ]
  },
  {
   "cell_type": "markdown",
   "metadata": {},
   "source": [
    "## クイックソート\n",
    "* クイックソートは，選択ソートやバブルソートよりも高速に（少ない比較回数で）ソートできる実用的なソートアルゴリズムである\n",
    "* ただし，データの並び方によっては高速にならないこともあり得るが，多くの場合には高速なソートができる"
   ]
  },
  {
   "cell_type": "markdown",
   "metadata": {},
   "source": [
    "### クイックソートアルゴリズムの手順\n",
    "**アルゴリズムの流れ**\n",
    "*  基準となるデータ（これをピボットと呼ぶ）を選ぶ\n",
    "*  ピボットの値より小さいか，大きいかでデータを2つのグループに分割\n",
    "*  分割したグループ内で同じことを繰り返す\n",
    "\n",
    "  \n",
    "**クイックソートの動作例**\n",
    "例: リスト`A = [6, 5, 9, 2, 4]`を昇順にソートする場合:\n",
    "*  ピボットを決める（ここでは右端である`A[4]`をピボットとした）\n",
    "\n",
    "> <img src=\"./fig/quicksort_example1.jpg\" width=\"350\">\n",
    "\n",
    "* ピボットの値と各要素を比較し，ピボット以下とそれより大きい要素に分割\n",
    "* この分割に必要な比較回数: 4回\n",
    "\n",
    "> <img src=\"./fig/quicksort_example2.jpg\" width=\"460\">\n",
    "\n",
    "* 左側のグループの要素が1個なので，この時点で 2が最小値であることが確定する\n",
    "* さらに，ピボットであった 4 の位置も確定する\n",
    "* 同様の操作を分割した要素のグループごとに行い（確定しているグループは除く），すべての要素の位置が確定するまで繰り返す\n",
    "\n",
    "> <img src=\"./fig/quicksort_example3.jpg\" width=\"460\">\n",
    "\n",
    "* よって，合計比較回数は7回となる\n",
    "* クイックソートの合計比較回数は，ソート前のリストの配置によって異なる"
   ]
  },
  {
   "cell_type": "markdown",
   "metadata": {},
   "source": [
    "### クイックソートアルゴリズムの実装例1: 再帰関数として実装\n",
    "*  ソート対象のリストを引数とした`quick_sort`関数を**再帰関数**として定義する\n",
    "*  `quick_sort`関数はソート後のリストを戻り値としている\n",
    "\n",
    "**`quick_sort`関数のイメージ: リスト`A = [6, 5, 9, 2, 4]`を昇順にソートする場合**\n",
    "* 引数からピボットを取り出す\n",
    "* ピボットを基準に小さいデータ（left）と大きいデータ（right）に分割 ⇒ これらを引数として関数を再帰的に呼び出す\n",
    "* 引数のデータ数が1, または0のときは関数を呼び出さない（引数そのものを戻り値として返す）\n",
    "\n",
    "> <img src=\"./fig/quicksort_recursion.jpg\" width=\"750\">\n"
   ]
  },
  {
   "cell_type": "markdown",
   "metadata": {},
   "source": [
    "# 実習\n",
    "上記の`quick_sort`関数を実装したコードを作成しなさい．\n",
    "\n",
    "**`quick_sort`関数の概要**\n",
    "* 2～3行目: 2つの空のリスト`left_set`と`right_set`を作成\n",
    "* 5～6行目: 引数であるリスト`data`の要素数が0 or 1であれば，既に整列済みなので，引数をそのまま返す\n",
    "* 8行目: リストの末尾をピボットとして取り出す\n",
    ">* ピボットを変数`pivot`に格納\n",
    ">* 残りの要素（ピボット以外）を`data`に格納\n",
    "* 10～14行目: ピボット以外の各要素`data[i]`とピボット`pivot`を比較して`left_set`と`right_set`に分割\n",
    ">* `for`文で繰り返す`i`の範囲は`0`～`len(data)-1`（`data`のインデックスに対応）\n",
    ">* `data[i]`が`pivot`以下（`data[i] <= pivot`）であれば，リスト`left_set`に追加\n",
    ">* そうでなければ，リスト`right_set`に追加\n",
    "* 16～17行目: 分割した`left_set`と`right_set`を引数として，それぞれ再帰的に`quick_sort`関数を呼び出す\n",
    ">* 戻り値は整列済みのリストとして返ってくる\n",
    ">* 戻り値は元の引数に対応する変数にそれぞれ格納する\n",
    "* 19行目: 整列済みの`left_set`, `pivot`, `right_set`を連結し，戻り値として呼び出し元に返す\n",
    ">* リストの連結は`+`演算子を使う\n",
    ">* `pivot`はリストではないので，`[pivot]`として連結する\n",
    "\n",
    "**＜要件＞**\n",
    "*  すでに入力されているコードは削除・変更しない\n",
    "*  「# ここにコードを記述」のある行にだけコードを追加で記述する\n",
    "*  コメントはすべて削除する\n",
    "  \n",
    "**実行結果**\n",
    "```\n",
    "ソート前のデータ: [6, 5, 9, 2, 4]\n",
    "ソート後のデータ: [2, 4, 5, 6, 9]\n",
    "```"
   ]
  },
  {
   "cell_type": "code",
   "execution_count": null,
   "metadata": {},
   "outputs": [],
   "source": [
    "def quick_sort(data):\n",
    "    left_set = []\n",
    "    right_set = []\n",
    "\n",
    "    if len(data) <= 1:\n",
    "        return # ここにコードを記述\n",
    "\n",
    "    pivot = data.pop()\n",
    "\n",
    "    for i in range(len(data)):\n",
    "        if # ここにコードを記述\n",
    "            left_set.append(data[i])\n",
    "        else:\n",
    "            right_set.append(data[i])\n",
    "\n",
    "    left_set = # ここにコードを記述\n",
    "    right_set = # ここにコードを記述\n",
    "\n",
    "    return # ここにコードを記述\n",
    "\n",
    "a =  [6, 5, 9, 2, 4]\n",
    "print(f'ソート前のデータ: {a}')\n",
    "result = quick_sort(a.copy())\n",
    "print(f'ソート後のデータ: {result}')"
   ]
  },
  {
   "cell_type": "markdown",
   "metadata": {},
   "source": [
    "# 参考資料\n",
    "*  廣瀬豪, Pythonで学ぶアルゴリズムの教科書, インプレス, 2021\n",
    "*  柴田淳, みんなのPython 第4版, SBクリエイティブ, 2016\n",
    "*  廣瀬豪, Pythonで作って学べる　ゲームのアルゴリズム入門 Kindle版, ソーテック社, 2021\n",
    "*  Eric Matthes (著), 鈴木たかのり, 安田善一郎 (翻訳), 最短距離でゼロからしっかり学ぶPython入門 必修編, 技術評論社, 2020\n",
    "*  増井敏克, Pythonではじめるアルゴリズム入門 伝統的なアルゴリズムで学ぶ定石と計算量 Kindle版, 翔泳社, 2020\n",
    "\n",
    "\n",
    "\n"
   ]
  }
 ],
 "metadata": {
  "colab": {
   "authorship_tag": "ABX9TyOafK0N6FkhKvLxmc28bU52",
   "provenance": []
  },
  "kernelspec": {
   "display_name": "pythonev",
   "language": "python",
   "name": "python3"
  },
  "language_info": {
   "codemirror_mode": {
    "name": "ipython",
    "version": 3
   },
   "file_extension": ".py",
   "mimetype": "text/x-python",
   "name": "python",
   "nbconvert_exporter": "python",
   "pygments_lexer": "ipython3",
   "version": "3.10.13"
  }
 },
 "nbformat": 4,
 "nbformat_minor": 0
}
